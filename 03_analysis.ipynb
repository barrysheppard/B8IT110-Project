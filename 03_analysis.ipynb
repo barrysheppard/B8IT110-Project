{
 "cells": [
  {
   "cell_type": "markdown",
   "metadata": {},
   "source": [
    "# Data Analysis"
   ]
  },
  {
   "cell_type": "markdown",
   "metadata": {},
   "source": [
    "The aim of this Capstone project is to consolidate the knowledge, skills and competences acquired by learners during this programme. In this project students will select, specify, design, justify and implement a data analytics investigation that makes use of large data sets. The project will necessarily require data ingestion, wrangling, computation and analyses, and the production and presentation of a project and report. Students are guided by faculty in the selection of a data set, scope of investigation, initial exploratory data analysis, and formulation of hypotheses."
   ]
  },
  {
   "cell_type": "code",
   "execution_count": 1,
   "metadata": {},
   "outputs": [],
   "source": [
    "import pandas as pd\n",
    "import numpy as np\n",
    "import matplotlib as mpl\n",
    "import matplotlib.pyplot as plt\n",
    "import ast\n",
    "import re"
   ]
  },
  {
   "cell_type": "code",
   "execution_count": 2,
   "metadata": {},
   "outputs": [],
   "source": [
    "deck_df = pd.read_csv(\"data/data_decks_cleaned.csv\")"
   ]
  },
  {
   "cell_type": "markdown",
   "metadata": {},
   "source": [
    "Lets see if we can plot anything"
   ]
  },
  {
   "cell_type": "code",
   "execution_count": 3,
   "metadata": {},
   "outputs": [],
   "source": [
    "%matplotlib inline"
   ]
  },
  {
   "cell_type": "code",
   "execution_count": 4,
   "metadata": {},
   "outputs": [
    {
     "data": {
      "text/html": [
       "<div>\n",
       "<style scoped>\n",
       "    .dataframe tbody tr th:only-of-type {\n",
       "        vertical-align: middle;\n",
       "    }\n",
       "\n",
       "    .dataframe tbody tr th {\n",
       "        vertical-align: top;\n",
       "    }\n",
       "\n",
       "    .dataframe thead th {\n",
       "        text-align: right;\n",
       "    }\n",
       "</style>\n",
       "<table border=\"1\" class=\"dataframe\">\n",
       "  <thead>\n",
       "    <tr style=\"text-align: right;\">\n",
       "      <th></th>\n",
       "      <th>deck_id</th>\n",
       "      <th>deck_name</th>\n",
       "      <th>deck_wins</th>\n",
       "      <th>deck_losses</th>\n",
       "      <th>deck_expansion</th>\n",
       "      <th>house_brobnar</th>\n",
       "      <th>house_dis</th>\n",
       "      <th>house_sanctum</th>\n",
       "      <th>house_mars</th>\n",
       "      <th>house_untamed</th>\n",
       "      <th>...</th>\n",
       "      <th>Zyzzix the Many</th>\n",
       "      <th>REDACTED</th>\n",
       "      <th>Æmber Conduction Unit</th>\n",
       "      <th>Æmber Imp</th>\n",
       "      <th>Æmberspine Mongrel</th>\n",
       "      <th>“John Smyth”</th>\n",
       "      <th>“Lion” Bautrem</th>\n",
       "      <th>score</th>\n",
       "      <th>expansion_coa</th>\n",
       "      <th>expansion_aoa</th>\n",
       "    </tr>\n",
       "  </thead>\n",
       "  <tbody>\n",
       "    <tr>\n",
       "      <th>0</th>\n",
       "      <td>6216e565-a790-4e5b-b89a-4a814917b94e</td>\n",
       "      <td>Leif “As”, Granjera de la Alcantarilla</td>\n",
       "      <td>2</td>\n",
       "      <td>1</td>\n",
       "      <td>435</td>\n",
       "      <td>True</td>\n",
       "      <td>True</td>\n",
       "      <td>True</td>\n",
       "      <td>False</td>\n",
       "      <td>False</td>\n",
       "      <td>...</td>\n",
       "      <td>0</td>\n",
       "      <td>0</td>\n",
       "      <td>0</td>\n",
       "      <td>0</td>\n",
       "      <td>0</td>\n",
       "      <td>0</td>\n",
       "      <td>0</td>\n",
       "      <td>1</td>\n",
       "      <td>False</td>\n",
       "      <td>True</td>\n",
       "    </tr>\n",
       "    <tr>\n",
       "      <th>1</th>\n",
       "      <td>50e28cdd-6e6b-4584-a8d1-1f22c081e906</td>\n",
       "      <td>“Ivan” Valencia, Ship Chieftain</td>\n",
       "      <td>1</td>\n",
       "      <td>3</td>\n",
       "      <td>435</td>\n",
       "      <td>True</td>\n",
       "      <td>False</td>\n",
       "      <td>True</td>\n",
       "      <td>False</td>\n",
       "      <td>True</td>\n",
       "      <td>...</td>\n",
       "      <td>0</td>\n",
       "      <td>0</td>\n",
       "      <td>0</td>\n",
       "      <td>0</td>\n",
       "      <td>0</td>\n",
       "      <td>0</td>\n",
       "      <td>0</td>\n",
       "      <td>-2</td>\n",
       "      <td>False</td>\n",
       "      <td>True</td>\n",
       "    </tr>\n",
       "    <tr>\n",
       "      <th>2</th>\n",
       "      <td>3969e139-05d7-4a8a-ba60-0bb660cd057b</td>\n",
       "      <td>Nasir, Canal Survivalist</td>\n",
       "      <td>2</td>\n",
       "      <td>1</td>\n",
       "      <td>435</td>\n",
       "      <td>True</td>\n",
       "      <td>False</td>\n",
       "      <td>True</td>\n",
       "      <td>True</td>\n",
       "      <td>False</td>\n",
       "      <td>...</td>\n",
       "      <td>0</td>\n",
       "      <td>0</td>\n",
       "      <td>0</td>\n",
       "      <td>0</td>\n",
       "      <td>0</td>\n",
       "      <td>0</td>\n",
       "      <td>1</td>\n",
       "      <td>1</td>\n",
       "      <td>False</td>\n",
       "      <td>True</td>\n",
       "    </tr>\n",
       "    <tr>\n",
       "      <th>3</th>\n",
       "      <td>5668bdc3-dea4-4226-92ba-91b003a5460e</td>\n",
       "      <td>Destrolack, Observatory Recluse</td>\n",
       "      <td>4</td>\n",
       "      <td>4</td>\n",
       "      <td>435</td>\n",
       "      <td>False</td>\n",
       "      <td>False</td>\n",
       "      <td>True</td>\n",
       "      <td>False</td>\n",
       "      <td>True</td>\n",
       "      <td>...</td>\n",
       "      <td>0</td>\n",
       "      <td>0</td>\n",
       "      <td>0</td>\n",
       "      <td>0</td>\n",
       "      <td>0</td>\n",
       "      <td>0</td>\n",
       "      <td>0</td>\n",
       "      <td>0</td>\n",
       "      <td>False</td>\n",
       "      <td>True</td>\n",
       "    </tr>\n",
       "    <tr>\n",
       "      <th>4</th>\n",
       "      <td>749780f6-7acb-402a-9fd6-f6fbbcf888e1</td>\n",
       "      <td>Tiberius, Navigatore della Guglia Aperta</td>\n",
       "      <td>8</td>\n",
       "      <td>4</td>\n",
       "      <td>341</td>\n",
       "      <td>False</td>\n",
       "      <td>False</td>\n",
       "      <td>False</td>\n",
       "      <td>True</td>\n",
       "      <td>True</td>\n",
       "      <td>...</td>\n",
       "      <td>1</td>\n",
       "      <td>0</td>\n",
       "      <td>0</td>\n",
       "      <td>0</td>\n",
       "      <td>0</td>\n",
       "      <td>1</td>\n",
       "      <td>0</td>\n",
       "      <td>4</td>\n",
       "      <td>True</td>\n",
       "      <td>False</td>\n",
       "    </tr>\n",
       "  </tbody>\n",
       "</table>\n",
       "<p>5 rows × 589 columns</p>\n",
       "</div>"
      ],
      "text/plain": [
       "                                deck_id  \\\n",
       "0  6216e565-a790-4e5b-b89a-4a814917b94e   \n",
       "1  50e28cdd-6e6b-4584-a8d1-1f22c081e906   \n",
       "2  3969e139-05d7-4a8a-ba60-0bb660cd057b   \n",
       "3  5668bdc3-dea4-4226-92ba-91b003a5460e   \n",
       "4  749780f6-7acb-402a-9fd6-f6fbbcf888e1   \n",
       "\n",
       "                                  deck_name  deck_wins  deck_losses  \\\n",
       "0    Leif “As”, Granjera de la Alcantarilla          2            1   \n",
       "1           “Ivan” Valencia, Ship Chieftain          1            3   \n",
       "2                  Nasir, Canal Survivalist          2            1   \n",
       "3           Destrolack, Observatory Recluse          4            4   \n",
       "4  Tiberius, Navigatore della Guglia Aperta          8            4   \n",
       "\n",
       "   deck_expansion  house_brobnar  house_dis  house_sanctum  house_mars  \\\n",
       "0             435           True       True           True       False   \n",
       "1             435           True      False           True       False   \n",
       "2             435           True      False           True        True   \n",
       "3             435          False      False           True       False   \n",
       "4             341          False      False          False        True   \n",
       "\n",
       "   house_untamed  ...  Zyzzix the Many  REDACTED  Æmber Conduction Unit  \\\n",
       "0          False  ...                0         0                      0   \n",
       "1           True  ...                0         0                      0   \n",
       "2          False  ...                0         0                      0   \n",
       "3           True  ...                0         0                      0   \n",
       "4           True  ...                1         0                      0   \n",
       "\n",
       "   Æmber Imp  Æmberspine Mongrel  “John Smyth”  “Lion” Bautrem  score  \\\n",
       "0          0                   0             0               0      1   \n",
       "1          0                   0             0               0     -2   \n",
       "2          0                   0             0               1      1   \n",
       "3          0                   0             0               0      0   \n",
       "4          0                   0             1               0      4   \n",
       "\n",
       "   expansion_coa  expansion_aoa  \n",
       "0          False           True  \n",
       "1          False           True  \n",
       "2          False           True  \n",
       "3          False           True  \n",
       "4           True          False  \n",
       "\n",
       "[5 rows x 589 columns]"
      ]
     },
     "execution_count": 4,
     "metadata": {},
     "output_type": "execute_result"
    }
   ],
   "source": [
    "deck_df.head()"
   ]
  },
  {
   "cell_type": "code",
   "execution_count": 5,
   "metadata": {},
   "outputs": [
    {
     "data": {
      "text/html": [
       "<div>\n",
       "<style scoped>\n",
       "    .dataframe tbody tr th:only-of-type {\n",
       "        vertical-align: middle;\n",
       "    }\n",
       "\n",
       "    .dataframe tbody tr th {\n",
       "        vertical-align: top;\n",
       "    }\n",
       "\n",
       "    .dataframe thead th {\n",
       "        text-align: right;\n",
       "    }\n",
       "</style>\n",
       "<table border=\"1\" class=\"dataframe\">\n",
       "  <thead>\n",
       "    <tr style=\"text-align: right;\">\n",
       "      <th></th>\n",
       "      <th>deck_wins</th>\n",
       "      <th>deck_losses</th>\n",
       "      <th>deck_expansion</th>\n",
       "      <th>1-2 Punch</th>\n",
       "      <th>A Fair Game</th>\n",
       "      <th>Abond the Armorsmith</th>\n",
       "      <th>Agent Hoo-man</th>\n",
       "      <th>Ammonia Clouds</th>\n",
       "      <th>Anahita the Trader</th>\n",
       "      <th>Ancient Bear</th>\n",
       "      <th>...</th>\n",
       "      <th>Zorg</th>\n",
       "      <th>Zysysyx Shockworm</th>\n",
       "      <th>Zyzzix the Many</th>\n",
       "      <th>REDACTED</th>\n",
       "      <th>Æmber Conduction Unit</th>\n",
       "      <th>Æmber Imp</th>\n",
       "      <th>Æmberspine Mongrel</th>\n",
       "      <th>“John Smyth”</th>\n",
       "      <th>“Lion” Bautrem</th>\n",
       "      <th>score</th>\n",
       "    </tr>\n",
       "  </thead>\n",
       "  <tbody>\n",
       "    <tr>\n",
       "      <th>count</th>\n",
       "      <td>67321.000000</td>\n",
       "      <td>67321.000000</td>\n",
       "      <td>67321.000000</td>\n",
       "      <td>67321.000000</td>\n",
       "      <td>67321.000000</td>\n",
       "      <td>67321.000000</td>\n",
       "      <td>67321.000000</td>\n",
       "      <td>67321.000000</td>\n",
       "      <td>67321.000000</td>\n",
       "      <td>67321.000000</td>\n",
       "      <td>...</td>\n",
       "      <td>67321.000000</td>\n",
       "      <td>67321.000000</td>\n",
       "      <td>67321.000000</td>\n",
       "      <td>67321.000000</td>\n",
       "      <td>67321.000000</td>\n",
       "      <td>67321.000000</td>\n",
       "      <td>67321.000000</td>\n",
       "      <td>67321.000000</td>\n",
       "      <td>67321.000000</td>\n",
       "      <td>67321.000000</td>\n",
       "    </tr>\n",
       "    <tr>\n",
       "      <th>mean</th>\n",
       "      <td>2.520833</td>\n",
       "      <td>2.340949</td>\n",
       "      <td>373.913474</td>\n",
       "      <td>0.066294</td>\n",
       "      <td>0.025638</td>\n",
       "      <td>0.070513</td>\n",
       "      <td>0.066606</td>\n",
       "      <td>0.103593</td>\n",
       "      <td>0.007977</td>\n",
       "      <td>0.139615</td>\n",
       "      <td>...</td>\n",
       "      <td>0.064660</td>\n",
       "      <td>0.068909</td>\n",
       "      <td>0.115061</td>\n",
       "      <td>0.010101</td>\n",
       "      <td>0.023633</td>\n",
       "      <td>0.073424</td>\n",
       "      <td>0.028253</td>\n",
       "      <td>0.123127</td>\n",
       "      <td>0.075638</td>\n",
       "      <td>0.179884</td>\n",
       "    </tr>\n",
       "    <tr>\n",
       "      <th>std</th>\n",
       "      <td>2.452996</td>\n",
       "      <td>1.786724</td>\n",
       "      <td>44.839711</td>\n",
       "      <td>0.298569</td>\n",
       "      <td>0.160109</td>\n",
       "      <td>0.309012</td>\n",
       "      <td>0.300557</td>\n",
       "      <td>0.368056</td>\n",
       "      <td>0.089952</td>\n",
       "      <td>0.434456</td>\n",
       "      <td>...</td>\n",
       "      <td>0.266174</td>\n",
       "      <td>0.305654</td>\n",
       "      <td>0.393665</td>\n",
       "      <td>0.103355</td>\n",
       "      <td>0.164938</td>\n",
       "      <td>0.311640</td>\n",
       "      <td>0.179880</td>\n",
       "      <td>0.411228</td>\n",
       "      <td>0.321604</td>\n",
       "      <td>2.468806</td>\n",
       "    </tr>\n",
       "    <tr>\n",
       "      <th>min</th>\n",
       "      <td>0.000000</td>\n",
       "      <td>0.000000</td>\n",
       "      <td>341.000000</td>\n",
       "      <td>0.000000</td>\n",
       "      <td>0.000000</td>\n",
       "      <td>0.000000</td>\n",
       "      <td>0.000000</td>\n",
       "      <td>0.000000</td>\n",
       "      <td>0.000000</td>\n",
       "      <td>0.000000</td>\n",
       "      <td>...</td>\n",
       "      <td>0.000000</td>\n",
       "      <td>0.000000</td>\n",
       "      <td>0.000000</td>\n",
       "      <td>0.000000</td>\n",
       "      <td>0.000000</td>\n",
       "      <td>0.000000</td>\n",
       "      <td>0.000000</td>\n",
       "      <td>0.000000</td>\n",
       "      <td>0.000000</td>\n",
       "      <td>-33.000000</td>\n",
       "    </tr>\n",
       "    <tr>\n",
       "      <th>25%</th>\n",
       "      <td>1.000000</td>\n",
       "      <td>1.000000</td>\n",
       "      <td>341.000000</td>\n",
       "      <td>0.000000</td>\n",
       "      <td>0.000000</td>\n",
       "      <td>0.000000</td>\n",
       "      <td>0.000000</td>\n",
       "      <td>0.000000</td>\n",
       "      <td>0.000000</td>\n",
       "      <td>0.000000</td>\n",
       "      <td>...</td>\n",
       "      <td>0.000000</td>\n",
       "      <td>0.000000</td>\n",
       "      <td>0.000000</td>\n",
       "      <td>0.000000</td>\n",
       "      <td>0.000000</td>\n",
       "      <td>0.000000</td>\n",
       "      <td>0.000000</td>\n",
       "      <td>0.000000</td>\n",
       "      <td>0.000000</td>\n",
       "      <td>-1.000000</td>\n",
       "    </tr>\n",
       "    <tr>\n",
       "      <th>50%</th>\n",
       "      <td>2.000000</td>\n",
       "      <td>2.000000</td>\n",
       "      <td>341.000000</td>\n",
       "      <td>0.000000</td>\n",
       "      <td>0.000000</td>\n",
       "      <td>0.000000</td>\n",
       "      <td>0.000000</td>\n",
       "      <td>0.000000</td>\n",
       "      <td>0.000000</td>\n",
       "      <td>0.000000</td>\n",
       "      <td>...</td>\n",
       "      <td>0.000000</td>\n",
       "      <td>0.000000</td>\n",
       "      <td>0.000000</td>\n",
       "      <td>0.000000</td>\n",
       "      <td>0.000000</td>\n",
       "      <td>0.000000</td>\n",
       "      <td>0.000000</td>\n",
       "      <td>0.000000</td>\n",
       "      <td>0.000000</td>\n",
       "      <td>0.000000</td>\n",
       "    </tr>\n",
       "    <tr>\n",
       "      <th>75%</th>\n",
       "      <td>3.000000</td>\n",
       "      <td>3.000000</td>\n",
       "      <td>435.000000</td>\n",
       "      <td>0.000000</td>\n",
       "      <td>0.000000</td>\n",
       "      <td>0.000000</td>\n",
       "      <td>0.000000</td>\n",
       "      <td>0.000000</td>\n",
       "      <td>0.000000</td>\n",
       "      <td>0.000000</td>\n",
       "      <td>...</td>\n",
       "      <td>0.000000</td>\n",
       "      <td>0.000000</td>\n",
       "      <td>0.000000</td>\n",
       "      <td>0.000000</td>\n",
       "      <td>0.000000</td>\n",
       "      <td>0.000000</td>\n",
       "      <td>0.000000</td>\n",
       "      <td>0.000000</td>\n",
       "      <td>0.000000</td>\n",
       "      <td>2.000000</td>\n",
       "    </tr>\n",
       "    <tr>\n",
       "      <th>max</th>\n",
       "      <td>40.000000</td>\n",
       "      <td>39.000000</td>\n",
       "      <td>435.000000</td>\n",
       "      <td>4.000000</td>\n",
       "      <td>2.000000</td>\n",
       "      <td>4.000000</td>\n",
       "      <td>4.000000</td>\n",
       "      <td>4.000000</td>\n",
       "      <td>2.000000</td>\n",
       "      <td>4.000000</td>\n",
       "      <td>...</td>\n",
       "      <td>3.000000</td>\n",
       "      <td>4.000000</td>\n",
       "      <td>4.000000</td>\n",
       "      <td>2.000000</td>\n",
       "      <td>3.000000</td>\n",
       "      <td>4.000000</td>\n",
       "      <td>3.000000</td>\n",
       "      <td>5.000000</td>\n",
       "      <td>4.000000</td>\n",
       "      <td>26.000000</td>\n",
       "    </tr>\n",
       "  </tbody>\n",
       "</table>\n",
       "<p>8 rows × 578 columns</p>\n",
       "</div>"
      ],
      "text/plain": [
       "          deck_wins   deck_losses  deck_expansion     1-2 Punch   A Fair Game  \\\n",
       "count  67321.000000  67321.000000    67321.000000  67321.000000  67321.000000   \n",
       "mean       2.520833      2.340949      373.913474      0.066294      0.025638   \n",
       "std        2.452996      1.786724       44.839711      0.298569      0.160109   \n",
       "min        0.000000      0.000000      341.000000      0.000000      0.000000   \n",
       "25%        1.000000      1.000000      341.000000      0.000000      0.000000   \n",
       "50%        2.000000      2.000000      341.000000      0.000000      0.000000   \n",
       "75%        3.000000      3.000000      435.000000      0.000000      0.000000   \n",
       "max       40.000000     39.000000      435.000000      4.000000      2.000000   \n",
       "\n",
       "       Abond the Armorsmith  Agent Hoo-man  Ammonia Clouds  \\\n",
       "count          67321.000000   67321.000000    67321.000000   \n",
       "mean               0.070513       0.066606        0.103593   \n",
       "std                0.309012       0.300557        0.368056   \n",
       "min                0.000000       0.000000        0.000000   \n",
       "25%                0.000000       0.000000        0.000000   \n",
       "50%                0.000000       0.000000        0.000000   \n",
       "75%                0.000000       0.000000        0.000000   \n",
       "max                4.000000       4.000000        4.000000   \n",
       "\n",
       "       Anahita the Trader  Ancient Bear  ...          Zorg  Zysysyx Shockworm  \\\n",
       "count        67321.000000  67321.000000  ...  67321.000000       67321.000000   \n",
       "mean             0.007977      0.139615  ...      0.064660           0.068909   \n",
       "std              0.089952      0.434456  ...      0.266174           0.305654   \n",
       "min              0.000000      0.000000  ...      0.000000           0.000000   \n",
       "25%              0.000000      0.000000  ...      0.000000           0.000000   \n",
       "50%              0.000000      0.000000  ...      0.000000           0.000000   \n",
       "75%              0.000000      0.000000  ...      0.000000           0.000000   \n",
       "max              2.000000      4.000000  ...      3.000000           4.000000   \n",
       "\n",
       "       Zyzzix the Many      REDACTED  Æmber Conduction Unit     Æmber Imp  \\\n",
       "count     67321.000000  67321.000000           67321.000000  67321.000000   \n",
       "mean          0.115061      0.010101               0.023633      0.073424   \n",
       "std           0.393665      0.103355               0.164938      0.311640   \n",
       "min           0.000000      0.000000               0.000000      0.000000   \n",
       "25%           0.000000      0.000000               0.000000      0.000000   \n",
       "50%           0.000000      0.000000               0.000000      0.000000   \n",
       "75%           0.000000      0.000000               0.000000      0.000000   \n",
       "max           4.000000      2.000000               3.000000      4.000000   \n",
       "\n",
       "       Æmberspine Mongrel  “John Smyth”  “Lion” Bautrem         score  \n",
       "count        67321.000000  67321.000000    67321.000000  67321.000000  \n",
       "mean             0.028253      0.123127        0.075638      0.179884  \n",
       "std              0.179880      0.411228        0.321604      2.468806  \n",
       "min              0.000000      0.000000        0.000000    -33.000000  \n",
       "25%              0.000000      0.000000        0.000000     -1.000000  \n",
       "50%              0.000000      0.000000        0.000000      0.000000  \n",
       "75%              0.000000      0.000000        0.000000      2.000000  \n",
       "max              3.000000      5.000000        4.000000     26.000000  \n",
       "\n",
       "[8 rows x 578 columns]"
      ]
     },
     "execution_count": 5,
     "metadata": {},
     "output_type": "execute_result"
    }
   ],
   "source": [
    "deck_df.describe()"
   ]
  },
  {
   "cell_type": "markdown",
   "metadata": {},
   "source": [
    "Notable pieces of info we can see from the above:\n",
    "The max number of wins for any deck is 40 but 75% of decks have wins of 3 or less.\n",
    "Similarly, the max number of losses is 39 but 75% again are 3 or less.\n",
    "Scores range from -33 for the worst rated deck to 26 for the best rated deck, but the interquartile range is quite small going from -1 to 2."
   ]
  },
  {
   "cell_type": "code",
   "execution_count": 6,
   "metadata": {},
   "outputs": [
    {
     "data": {
      "image/png": "[encoded data removed]",
      "text/plain": [
       "<Figure size 432x288 with 1 Axes>"
      ]
     },
     "metadata": {
      "needs_background": "light"
     },
     "output_type": "display_data"
    }
   ],
   "source": [
    "decks = deck_df[['score']]\n",
    "my_plot = decks.plot(kind='hist', by='score', bins=50)"
   ]
  },
  {
   "cell_type": "markdown",
   "metadata": {},
   "source": [
    "From this plot we can see the majority of the decks in the data have a score of 0!"
   ]
  },
  {
   "cell_type": "code",
   "execution_count": 7,
   "metadata": {},
   "outputs": [
    {
     "data": {
      "image/png": "[encoded data removed]",
      "text/plain": [
       "<Figure size 432x288 with 1 Axes>"
      ]
     },
     "metadata": {
      "needs_background": "light"
     },
     "output_type": "display_data"
    }
   ],
   "source": [
    "decks = deck_df[['deck_wins']]\n",
    "my_plot = decks.plot(kind='hist', by='deck_wins', bins=40)"
   ]
  },
  {
   "cell_type": "markdown",
   "metadata": {},
   "source": [
    "So most decks have wins between 0 and 5"
   ]
  },
  {
   "cell_type": "code",
   "execution_count": 8,
   "metadata": {},
   "outputs": [
    {
     "data": {
      "image/png": "[encoded data removed]",
      "text/plain": [
       "<Figure size 432x288 with 1 Axes>"
      ]
     },
     "metadata": {
      "needs_background": "light"
     },
     "output_type": "display_data"
    }
   ],
   "source": [
    "decks = deck_df[['deck_losses']]\n",
    "my_plot = decks.plot(kind='hist', by='deck_losses', bins=40)"
   ]
  },
  {
   "cell_type": "markdown",
   "metadata": {},
   "source": [
    "and most decks have losses between 0 and 5"
   ]
  },
  {
   "cell_type": "code",
   "execution_count": 9,
   "metadata": {},
   "outputs": [
    {
     "data": {
      "text/html": [
       "<div>\n",
       "<style scoped>\n",
       "    .dataframe tbody tr th:only-of-type {\n",
       "        vertical-align: middle;\n",
       "    }\n",
       "\n",
       "    .dataframe tbody tr th {\n",
       "        vertical-align: top;\n",
       "    }\n",
       "\n",
       "    .dataframe thead th {\n",
       "        text-align: right;\n",
       "    }\n",
       "</style>\n",
       "<table border=\"1\" class=\"dataframe\">\n",
       "  <thead>\n",
       "    <tr style=\"text-align: right;\">\n",
       "      <th></th>\n",
       "      <th>deck_wins</th>\n",
       "      <th>deck_losses</th>\n",
       "      <th>score</th>\n",
       "      <th>expansion_coa</th>\n",
       "    </tr>\n",
       "  </thead>\n",
       "  <tbody>\n",
       "    <tr>\n",
       "      <th>0</th>\n",
       "      <td>2</td>\n",
       "      <td>1</td>\n",
       "      <td>1</td>\n",
       "      <td>False</td>\n",
       "    </tr>\n",
       "    <tr>\n",
       "      <th>1</th>\n",
       "      <td>1</td>\n",
       "      <td>3</td>\n",
       "      <td>-2</td>\n",
       "      <td>False</td>\n",
       "    </tr>\n",
       "    <tr>\n",
       "      <th>2</th>\n",
       "      <td>2</td>\n",
       "      <td>1</td>\n",
       "      <td>1</td>\n",
       "      <td>False</td>\n",
       "    </tr>\n",
       "    <tr>\n",
       "      <th>3</th>\n",
       "      <td>4</td>\n",
       "      <td>4</td>\n",
       "      <td>0</td>\n",
       "      <td>False</td>\n",
       "    </tr>\n",
       "    <tr>\n",
       "      <th>4</th>\n",
       "      <td>8</td>\n",
       "      <td>4</td>\n",
       "      <td>4</td>\n",
       "      <td>True</td>\n",
       "    </tr>\n",
       "  </tbody>\n",
       "</table>\n",
       "</div>"
      ],
      "text/plain": [
       "   deck_wins  deck_losses  score  expansion_coa\n",
       "0          2            1      1          False\n",
       "1          1            3     -2          False\n",
       "2          2            1      1          False\n",
       "3          4            4      0          False\n",
       "4          8            4      4           True"
      ]
     },
     "execution_count": 9,
     "metadata": {},
     "output_type": "execute_result"
    }
   ],
   "source": [
    "decks = deck_df[['deck_wins','deck_losses', 'score', 'expansion_coa']]\n",
    "decks.head()"
   ]
  },
  {
   "cell_type": "code",
   "execution_count": 10,
   "metadata": {},
   "outputs": [
    {
     "data": {
      "text/plain": [
       "expansion_coa\n",
       "False    23572\n",
       "True     43749\n",
       "dtype: int64"
      ]
     },
     "execution_count": 10,
     "metadata": {},
     "output_type": "execute_result"
    }
   ],
   "source": [
    "deck_exp = decks.groupby('expansion_coa')\n",
    "deck_exp.size()"
   ]
  },
  {
   "cell_type": "code",
   "execution_count": 11,
   "metadata": {},
   "outputs": [
    {
     "data": {
      "text/html": [
       "<div>\n",
       "<style scoped>\n",
       "    .dataframe tbody tr th:only-of-type {\n",
       "        vertical-align: middle;\n",
       "    }\n",
       "\n",
       "    .dataframe tbody tr th {\n",
       "        vertical-align: top;\n",
       "    }\n",
       "\n",
       "    .dataframe thead th {\n",
       "        text-align: right;\n",
       "    }\n",
       "</style>\n",
       "<table border=\"1\" class=\"dataframe\">\n",
       "  <thead>\n",
       "    <tr style=\"text-align: right;\">\n",
       "      <th></th>\n",
       "      <th>deck_wins</th>\n",
       "      <th>deck_losses</th>\n",
       "      <th>score</th>\n",
       "    </tr>\n",
       "    <tr>\n",
       "      <th>expansion_coa</th>\n",
       "      <th></th>\n",
       "      <th></th>\n",
       "      <th></th>\n",
       "    </tr>\n",
       "  </thead>\n",
       "  <tbody>\n",
       "    <tr>\n",
       "      <th>False</th>\n",
       "      <td>51193</td>\n",
       "      <td>51594</td>\n",
       "      <td>-401</td>\n",
       "    </tr>\n",
       "    <tr>\n",
       "      <th>True</th>\n",
       "      <td>118512</td>\n",
       "      <td>106001</td>\n",
       "      <td>12511</td>\n",
       "    </tr>\n",
       "  </tbody>\n",
       "</table>\n",
       "</div>"
      ],
      "text/plain": [
       "               deck_wins  deck_losses  score\n",
       "expansion_coa                               \n",
       "False              51193        51594   -401\n",
       "True              118512       106001  12511"
      ]
     },
     "execution_count": 11,
     "metadata": {},
     "output_type": "execute_result"
    }
   ],
   "source": [
    "deck_exp_totals = deck_exp.sum()\n",
    "deck_exp_totals.head()"
   ]
  },
  {
   "cell_type": "code",
   "execution_count": 12,
   "metadata": {},
   "outputs": [
    {
     "data": {
      "image/png": "[encoded data removed]",
      "text/plain": [
       "<Figure size 432x288 with 1 Axes>"
      ]
     },
     "metadata": {
      "needs_background": "light"
     },
     "output_type": "display_data"
    }
   ],
   "source": [
    "my_plot = deck_exp_totals.plot(kind='bar')"
   ]
  },
  {
   "cell_type": "markdown",
   "metadata": {},
   "source": [
    "From this plot we can see that there are more decks in the first Call of the Archons expansion and those decks have a better total score."
   ]
  },
  {
   "cell_type": "code",
   "execution_count": 13,
   "metadata": {},
   "outputs": [
    {
     "data": {
      "text/html": [
       "<div>\n",
       "<style scoped>\n",
       "    .dataframe tbody tr th:only-of-type {\n",
       "        vertical-align: middle;\n",
       "    }\n",
       "\n",
       "    .dataframe tbody tr th {\n",
       "        vertical-align: top;\n",
       "    }\n",
       "\n",
       "    .dataframe thead th {\n",
       "        text-align: right;\n",
       "    }\n",
       "</style>\n",
       "<table border=\"1\" class=\"dataframe\">\n",
       "  <thead>\n",
       "    <tr style=\"text-align: right;\">\n",
       "      <th></th>\n",
       "      <th>deck_id</th>\n",
       "      <th>deck_name</th>\n",
       "      <th>deck_wins</th>\n",
       "      <th>deck_losses</th>\n",
       "      <th>deck_expansion</th>\n",
       "      <th>house_brobnar</th>\n",
       "      <th>house_dis</th>\n",
       "      <th>house_sanctum</th>\n",
       "      <th>house_mars</th>\n",
       "      <th>house_untamed</th>\n",
       "      <th>...</th>\n",
       "      <th>Zyzzix the Many</th>\n",
       "      <th>REDACTED</th>\n",
       "      <th>Æmber Conduction Unit</th>\n",
       "      <th>Æmber Imp</th>\n",
       "      <th>Æmberspine Mongrel</th>\n",
       "      <th>“John Smyth”</th>\n",
       "      <th>“Lion” Bautrem</th>\n",
       "      <th>score</th>\n",
       "      <th>expansion_coa</th>\n",
       "      <th>expansion_aoa</th>\n",
       "    </tr>\n",
       "  </thead>\n",
       "  <tbody>\n",
       "    <tr>\n",
       "      <th>0</th>\n",
       "      <td>6216e565-a790-4e5b-b89a-4a814917b94e</td>\n",
       "      <td>Leif “As”, Granjera de la Alcantarilla</td>\n",
       "      <td>2</td>\n",
       "      <td>1</td>\n",
       "      <td>435</td>\n",
       "      <td>True</td>\n",
       "      <td>True</td>\n",
       "      <td>True</td>\n",
       "      <td>False</td>\n",
       "      <td>False</td>\n",
       "      <td>...</td>\n",
       "      <td>0</td>\n",
       "      <td>0</td>\n",
       "      <td>0</td>\n",
       "      <td>0</td>\n",
       "      <td>0</td>\n",
       "      <td>0</td>\n",
       "      <td>0</td>\n",
       "      <td>1</td>\n",
       "      <td>False</td>\n",
       "      <td>True</td>\n",
       "    </tr>\n",
       "    <tr>\n",
       "      <th>1</th>\n",
       "      <td>50e28cdd-6e6b-4584-a8d1-1f22c081e906</td>\n",
       "      <td>“Ivan” Valencia, Ship Chieftain</td>\n",
       "      <td>1</td>\n",
       "      <td>3</td>\n",
       "      <td>435</td>\n",
       "      <td>True</td>\n",
       "      <td>False</td>\n",
       "      <td>True</td>\n",
       "      <td>False</td>\n",
       "      <td>True</td>\n",
       "      <td>...</td>\n",
       "      <td>0</td>\n",
       "      <td>0</td>\n",
       "      <td>0</td>\n",
       "      <td>0</td>\n",
       "      <td>0</td>\n",
       "      <td>0</td>\n",
       "      <td>0</td>\n",
       "      <td>-2</td>\n",
       "      <td>False</td>\n",
       "      <td>True</td>\n",
       "    </tr>\n",
       "    <tr>\n",
       "      <th>2</th>\n",
       "      <td>3969e139-05d7-4a8a-ba60-0bb660cd057b</td>\n",
       "      <td>Nasir, Canal Survivalist</td>\n",
       "      <td>2</td>\n",
       "      <td>1</td>\n",
       "      <td>435</td>\n",
       "      <td>True</td>\n",
       "      <td>False</td>\n",
       "      <td>True</td>\n",
       "      <td>True</td>\n",
       "      <td>False</td>\n",
       "      <td>...</td>\n",
       "      <td>0</td>\n",
       "      <td>0</td>\n",
       "      <td>0</td>\n",
       "      <td>0</td>\n",
       "      <td>0</td>\n",
       "      <td>0</td>\n",
       "      <td>1</td>\n",
       "      <td>1</td>\n",
       "      <td>False</td>\n",
       "      <td>True</td>\n",
       "    </tr>\n",
       "    <tr>\n",
       "      <th>3</th>\n",
       "      <td>5668bdc3-dea4-4226-92ba-91b003a5460e</td>\n",
       "      <td>Destrolack, Observatory Recluse</td>\n",
       "      <td>4</td>\n",
       "      <td>4</td>\n",
       "      <td>435</td>\n",
       "      <td>False</td>\n",
       "      <td>False</td>\n",
       "      <td>True</td>\n",
       "      <td>False</td>\n",
       "      <td>True</td>\n",
       "      <td>...</td>\n",
       "      <td>0</td>\n",
       "      <td>0</td>\n",
       "      <td>0</td>\n",
       "      <td>0</td>\n",
       "      <td>0</td>\n",
       "      <td>0</td>\n",
       "      <td>0</td>\n",
       "      <td>0</td>\n",
       "      <td>False</td>\n",
       "      <td>True</td>\n",
       "    </tr>\n",
       "    <tr>\n",
       "      <th>4</th>\n",
       "      <td>749780f6-7acb-402a-9fd6-f6fbbcf888e1</td>\n",
       "      <td>Tiberius, Navigatore della Guglia Aperta</td>\n",
       "      <td>8</td>\n",
       "      <td>4</td>\n",
       "      <td>341</td>\n",
       "      <td>False</td>\n",
       "      <td>False</td>\n",
       "      <td>False</td>\n",
       "      <td>True</td>\n",
       "      <td>True</td>\n",
       "      <td>...</td>\n",
       "      <td>1</td>\n",
       "      <td>0</td>\n",
       "      <td>0</td>\n",
       "      <td>0</td>\n",
       "      <td>0</td>\n",
       "      <td>1</td>\n",
       "      <td>0</td>\n",
       "      <td>4</td>\n",
       "      <td>True</td>\n",
       "      <td>False</td>\n",
       "    </tr>\n",
       "  </tbody>\n",
       "</table>\n",
       "<p>5 rows × 589 columns</p>\n",
       "</div>"
      ],
      "text/plain": [
       "                                deck_id  \\\n",
       "0  6216e565-a790-4e5b-b89a-4a814917b94e   \n",
       "1  50e28cdd-6e6b-4584-a8d1-1f22c081e906   \n",
       "2  3969e139-05d7-4a8a-ba60-0bb660cd057b   \n",
       "3  5668bdc3-dea4-4226-92ba-91b003a5460e   \n",
       "4  749780f6-7acb-402a-9fd6-f6fbbcf888e1   \n",
       "\n",
       "                                  deck_name  deck_wins  deck_losses  \\\n",
       "0    Leif “As”, Granjera de la Alcantarilla          2            1   \n",
       "1           “Ivan” Valencia, Ship Chieftain          1            3   \n",
       "2                  Nasir, Canal Survivalist          2            1   \n",
       "3           Destrolack, Observatory Recluse          4            4   \n",
       "4  Tiberius, Navigatore della Guglia Aperta          8            4   \n",
       "\n",
       "   deck_expansion  house_brobnar  house_dis  house_sanctum  house_mars  \\\n",
       "0             435           True       True           True       False   \n",
       "1             435           True      False           True       False   \n",
       "2             435           True      False           True        True   \n",
       "3             435          False      False           True       False   \n",
       "4             341          False      False          False        True   \n",
       "\n",
       "   house_untamed  ...  Zyzzix the Many  REDACTED  Æmber Conduction Unit  \\\n",
       "0          False  ...                0         0                      0   \n",
       "1           True  ...                0         0                      0   \n",
       "2          False  ...                0         0                      0   \n",
       "3           True  ...                0         0                      0   \n",
       "4           True  ...                1         0                      0   \n",
       "\n",
       "   Æmber Imp  Æmberspine Mongrel  “John Smyth”  “Lion” Bautrem  score  \\\n",
       "0          0                   0             0               0      1   \n",
       "1          0                   0             0               0     -2   \n",
       "2          0                   0             0               1      1   \n",
       "3          0                   0             0               0      0   \n",
       "4          0                   0             1               0      4   \n",
       "\n",
       "   expansion_coa  expansion_aoa  \n",
       "0          False           True  \n",
       "1          False           True  \n",
       "2          False           True  \n",
       "3          False           True  \n",
       "4           True          False  \n",
       "\n",
       "[5 rows x 589 columns]"
      ]
     },
     "execution_count": 13,
     "metadata": {},
     "output_type": "execute_result"
    }
   ],
   "source": [
    "deck_df.head()"
   ]
  },
  {
   "cell_type": "markdown",
   "metadata": {},
   "source": [
    "---------------------"
   ]
  },
  {
   "cell_type": "markdown",
   "metadata": {},
   "source": [
    "In this next step we're using some basic machine learning. As one of the more reliable models, the random forest is my initial go to. After looking at how this model performs we'll assess it and consider if there are better options."
   ]
  },
  {
   "cell_type": "code",
   "execution_count": 14,
   "metadata": {},
   "outputs": [],
   "source": [
    "from sklearn.model_selection import train_test_split"
   ]
  },
  {
   "cell_type": "code",
   "execution_count": 15,
   "metadata": {},
   "outputs": [],
   "source": [
    "from sklearn.ensemble import RandomForestRegressor"
   ]
  },
  {
   "cell_type": "code",
   "execution_count": 16,
   "metadata": {},
   "outputs": [],
   "source": [
    "clf=RandomForestRegressor(n_estimators=100)"
   ]
  },
  {
   "cell_type": "code",
   "execution_count": 17,
   "metadata": {},
   "outputs": [],
   "source": [
    "x = deck_df\n",
    "x = x.drop(\"deck_id\", axis=1)\n",
    "x = x.drop(\"deck_name\", axis=1)\n",
    "x = x.drop(\"deck_wins\", axis=1)\n",
    "x = x.drop(\"deck_losses\", axis=1)\n",
    "x = x.drop(\"score\", axis=1)\n",
    "y = deck_df[['score']]"
   ]
  },
  {
   "cell_type": "code",
   "execution_count": 18,
   "metadata": {},
   "outputs": [],
   "source": [
    "x_train, x_test, y_train, y_test = train_test_split(x, y, test_size=0.3) # 70% training and 30% test"
   ]
  },
  {
   "cell_type": "code",
   "execution_count": 19,
   "metadata": {},
   "outputs": [
    {
     "name": "stdout",
     "output_type": "stream",
     "text": [
      "CPU times: user 18min 36s, sys: 24.2 s, total: 19min\n",
      "Wall time: 23min 34s\n"
     ]
    },
    {
     "data": {
      "text/plain": [
       "RandomForestRegressor(bootstrap=True, criterion='mse', max_depth=None,\n",
       "                      max_features='auto', max_leaf_nodes=None,\n",
       "                      min_impurity_decrease=0.0, min_impurity_split=None,\n",
       "                      min_samples_leaf=1, min_samples_split=2,\n",
       "                      min_weight_fraction_leaf=0.0, n_estimators=100,\n",
       "                      n_jobs=None, oob_score=False, random_state=None,\n",
       "                      verbose=0, warm_start=False)"
      ]
     },
     "execution_count": 19,
     "metadata": {},
     "output_type": "execute_result"
    }
   ],
   "source": [
    "%%time\n",
    "clf.fit(x_train, y_train.values.ravel())"
   ]
  },
  {
   "cell_type": "markdown",
   "metadata": {},
   "source": [
    "Working out this model took a significant amount of time! Lets see if that well time well spent. We'll judge the performance using r squared."
   ]
  },
  {
   "cell_type": "code",
   "execution_count": 20,
   "metadata": {},
   "outputs": [],
   "source": [
    "y_pred=clf.predict(x_test)"
   ]
  },
  {
   "cell_type": "code",
   "execution_count": 21,
   "metadata": {},
   "outputs": [
    {
     "name": "stdout",
     "output_type": "stream",
     "text": [
      "Accuracy: 0.061072490597579465\n"
     ]
    }
   ],
   "source": [
    "from sklearn import metrics\n",
    "print(\"Accuracy:\",metrics.r2_score(y_test, y_pred))"
   ]
  },
  {
   "cell_type": "code",
   "execution_count": 22,
   "metadata": {},
   "outputs": [
    {
     "data": {
      "text/plain": [
       "house_shadows             0.019041\n",
       "Relentless Whispers       0.008015\n",
       "Dust Pixie                0.007403\n",
       "Wild Wormhole             0.006763\n",
       "Hunting Witch             0.006753\n",
       "Mother                    0.006734\n",
       "Shooler                   0.006663\n",
       "Nerve Blast               0.006419\n",
       "Labwork                   0.006202\n",
       "Urchin                    0.006167\n",
       "Control the Weak          0.005569\n",
       "Charette                  0.005475\n",
       "Dust Imp                  0.005351\n",
       "Nature’s Call             0.005313\n",
       "Ganger Chieftain          0.005159\n",
       "Bait and Switch           0.005061\n",
       "Miasma                    0.005038\n",
       "Lost in the Woods         0.004763\n",
       "Routine Job               0.004529\n",
       "Punch                     0.004498\n",
       "Succubus                  0.004426\n",
       "Blinding Light            0.004389\n",
       "Bad Penny                 0.004314\n",
       "Ghostly Hand              0.004289\n",
       "Library of Babble         0.004265\n",
       "Three Fates               0.004231\n",
       "Ember Imp                 0.004145\n",
       "Quixo the “Adventurer”    0.004067\n",
       "Umbra                     0.004064\n",
       "Regrowth                  0.003951\n",
       "                            ...   \n",
       "Po’s Pixies               0.000281\n",
       "Eye of Judgment           0.000280\n",
       "Punctuated Equilibrium    0.000280\n",
       "Ortannu the Chained       0.000278\n",
       "Destructive Analysis      0.000277\n",
       "Earthbind                 0.000266\n",
       "Sack of Coins             0.000266\n",
       "Shard of Knowledge        0.000263\n",
       "Ortannu’s Binding         0.000263\n",
       "The Curator               0.000259\n",
       "Scowly Caper              0.000259\n",
       "Dis Ambassador            0.000227\n",
       "Shard of Pain             0.000225\n",
       "Seraphic Armor            0.000220\n",
       "Mars Ambassador           0.000220\n",
       "Signal Fire               0.000214\n",
       "Forgemaster Og            0.000192\n",
       "Heist Night               0.000191\n",
       "Shard of Hope             0.000184\n",
       "Logos Ambassador          0.000182\n",
       "Shard of Hate             0.000165\n",
       "Grumpus Tamer             0.000158\n",
       "Shadows Ambassador        0.000148\n",
       "expansion_aoa             0.000139\n",
       "Shard of Life             0.000135\n",
       "Brobnar Ambassador        0.000127\n",
       "Shard of Greed            0.000126\n",
       "deck_expansion            0.000116\n",
       "expansion_coa             0.000114\n",
       "Shard of Strength         0.000093\n",
       "Length: 584, dtype: float64"
      ]
     },
     "execution_count": 22,
     "metadata": {},
     "output_type": "execute_result"
    }
   ],
   "source": [
    "feature_imp = pd.Series(clf.feature_importances_,index=x.columns).sort_values(ascending=False)\n",
    "feature_imp"
   ]
  },
  {
   "cell_type": "markdown",
   "metadata": {},
   "source": [
    "So the random forest didn't work out well. On consideration, the data isn't really well suited for a decision tree. There are over 500 variables and only a very small percentage of those are going to have non zero values."
   ]
  },
  {
   "cell_type": "markdown",
   "metadata": {},
   "source": [
    "-------"
   ]
  },
  {
   "cell_type": "markdown",
   "metadata": {},
   "source": [
    "Instead of looking at all the cards, lets try a simplier model using just the houses"
   ]
  },
  {
   "cell_type": "code",
   "execution_count": 23,
   "metadata": {},
   "outputs": [],
   "source": [
    "x = deck_df[['house_brobnar','house_dis','house_sanctum','house_mars','house_untamed','house_shadows', 'house_logos']]\n",
    "y = deck_df[['score']]"
   ]
  },
  {
   "cell_type": "code",
   "execution_count": 24,
   "metadata": {},
   "outputs": [
    {
     "data": {
      "text/plain": [
       "RandomForestRegressor(bootstrap=True, criterion='mse', max_depth=None,\n",
       "                      max_features='auto', max_leaf_nodes=None,\n",
       "                      min_impurity_decrease=0.0, min_impurity_split=None,\n",
       "                      min_samples_leaf=1, min_samples_split=2,\n",
       "                      min_weight_fraction_leaf=0.0, n_estimators=100,\n",
       "                      n_jobs=None, oob_score=False, random_state=None,\n",
       "                      verbose=0, warm_start=False)"
      ]
     },
     "execution_count": 24,
     "metadata": {},
     "output_type": "execute_result"
    }
   ],
   "source": [
    "x_train, x_test, y_train, y_test = train_test_split(x, y, test_size=0.3) # 70% training and 30% test\n",
    "clf.fit(x_train, y_train.values.ravel())"
   ]
  },
  {
   "cell_type": "code",
   "execution_count": 25,
   "metadata": {},
   "outputs": [],
   "source": [
    "y_pred=clf.predict(x_test)"
   ]
  },
  {
   "cell_type": "code",
   "execution_count": 26,
   "metadata": {},
   "outputs": [
    {
     "name": "stdout",
     "output_type": "stream",
     "text": [
      "Accuracy: 0.02370433080807588\n"
     ]
    }
   ],
   "source": [
    "print(\"Accuracy:\",metrics.r2_score(y_test, y_pred))"
   ]
  },
  {
   "cell_type": "code",
   "execution_count": 27,
   "metadata": {},
   "outputs": [
    {
     "data": {
      "text/plain": [
       "house_shadows    0.746133\n",
       "house_mars       0.096809\n",
       "house_dis        0.056371\n",
       "house_sanctum    0.030727\n",
       "house_brobnar    0.029450\n",
       "house_untamed    0.020670\n",
       "house_logos      0.019840\n",
       "dtype: float64"
      ]
     },
     "execution_count": 27,
     "metadata": {},
     "output_type": "execute_result"
    }
   ],
   "source": [
    "feature_imp = pd.Series(clf.feature_importances_,index=x.columns).sort_values(ascending=False)\n",
    "feature_imp"
   ]
  },
  {
   "cell_type": "code",
   "execution_count": 28,
   "metadata": {},
   "outputs": [
    {
     "name": "stderr",
     "output_type": "stream",
     "text": [
      "No handles with labels found to put in legend.\n"
     ]
    },
    {
     "data": {
      "image/png": "[encoded data removed]",
      "text/plain": [
       "<Figure size 432x288 with 1 Axes>"
      ]
     },
     "metadata": {
      "needs_background": "light"
     },
     "output_type": "display_data"
    }
   ],
   "source": [
    "import matplotlib.pyplot as plt\n",
    "import seaborn as sns\n",
    "%matplotlib inline\n",
    "# Creating a bar plot\n",
    "sns.barplot(x=feature_imp, y=feature_imp.index)\n",
    "# Add labels to your graph\n",
    "plt.xlabel('Feature Importance Score')\n",
    "plt.ylabel('Features')\n",
    "plt.title(\"Visualizing Important Features\")\n",
    "plt.legend()\n",
    "plt.show()"
   ]
  },
  {
   "cell_type": "markdown",
   "metadata": {},
   "source": [
    "Despite the poor predictive performance, the model has indicated the shadows house is the most important feature which matches the experience of players of the game."
   ]
  },
  {
   "cell_type": "markdown",
   "metadata": {},
   "source": [
    "---------------"
   ]
  },
  {
   "cell_type": "markdown",
   "metadata": {},
   "source": [
    "On consideration of the data and the options, it may be that a simple linear model actually gets the best performance. Each of card will end up with a coeffecient that could be considered a rating of how good it is. If you draw a card with a high coeffecient then you're more likely to win, but if you draw a card with a low coeffecient then you're more likely to lose."
   ]
  },
  {
   "cell_type": "code",
   "execution_count": 29,
   "metadata": {},
   "outputs": [],
   "source": [
    "X = deck_df.drop(['deck_id', 'deck_name', 'deck_wins', 'deck_losses', 'score',\n",
    "                  'house_shadows', 'house_mars', 'house_untamed',\n",
    "                  'house_logos', 'house_dis', 'house_sanctum',\n",
    "                  'house_brobnar', 'deck_expansion', 'expansion_coa',\n",
    "                  'expansion_aoa'], axis=1)\n",
    "y = deck_df[['score']]"
   ]
  },
  {
   "cell_type": "code",
   "execution_count": 39,
   "metadata": {},
   "outputs": [],
   "source": [
    "x_train, x_test, y_train, y_test = train_test_split(X, y, test_size=0.3) # 70% training and 30% test"
   ]
  },
  {
   "cell_type": "code",
   "execution_count": 40,
   "metadata": {},
   "outputs": [],
   "source": [
    "from sklearn import linear_model"
   ]
  },
  {
   "cell_type": "code",
   "execution_count": 41,
   "metadata": {},
   "outputs": [],
   "source": [
    "lm = linear_model.LinearRegression()\n",
    "model = lm.fit(x_train,y_train)"
   ]
  },
  {
   "cell_type": "code",
   "execution_count": 42,
   "metadata": {},
   "outputs": [],
   "source": [
    "predictions = lm.predict(x_test)"
   ]
  },
  {
   "cell_type": "code",
   "execution_count": 43,
   "metadata": {},
   "outputs": [
    {
     "data": {
      "text/plain": [
       "0.09575644719823329"
      ]
     },
     "execution_count": 43,
     "metadata": {},
     "output_type": "execute_result"
    }
   ],
   "source": [
    "lm.score(x_test, y_test)"
   ]
  },
  {
   "cell_type": "markdown",
   "metadata": {},
   "source": [
    "So the performance is still much lower than we would like but is improved from the random forest model. Given that we are working with inprecise data due to the nature of the unknown variables, this may actually be our best option!"
   ]
  },
  {
   "cell_type": "markdown",
   "metadata": {},
   "source": [
    "------------"
   ]
  },
  {
   "cell_type": "markdown",
   "metadata": {},
   "source": [
    "Redo the model using the full dataset for future predictions."
   ]
  },
  {
   "cell_type": "code",
   "execution_count": 46,
   "metadata": {},
   "outputs": [],
   "source": [
    "model = lm.fit(X, y)"
   ]
  },
  {
   "cell_type": "code",
   "execution_count": 63,
   "metadata": {},
   "outputs": [
    {
     "data": {
      "text/html": [
       "<div>\n",
       "<style scoped>\n",
       "    .dataframe tbody tr th:only-of-type {\n",
       "        vertical-align: middle;\n",
       "    }\n",
       "\n",
       "    .dataframe tbody tr th {\n",
       "        vertical-align: top;\n",
       "    }\n",
       "\n",
       "    .dataframe thead th {\n",
       "        text-align: right;\n",
       "    }\n",
       "</style>\n",
       "<table border=\"1\" class=\"dataframe\">\n",
       "  <thead>\n",
       "    <tr style=\"text-align: right;\">\n",
       "      <th></th>\n",
       "      <th>feature</th>\n",
       "      <th>coef</th>\n",
       "    </tr>\n",
       "  </thead>\n",
       "  <tbody>\n",
       "    <tr>\n",
       "      <th>214</th>\n",
       "      <td>Horseman of Pestilence</td>\n",
       "      <td>1552158955619.45336914</td>\n",
       "    </tr>\n",
       "    <tr>\n",
       "      <th>510</th>\n",
       "      <td>Timetraveller</td>\n",
       "      <td>612760462162.11718750</td>\n",
       "    </tr>\n",
       "    <tr>\n",
       "      <th>19</th>\n",
       "      <td>Bait and Switch</td>\n",
       "      <td>34466234.44764434</td>\n",
       "    </tr>\n",
       "    <tr>\n",
       "      <th>278</th>\n",
       "      <td>Martian Generosity</td>\n",
       "      <td>34466234.43007331</td>\n",
       "    </tr>\n",
       "    <tr>\n",
       "      <th>393</th>\n",
       "      <td>Relentless Whispers</td>\n",
       "      <td>34466234.36933992</td>\n",
       "    </tr>\n",
       "    <tr>\n",
       "      <th>311</th>\n",
       "      <td>Nature’s Call</td>\n",
       "      <td>34466234.36320478</td>\n",
       "    </tr>\n",
       "    <tr>\n",
       "      <th>144</th>\n",
       "      <td>Finishing Blow</td>\n",
       "      <td>34466234.35791811</td>\n",
       "    </tr>\n",
       "    <tr>\n",
       "      <th>218</th>\n",
       "      <td>Hypnotic Command</td>\n",
       "      <td>34466234.31691642</td>\n",
       "    </tr>\n",
       "    <tr>\n",
       "      <th>372</th>\n",
       "      <td>Proclamation 346E</td>\n",
       "      <td>34466234.30794329</td>\n",
       "    </tr>\n",
       "    <tr>\n",
       "      <th>258</th>\n",
       "      <td>Lights Out</td>\n",
       "      <td>34466234.28905416</td>\n",
       "    </tr>\n",
       "    <tr>\n",
       "      <th>406</th>\n",
       "      <td>Ronnie Wristclocks</td>\n",
       "      <td>34466234.28527492</td>\n",
       "    </tr>\n",
       "    <tr>\n",
       "      <th>409</th>\n",
       "      <td>Routine Job</td>\n",
       "      <td>34466234.28475896</td>\n",
       "    </tr>\n",
       "    <tr>\n",
       "      <th>540</th>\n",
       "      <td>Virtuous Works</td>\n",
       "      <td>34466234.27946600</td>\n",
       "    </tr>\n",
       "    <tr>\n",
       "      <th>129</th>\n",
       "      <td>Eureka!</td>\n",
       "      <td>34466234.27750161</td>\n",
       "    </tr>\n",
       "    <tr>\n",
       "      <th>216</th>\n",
       "      <td>Hunting Witch</td>\n",
       "      <td>34466234.27089991</td>\n",
       "    </tr>\n",
       "    <tr>\n",
       "      <th>116</th>\n",
       "      <td>Dust Pixie</td>\n",
       "      <td>34466234.25524806</td>\n",
       "    </tr>\n",
       "    <tr>\n",
       "      <th>48</th>\n",
       "      <td>Brend the Fanatic</td>\n",
       "      <td>34466234.23072061</td>\n",
       "    </tr>\n",
       "    <tr>\n",
       "      <th>79</th>\n",
       "      <td>Control the Weak</td>\n",
       "      <td>34466234.22760284</td>\n",
       "    </tr>\n",
       "    <tr>\n",
       "      <th>326</th>\n",
       "      <td>Numquid the Fair</td>\n",
       "      <td>34466234.22099706</td>\n",
       "    </tr>\n",
       "    <tr>\n",
       "      <th>437</th>\n",
       "      <td>Shard of Knowledge</td>\n",
       "      <td>34466234.20232829</td>\n",
       "    </tr>\n",
       "    <tr>\n",
       "      <th>397</th>\n",
       "      <td>Restringuntus</td>\n",
       "      <td>34466234.19856548</td>\n",
       "    </tr>\n",
       "    <tr>\n",
       "      <th>516</th>\n",
       "      <td>Too Much to Protect</td>\n",
       "      <td>34466234.19747069</td>\n",
       "    </tr>\n",
       "    <tr>\n",
       "      <th>549</th>\n",
       "      <td>Wild Wormhole</td>\n",
       "      <td>34466234.18883668</td>\n",
       "    </tr>\n",
       "    <tr>\n",
       "      <th>281</th>\n",
       "      <td>Martyr’s End</td>\n",
       "      <td>34466234.18788564</td>\n",
       "    </tr>\n",
       "    <tr>\n",
       "      <th>491</th>\n",
       "      <td>Teliga</td>\n",
       "      <td>34466234.18466967</td>\n",
       "    </tr>\n",
       "    <tr>\n",
       "      <th>421</th>\n",
       "      <td>Scrambler Storm</td>\n",
       "      <td>34466234.18206696</td>\n",
       "    </tr>\n",
       "    <tr>\n",
       "      <th>314</th>\n",
       "      <td>Nerve Blast</td>\n",
       "      <td>34466234.18019164</td>\n",
       "    </tr>\n",
       "    <tr>\n",
       "      <th>252</th>\n",
       "      <td>Library Access</td>\n",
       "      <td>34466234.17342601</td>\n",
       "    </tr>\n",
       "    <tr>\n",
       "      <th>335</th>\n",
       "      <td>Opal Knight</td>\n",
       "      <td>34466234.17291131</td>\n",
       "    </tr>\n",
       "    <tr>\n",
       "      <th>443</th>\n",
       "      <td>Shooler</td>\n",
       "      <td>34466234.17235143</td>\n",
       "    </tr>\n",
       "    <tr>\n",
       "      <th>...</th>\n",
       "      <td>...</td>\n",
       "      <td>...</td>\n",
       "    </tr>\n",
       "    <tr>\n",
       "      <th>426</th>\n",
       "      <td>Selwyn the Fence</td>\n",
       "      <td>34466233.75321160</td>\n",
       "    </tr>\n",
       "    <tr>\n",
       "      <th>126</th>\n",
       "      <td>Epic Quest</td>\n",
       "      <td>34466233.75031634</td>\n",
       "    </tr>\n",
       "    <tr>\n",
       "      <th>285</th>\n",
       "      <td>Master of 2</td>\n",
       "      <td>34466233.74840736</td>\n",
       "    </tr>\n",
       "    <tr>\n",
       "      <th>18</th>\n",
       "      <td>Bad Penny</td>\n",
       "      <td>34466233.74610049</td>\n",
       "    </tr>\n",
       "    <tr>\n",
       "      <th>354</th>\n",
       "      <td>Phosphorus Stars</td>\n",
       "      <td>34466233.74588843</td>\n",
       "    </tr>\n",
       "    <tr>\n",
       "      <th>101</th>\n",
       "      <td>Dimension Door</td>\n",
       "      <td>34466233.74068096</td>\n",
       "    </tr>\n",
       "    <tr>\n",
       "      <th>10</th>\n",
       "      <td>Annihilation Ritual</td>\n",
       "      <td>34466233.74046645</td>\n",
       "    </tr>\n",
       "    <tr>\n",
       "      <th>417</th>\n",
       "      <td>Save the Pack</td>\n",
       "      <td>34466233.73931051</td>\n",
       "    </tr>\n",
       "    <tr>\n",
       "      <th>554</th>\n",
       "      <td>Wretched Doll</td>\n",
       "      <td>34466233.71104575</td>\n",
       "    </tr>\n",
       "    <tr>\n",
       "      <th>363</th>\n",
       "      <td>Pocket Universe</td>\n",
       "      <td>34466233.69539692</td>\n",
       "    </tr>\n",
       "    <tr>\n",
       "      <th>66</th>\n",
       "      <td>Chaos Portal</td>\n",
       "      <td>34466233.69521151</td>\n",
       "    </tr>\n",
       "    <tr>\n",
       "      <th>438</th>\n",
       "      <td>Shard of Life</td>\n",
       "      <td>34466233.68956742</td>\n",
       "    </tr>\n",
       "    <tr>\n",
       "      <th>237</th>\n",
       "      <td>Key of Darkness</td>\n",
       "      <td>34466233.67515749</td>\n",
       "    </tr>\n",
       "    <tr>\n",
       "      <th>233</th>\n",
       "      <td>Kelifi Dragon</td>\n",
       "      <td>34466233.67459218</td>\n",
       "    </tr>\n",
       "    <tr>\n",
       "      <th>440</th>\n",
       "      <td>Shard of Strength</td>\n",
       "      <td>34466233.67428598</td>\n",
       "    </tr>\n",
       "    <tr>\n",
       "      <th>132</th>\n",
       "      <td>Experimental Therapy</td>\n",
       "      <td>34466233.66949783</td>\n",
       "    </tr>\n",
       "    <tr>\n",
       "      <th>103</th>\n",
       "      <td>Dis Ambassador</td>\n",
       "      <td>34466233.63939082</td>\n",
       "    </tr>\n",
       "    <tr>\n",
       "      <th>236</th>\n",
       "      <td>Key Hammer</td>\n",
       "      <td>34466233.63181791</td>\n",
       "    </tr>\n",
       "    <tr>\n",
       "      <th>485</th>\n",
       "      <td>Sucker Punch</td>\n",
       "      <td>0.04160303</td>\n",
       "    </tr>\n",
       "    <tr>\n",
       "      <th>455</th>\n",
       "      <td>Sloppy Labwork</td>\n",
       "      <td>0.01438846</td>\n",
       "    </tr>\n",
       "    <tr>\n",
       "      <th>7</th>\n",
       "      <td>Ancient Yurk</td>\n",
       "      <td>-0.00403093</td>\n",
       "    </tr>\n",
       "    <tr>\n",
       "      <th>331</th>\n",
       "      <td>Old Yurk</td>\n",
       "      <td>-0.01288871</td>\n",
       "    </tr>\n",
       "    <tr>\n",
       "      <th>0</th>\n",
       "      <td>1-2 Punch</td>\n",
       "      <td>-0.06396912</td>\n",
       "    </tr>\n",
       "    <tr>\n",
       "      <th>304</th>\n",
       "      <td>Mother Northelle</td>\n",
       "      <td>-0.21459250</td>\n",
       "    </tr>\n",
       "    <tr>\n",
       "      <th>306</th>\n",
       "      <td>Mothership Support</td>\n",
       "      <td>-0.24686341</td>\n",
       "    </tr>\n",
       "    <tr>\n",
       "      <th>305</th>\n",
       "      <td>Mothergun</td>\n",
       "      <td>-0.26880780</td>\n",
       "    </tr>\n",
       "    <tr>\n",
       "      <th>213</th>\n",
       "      <td>Horseman of Famine</td>\n",
       "      <td>-36359682490.93978119</td>\n",
       "    </tr>\n",
       "    <tr>\n",
       "      <th>206</th>\n",
       "      <td>Help from Future Self</td>\n",
       "      <td>-612691529693.62829590</td>\n",
       "    </tr>\n",
       "    <tr>\n",
       "      <th>215</th>\n",
       "      <td>Horseman of War</td>\n",
       "      <td>-711302431729.61730957</td>\n",
       "    </tr>\n",
       "    <tr>\n",
       "      <th>212</th>\n",
       "      <td>Horseman of Death</td>\n",
       "      <td>-804358976463.12683105</td>\n",
       "    </tr>\n",
       "  </tbody>\n",
       "</table>\n",
       "<p>574 rows × 2 columns</p>\n",
       "</div>"
      ],
      "text/plain": [
       "                    feature                   coef\n",
       "214  Horseman of Pestilence 1552158955619.45336914\n",
       "510           Timetraveller  612760462162.11718750\n",
       "19          Bait and Switch      34466234.44764434\n",
       "278      Martian Generosity      34466234.43007331\n",
       "393     Relentless Whispers      34466234.36933992\n",
       "311           Nature’s Call      34466234.36320478\n",
       "144          Finishing Blow      34466234.35791811\n",
       "218        Hypnotic Command      34466234.31691642\n",
       "372       Proclamation 346E      34466234.30794329\n",
       "258              Lights Out      34466234.28905416\n",
       "406      Ronnie Wristclocks      34466234.28527492\n",
       "409             Routine Job      34466234.28475896\n",
       "540          Virtuous Works      34466234.27946600\n",
       "129                 Eureka!      34466234.27750161\n",
       "216           Hunting Witch      34466234.27089991\n",
       "116              Dust Pixie      34466234.25524806\n",
       "48        Brend the Fanatic      34466234.23072061\n",
       "79         Control the Weak      34466234.22760284\n",
       "326        Numquid the Fair      34466234.22099706\n",
       "437      Shard of Knowledge      34466234.20232829\n",
       "397           Restringuntus      34466234.19856548\n",
       "516     Too Much to Protect      34466234.19747069\n",
       "549           Wild Wormhole      34466234.18883668\n",
       "281            Martyr’s End      34466234.18788564\n",
       "491                  Teliga      34466234.18466967\n",
       "421         Scrambler Storm      34466234.18206696\n",
       "314             Nerve Blast      34466234.18019164\n",
       "252          Library Access      34466234.17342601\n",
       "335             Opal Knight      34466234.17291131\n",
       "443                 Shooler      34466234.17235143\n",
       "..                      ...                    ...\n",
       "426        Selwyn the Fence      34466233.75321160\n",
       "126              Epic Quest      34466233.75031634\n",
       "285             Master of 2      34466233.74840736\n",
       "18                Bad Penny      34466233.74610049\n",
       "354        Phosphorus Stars      34466233.74588843\n",
       "101          Dimension Door      34466233.74068096\n",
       "10     Annihilation Ritual       34466233.74046645\n",
       "417           Save the Pack      34466233.73931051\n",
       "554           Wretched Doll      34466233.71104575\n",
       "363         Pocket Universe      34466233.69539692\n",
       "66             Chaos Portal      34466233.69521151\n",
       "438           Shard of Life      34466233.68956742\n",
       "237         Key of Darkness      34466233.67515749\n",
       "233           Kelifi Dragon      34466233.67459218\n",
       "440       Shard of Strength      34466233.67428598\n",
       "132    Experimental Therapy      34466233.66949783\n",
       "103          Dis Ambassador      34466233.63939082\n",
       "236              Key Hammer      34466233.63181791\n",
       "485            Sucker Punch             0.04160303\n",
       "455          Sloppy Labwork             0.01438846\n",
       "7              Ancient Yurk            -0.00403093\n",
       "331                Old Yurk            -0.01288871\n",
       "0                 1-2 Punch            -0.06396912\n",
       "304        Mother Northelle            -0.21459250\n",
       "306      Mothership Support            -0.24686341\n",
       "305               Mothergun            -0.26880780\n",
       "213      Horseman of Famine  -36359682490.93978119\n",
       "206   Help from Future Self -612691529693.62829590\n",
       "215         Horseman of War -711302431729.61730957\n",
       "212       Horseman of Death -804358976463.12683105\n",
       "\n",
       "[574 rows x 2 columns]"
      ]
     },
     "execution_count": 63,
     "metadata": {},
     "output_type": "execute_result"
    }
   ],
   "source": [
    "pd.options.display.float_format = '{:.8f}'.format\n",
    "coefDF = pd.DataFrame({'feature':X.columns, 'coef':lm.coef_[0]})\n",
    "coefDF.sort_values(by=['coef'], ascending=False)"
   ]
  },
  {
   "cell_type": "markdown",
   "metadata": {},
   "source": [
    "Despite the poor performance of the overall model, the order of coefficients does reflect the accepted wisdom of the player base.\n",
    "\n",
    "Here is an article which lists the following cards as the top 10:\n",
    "https://hobbylark.com/card-games/best-keyforge-cards\n",
    "\n",
    "- 01 Routine Job - Our rating 12th\n",
    "- 02 Finishing Blow - Our rating 7th\n",
    "- 03 Relentless Whispers - Our rating 5th\n",
    "- 04 Bait and Switch - Our rating 3rd\n",
    "- 05 Faygin - Our rating ?? outside the visible top\n",
    "- 06 Lights Out - Our rating 10th\n",
    "- 07 Urchin - Our rating ?? outside the visible top\n",
    "- 08 Nerve Blast - Our rating 27th \n",
    "- 09 Timetraveller - Our rating 2nd\n",
    "- 10 Help From Future Self - Our rating ?? outside the visible top\n",
    "\n",
    "This is pretty good given that there are 582 cards to rate!"
   ]
  },
  {
   "cell_type": "code",
   "execution_count": 48,
   "metadata": {},
   "outputs": [],
   "source": [
    "import pickle\n",
    "filename = 'finalized_linear_model.sav'\n",
    "pickle.dump(lm, open(filename, 'wb'))"
   ]
  },
  {
   "cell_type": "markdown",
   "metadata": {},
   "source": [
    "--------"
   ]
  },
  {
   "cell_type": "markdown",
   "metadata": {},
   "source": [
    "Testing some additional models"
   ]
  },
  {
   "cell_type": "markdown",
   "metadata": {},
   "source": [
    "**Stochastic Gradient Descent**"
   ]
  },
  {
   "cell_type": "code",
   "execution_count": 17,
   "metadata": {},
   "outputs": [],
   "source": [
    "from sklearn.model_selection import train_test_split\n",
    "from sklearn import linear_model\n",
    "X = deck_df.drop(['deck_id', 'deck_name', 'deck_wins', 'deck_losses', 'score',\n",
    "                  'house_shadows', 'house_mars', 'house_untamed',\n",
    "                  'house_logos', 'house_dis', 'house_sanctum',\n",
    "                  'house_brobnar', 'deck_expansion', 'expansion_coa',\n",
    "                  'expansion_aoa'], axis=1)\n",
    "y = deck_df[['score']]\n",
    "x_train, x_test, y_train, y_test = train_test_split(X, y, test_size=0.3) # 70% training and 30% test"
   ]
  },
  {
   "cell_type": "code",
   "execution_count": 18,
   "metadata": {},
   "outputs": [
    {
     "data": {
      "text/plain": [
       "SGDRegressor(alpha=0.0001, average=False, early_stopping=False, epsilon=0.1,\n",
       "             eta0=0.01, fit_intercept=True, l1_ratio=0.15,\n",
       "             learning_rate='invscaling', loss='squared_loss', max_iter=1000,\n",
       "             n_iter_no_change=5, penalty='l2', power_t=0.25, random_state=None,\n",
       "             shuffle=True, tol=0.001, validation_fraction=0.1, verbose=0,\n",
       "             warm_start=False)"
      ]
     },
     "execution_count": 18,
     "metadata": {},
     "output_type": "execute_result"
    }
   ],
   "source": [
    "clf = linear_model.SGDRegressor(max_iter=1000, tol=1e-3)\n",
    "clf.fit(x_train, y_train.values.ravel())"
   ]
  },
  {
   "cell_type": "code",
   "execution_count": 19,
   "metadata": {},
   "outputs": [
    {
     "data": {
      "text/plain": [
       "0.10284366818687218"
      ]
     },
     "execution_count": 19,
     "metadata": {},
     "output_type": "execute_result"
    }
   ],
   "source": [
    "clf.score(x_test, y_test)"
   ]
  },
  {
   "cell_type": "markdown",
   "metadata": {},
   "source": [
    "-----------"
   ]
  },
  {
   "cell_type": "code",
   "execution_count": null,
   "metadata": {},
   "outputs": [],
   "source": []
  }
 ],
 "metadata": {
  "kernelspec": {
   "display_name": "Python 3",
   "language": "python",
   "name": "python3"
  },
  "language_info": {
   "codemirror_mode": {
    "name": "ipython",
    "version": 3
   },
   "file_extension": ".py",
   "mimetype": "text/x-python",
   "name": "python",
   "nbconvert_exporter": "python",
   "pygments_lexer": "ipython3",
   "version": "3.7.3"
  }
 },
 "nbformat": 4,
 "nbformat_minor": 2
}
