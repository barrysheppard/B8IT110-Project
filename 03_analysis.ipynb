{
 "cells": [
  {
   "cell_type": "markdown",
   "metadata": {},
   "source": [
    "# Data Analysis"
   ]
  },
  {
   "cell_type": "markdown",
   "metadata": {},
   "source": [
    "The aim of this Capstone project is to consolidate the knowledge, skills and competences acquired by learners during this programme. In this project students will select, specify, design, justify and implement a data analytics investigation that makes use of large data sets. The project will necessarily require data ingestion, wrangling, computation and analyses, and the production and presentation of a project and report. Students are guided by faculty in the selection of a data set, scope of investigation, initial exploratory data analysis, and formulation of hypotheses."
   ]
  },
  {
   "cell_type": "code",
   "execution_count": 1,
   "metadata": {},
   "outputs": [],
   "source": [
    "import pandas as pd\n",
    "import numpy as np\n",
    "import matplotlib as mpl\n",
    "import matplotlib.pyplot as plt\n",
    "import ast\n",
    "import re"
   ]
  },
  {
   "cell_type": "code",
   "execution_count": 2,
   "metadata": {},
   "outputs": [],
   "source": [
    "deck_df = pd.read_csv(\"data/data_decks_cleaned.csv\")"
   ]
  },
  {
   "cell_type": "markdown",
   "metadata": {},
   "source": [
    "Lets see if we can plot anything"
   ]
  },
  {
   "cell_type": "code",
   "execution_count": 3,
   "metadata": {},
   "outputs": [],
   "source": [
    "%matplotlib inline"
   ]
  },
  {
   "cell_type": "code",
   "execution_count": 4,
   "metadata": {},
   "outputs": [
    {
     "data": {
      "text/html": [
       "<div>\n",
       "<style scoped>\n",
       "    .dataframe tbody tr th:only-of-type {\n",
       "        vertical-align: middle;\n",
       "    }\n",
       "\n",
       "    .dataframe tbody tr th {\n",
       "        vertical-align: top;\n",
       "    }\n",
       "\n",
       "    .dataframe thead th {\n",
       "        text-align: right;\n",
       "    }\n",
       "</style>\n",
       "<table border=\"1\" class=\"dataframe\">\n",
       "  <thead>\n",
       "    <tr style=\"text-align: right;\">\n",
       "      <th></th>\n",
       "      <th>Unnamed: 0</th>\n",
       "      <th>deck_id</th>\n",
       "      <th>deck_name</th>\n",
       "      <th>deck_wins</th>\n",
       "      <th>deck_losses</th>\n",
       "      <th>house_brobnar</th>\n",
       "      <th>house_dis</th>\n",
       "      <th>house_sanctum</th>\n",
       "      <th>house_mars</th>\n",
       "      <th>house_untamed</th>\n",
       "      <th>...</th>\n",
       "      <th>Zysysyx Shockworm</th>\n",
       "      <th>Zyzzix the Many</th>\n",
       "      <th>[REDACTED]</th>\n",
       "      <th>Æmber Conduction Unit</th>\n",
       "      <th>Æmber Imp</th>\n",
       "      <th>Æmberspine Mongrel</th>\n",
       "      <th>“John Smyth”</th>\n",
       "      <th>“Lion” Bautrem</th>\n",
       "      <th>score</th>\n",
       "      <th>expansion</th>\n",
       "    </tr>\n",
       "  </thead>\n",
       "  <tbody>\n",
       "    <tr>\n",
       "      <th>0</th>\n",
       "      <td>0</td>\n",
       "      <td>6216e565-a790-4e5b-b89a-4a814917b94e</td>\n",
       "      <td>Leif “As”, Granjera de la Alcantarilla</td>\n",
       "      <td>2</td>\n",
       "      <td>1</td>\n",
       "      <td>True</td>\n",
       "      <td>True</td>\n",
       "      <td>True</td>\n",
       "      <td>False</td>\n",
       "      <td>False</td>\n",
       "      <td>...</td>\n",
       "      <td>False</td>\n",
       "      <td>False</td>\n",
       "      <td>True</td>\n",
       "      <td>False</td>\n",
       "      <td>False</td>\n",
       "      <td>False</td>\n",
       "      <td>False</td>\n",
       "      <td>False</td>\n",
       "      <td>1</td>\n",
       "      <td>Call of the Archons</td>\n",
       "    </tr>\n",
       "    <tr>\n",
       "      <th>1</th>\n",
       "      <td>1</td>\n",
       "      <td>50e28cdd-6e6b-4584-a8d1-1f22c081e906</td>\n",
       "      <td>“Ivan” Valencia, Ship Chieftain</td>\n",
       "      <td>1</td>\n",
       "      <td>3</td>\n",
       "      <td>True</td>\n",
       "      <td>False</td>\n",
       "      <td>True</td>\n",
       "      <td>False</td>\n",
       "      <td>True</td>\n",
       "      <td>...</td>\n",
       "      <td>False</td>\n",
       "      <td>False</td>\n",
       "      <td>True</td>\n",
       "      <td>False</td>\n",
       "      <td>False</td>\n",
       "      <td>False</td>\n",
       "      <td>False</td>\n",
       "      <td>False</td>\n",
       "      <td>-2</td>\n",
       "      <td>Call of the Archons</td>\n",
       "    </tr>\n",
       "    <tr>\n",
       "      <th>2</th>\n",
       "      <td>2</td>\n",
       "      <td>3969e139-05d7-4a8a-ba60-0bb660cd057b</td>\n",
       "      <td>Nasir, Canal Survivalist</td>\n",
       "      <td>2</td>\n",
       "      <td>1</td>\n",
       "      <td>True</td>\n",
       "      <td>False</td>\n",
       "      <td>True</td>\n",
       "      <td>True</td>\n",
       "      <td>False</td>\n",
       "      <td>...</td>\n",
       "      <td>False</td>\n",
       "      <td>False</td>\n",
       "      <td>True</td>\n",
       "      <td>False</td>\n",
       "      <td>False</td>\n",
       "      <td>False</td>\n",
       "      <td>False</td>\n",
       "      <td>True</td>\n",
       "      <td>1</td>\n",
       "      <td>Call of the Archons</td>\n",
       "    </tr>\n",
       "    <tr>\n",
       "      <th>3</th>\n",
       "      <td>3</td>\n",
       "      <td>5668bdc3-dea4-4226-92ba-91b003a5460e</td>\n",
       "      <td>Destrolack, Observatory Recluse</td>\n",
       "      <td>4</td>\n",
       "      <td>4</td>\n",
       "      <td>False</td>\n",
       "      <td>False</td>\n",
       "      <td>True</td>\n",
       "      <td>False</td>\n",
       "      <td>True</td>\n",
       "      <td>...</td>\n",
       "      <td>False</td>\n",
       "      <td>False</td>\n",
       "      <td>True</td>\n",
       "      <td>False</td>\n",
       "      <td>False</td>\n",
       "      <td>False</td>\n",
       "      <td>False</td>\n",
       "      <td>False</td>\n",
       "      <td>0</td>\n",
       "      <td>Call of the Archons</td>\n",
       "    </tr>\n",
       "    <tr>\n",
       "      <th>4</th>\n",
       "      <td>4</td>\n",
       "      <td>749780f6-7acb-402a-9fd6-f6fbbcf888e1</td>\n",
       "      <td>Tiberius, Navigatore della Guglia Aperta</td>\n",
       "      <td>8</td>\n",
       "      <td>4</td>\n",
       "      <td>False</td>\n",
       "      <td>False</td>\n",
       "      <td>False</td>\n",
       "      <td>True</td>\n",
       "      <td>True</td>\n",
       "      <td>...</td>\n",
       "      <td>False</td>\n",
       "      <td>True</td>\n",
       "      <td>True</td>\n",
       "      <td>False</td>\n",
       "      <td>False</td>\n",
       "      <td>False</td>\n",
       "      <td>True</td>\n",
       "      <td>False</td>\n",
       "      <td>4</td>\n",
       "      <td>Age of Ascension</td>\n",
       "    </tr>\n",
       "  </tbody>\n",
       "</table>\n",
       "<p>5 rows × 588 columns</p>\n",
       "</div>"
      ],
      "text/plain": [
       "   Unnamed: 0                               deck_id  \\\n",
       "0           0  6216e565-a790-4e5b-b89a-4a814917b94e   \n",
       "1           1  50e28cdd-6e6b-4584-a8d1-1f22c081e906   \n",
       "2           2  3969e139-05d7-4a8a-ba60-0bb660cd057b   \n",
       "3           3  5668bdc3-dea4-4226-92ba-91b003a5460e   \n",
       "4           4  749780f6-7acb-402a-9fd6-f6fbbcf888e1   \n",
       "\n",
       "                                  deck_name  deck_wins  deck_losses  \\\n",
       "0    Leif “As”, Granjera de la Alcantarilla          2            1   \n",
       "1           “Ivan” Valencia, Ship Chieftain          1            3   \n",
       "2                  Nasir, Canal Survivalist          2            1   \n",
       "3           Destrolack, Observatory Recluse          4            4   \n",
       "4  Tiberius, Navigatore della Guglia Aperta          8            4   \n",
       "\n",
       "   house_brobnar  house_dis  house_sanctum  house_mars  house_untamed  ...  \\\n",
       "0           True       True           True       False          False  ...   \n",
       "1           True      False           True       False           True  ...   \n",
       "2           True      False           True        True          False  ...   \n",
       "3          False      False           True       False           True  ...   \n",
       "4          False      False          False        True           True  ...   \n",
       "\n",
       "   Zysysyx Shockworm  Zyzzix the Many  [REDACTED]  Æmber Conduction Unit  \\\n",
       "0              False            False        True                  False   \n",
       "1              False            False        True                  False   \n",
       "2              False            False        True                  False   \n",
       "3              False            False        True                  False   \n",
       "4              False             True        True                  False   \n",
       "\n",
       "   Æmber Imp  Æmberspine Mongrel  “John Smyth”  “Lion” Bautrem  score  \\\n",
       "0      False               False         False           False      1   \n",
       "1      False               False         False           False     -2   \n",
       "2      False               False         False            True      1   \n",
       "3      False               False         False           False      0   \n",
       "4      False               False          True           False      4   \n",
       "\n",
       "             expansion  \n",
       "0  Call of the Archons  \n",
       "1  Call of the Archons  \n",
       "2  Call of the Archons  \n",
       "3  Call of the Archons  \n",
       "4     Age of Ascension  \n",
       "\n",
       "[5 rows x 588 columns]"
      ]
     },
     "execution_count": 4,
     "metadata": {},
     "output_type": "execute_result"
    }
   ],
   "source": [
    "deck_df.head()"
   ]
  },
  {
   "cell_type": "code",
   "execution_count": 5,
   "metadata": {},
   "outputs": [
    {
     "data": {
      "text/html": [
       "<div>\n",
       "<style scoped>\n",
       "    .dataframe tbody tr th:only-of-type {\n",
       "        vertical-align: middle;\n",
       "    }\n",
       "\n",
       "    .dataframe tbody tr th {\n",
       "        vertical-align: top;\n",
       "    }\n",
       "\n",
       "    .dataframe thead th {\n",
       "        text-align: right;\n",
       "    }\n",
       "</style>\n",
       "<table border=\"1\" class=\"dataframe\">\n",
       "  <thead>\n",
       "    <tr style=\"text-align: right;\">\n",
       "      <th></th>\n",
       "      <th>Unnamed: 0</th>\n",
       "      <th>deck_wins</th>\n",
       "      <th>deck_losses</th>\n",
       "      <th>score</th>\n",
       "    </tr>\n",
       "  </thead>\n",
       "  <tbody>\n",
       "    <tr>\n",
       "      <th>count</th>\n",
       "      <td>59840.000000</td>\n",
       "      <td>59840.000000</td>\n",
       "      <td>59840.000000</td>\n",
       "      <td>59840.000000</td>\n",
       "    </tr>\n",
       "    <tr>\n",
       "      <th>mean</th>\n",
       "      <td>29919.500000</td>\n",
       "      <td>2.789004</td>\n",
       "      <td>2.274499</td>\n",
       "      <td>0.514505</td>\n",
       "    </tr>\n",
       "    <tr>\n",
       "      <th>std</th>\n",
       "      <td>17274.464391</td>\n",
       "      <td>2.444614</td>\n",
       "      <td>1.837420</td>\n",
       "      <td>2.338160</td>\n",
       "    </tr>\n",
       "    <tr>\n",
       "      <th>min</th>\n",
       "      <td>0.000000</td>\n",
       "      <td>1.000000</td>\n",
       "      <td>0.000000</td>\n",
       "      <td>-20.000000</td>\n",
       "    </tr>\n",
       "    <tr>\n",
       "      <th>25%</th>\n",
       "      <td>14959.750000</td>\n",
       "      <td>1.000000</td>\n",
       "      <td>1.000000</td>\n",
       "      <td>-1.000000</td>\n",
       "    </tr>\n",
       "    <tr>\n",
       "      <th>50%</th>\n",
       "      <td>29919.500000</td>\n",
       "      <td>2.000000</td>\n",
       "      <td>2.000000</td>\n",
       "      <td>0.000000</td>\n",
       "    </tr>\n",
       "    <tr>\n",
       "      <th>75%</th>\n",
       "      <td>44879.250000</td>\n",
       "      <td>3.000000</td>\n",
       "      <td>3.000000</td>\n",
       "      <td>2.000000</td>\n",
       "    </tr>\n",
       "    <tr>\n",
       "      <th>max</th>\n",
       "      <td>59839.000000</td>\n",
       "      <td>40.000000</td>\n",
       "      <td>39.000000</td>\n",
       "      <td>26.000000</td>\n",
       "    </tr>\n",
       "  </tbody>\n",
       "</table>\n",
       "</div>"
      ],
      "text/plain": [
       "         Unnamed: 0     deck_wins   deck_losses         score\n",
       "count  59840.000000  59840.000000  59840.000000  59840.000000\n",
       "mean   29919.500000      2.789004      2.274499      0.514505\n",
       "std    17274.464391      2.444614      1.837420      2.338160\n",
       "min        0.000000      1.000000      0.000000    -20.000000\n",
       "25%    14959.750000      1.000000      1.000000     -1.000000\n",
       "50%    29919.500000      2.000000      2.000000      0.000000\n",
       "75%    44879.250000      3.000000      3.000000      2.000000\n",
       "max    59839.000000     40.000000     39.000000     26.000000"
      ]
     },
     "execution_count": 5,
     "metadata": {},
     "output_type": "execute_result"
    }
   ],
   "source": [
    "deck_df.describe()"
   ]
  },
  {
   "cell_type": "code",
   "execution_count": 7,
   "metadata": {},
   "outputs": [
    {
     "data": {
      "text/html": [
       "<div>\n",
       "<style scoped>\n",
       "    .dataframe tbody tr th:only-of-type {\n",
       "        vertical-align: middle;\n",
       "    }\n",
       "\n",
       "    .dataframe tbody tr th {\n",
       "        vertical-align: top;\n",
       "    }\n",
       "\n",
       "    .dataframe thead th {\n",
       "        text-align: right;\n",
       "    }\n",
       "</style>\n",
       "<table border=\"1\" class=\"dataframe\">\n",
       "  <thead>\n",
       "    <tr style=\"text-align: right;\">\n",
       "      <th></th>\n",
       "      <th>deck_wins</th>\n",
       "      <th>deck_losses</th>\n",
       "      <th>score</th>\n",
       "      <th>expansion</th>\n",
       "    </tr>\n",
       "  </thead>\n",
       "  <tbody>\n",
       "    <tr>\n",
       "      <th>0</th>\n",
       "      <td>2</td>\n",
       "      <td>1</td>\n",
       "      <td>1</td>\n",
       "      <td>Call of the Archons</td>\n",
       "    </tr>\n",
       "    <tr>\n",
       "      <th>1</th>\n",
       "      <td>1</td>\n",
       "      <td>3</td>\n",
       "      <td>-2</td>\n",
       "      <td>Call of the Archons</td>\n",
       "    </tr>\n",
       "    <tr>\n",
       "      <th>2</th>\n",
       "      <td>2</td>\n",
       "      <td>1</td>\n",
       "      <td>1</td>\n",
       "      <td>Call of the Archons</td>\n",
       "    </tr>\n",
       "    <tr>\n",
       "      <th>3</th>\n",
       "      <td>4</td>\n",
       "      <td>4</td>\n",
       "      <td>0</td>\n",
       "      <td>Call of the Archons</td>\n",
       "    </tr>\n",
       "    <tr>\n",
       "      <th>4</th>\n",
       "      <td>8</td>\n",
       "      <td>4</td>\n",
       "      <td>4</td>\n",
       "      <td>Age of Ascension</td>\n",
       "    </tr>\n",
       "  </tbody>\n",
       "</table>\n",
       "</div>"
      ],
      "text/plain": [
       "   deck_wins  deck_losses  score            expansion\n",
       "0          2            1      1  Call of the Archons\n",
       "1          1            3     -2  Call of the Archons\n",
       "2          2            1      1  Call of the Archons\n",
       "3          4            4      0  Call of the Archons\n",
       "4          8            4      4     Age of Ascension"
      ]
     },
     "execution_count": 7,
     "metadata": {},
     "output_type": "execute_result"
    }
   ],
   "source": [
    "decks = deck_df[['deck_wins','deck_losses', 'score', 'expansion']]\n",
    "decks.head()"
   ]
  },
  {
   "cell_type": "code",
   "execution_count": 10,
   "metadata": {},
   "outputs": [
    {
     "data": {
      "text/plain": [
       "expansion\n",
       "Age of Ascension       39575\n",
       "Call of the Archons    20265\n",
       "dtype: int64"
      ]
     },
     "execution_count": 10,
     "metadata": {},
     "output_type": "execute_result"
    }
   ],
   "source": [
    "deck_exp = decks.groupby('expansion')\n",
    "deck_exp.size()"
   ]
  },
  {
   "cell_type": "code",
   "execution_count": 11,
   "metadata": {},
   "outputs": [
    {
     "data": {
      "text/html": [
       "<div>\n",
       "<style scoped>\n",
       "    .dataframe tbody tr th:only-of-type {\n",
       "        vertical-align: middle;\n",
       "    }\n",
       "\n",
       "    .dataframe tbody tr th {\n",
       "        vertical-align: top;\n",
       "    }\n",
       "\n",
       "    .dataframe thead th {\n",
       "        text-align: right;\n",
       "    }\n",
       "</style>\n",
       "<table border=\"1\" class=\"dataframe\">\n",
       "  <thead>\n",
       "    <tr style=\"text-align: right;\">\n",
       "      <th></th>\n",
       "      <th>deck_wins</th>\n",
       "      <th>deck_losses</th>\n",
       "      <th>score</th>\n",
       "    </tr>\n",
       "    <tr>\n",
       "      <th>expansion</th>\n",
       "      <th></th>\n",
       "      <th></th>\n",
       "      <th></th>\n",
       "    </tr>\n",
       "  </thead>\n",
       "  <tbody>\n",
       "    <tr>\n",
       "      <th>Age of Ascension</th>\n",
       "      <td>117962</td>\n",
       "      <td>93776</td>\n",
       "      <td>24186</td>\n",
       "    </tr>\n",
       "    <tr>\n",
       "      <th>Call of the Archons</th>\n",
       "      <td>48932</td>\n",
       "      <td>42330</td>\n",
       "      <td>6602</td>\n",
       "    </tr>\n",
       "  </tbody>\n",
       "</table>\n",
       "</div>"
      ],
      "text/plain": [
       "                     deck_wins  deck_losses  score\n",
       "expansion                                         \n",
       "Age of Ascension        117962        93776  24186\n",
       "Call of the Archons      48932        42330   6602"
      ]
     },
     "execution_count": 11,
     "metadata": {},
     "output_type": "execute_result"
    }
   ],
   "source": [
    "deck_exp_totals = deck_exp.sum()\n",
    "deck_exp_totals.head()"
   ]
  },
  {
   "cell_type": "code",
   "execution_count": 12,
   "metadata": {},
   "outputs": [
    {
     "data": {
      "image/png": "[encoded data removed]",
      "text/plain": [
       "<Figure size 432x288 with 1 Axes>"
      ]
     },
     "metadata": {
      "needs_background": "light"
     },
     "output_type": "display_data"
    }
   ],
   "source": [
    "my_plot = deck_exp_totals.plot(kind='bar')"
   ]
  },
  {
   "cell_type": "code",
   "execution_count": 13,
   "metadata": {},
   "outputs": [
    {
     "data": {
      "text/html": [
       "<div>\n",
       "<style scoped>\n",
       "    .dataframe tbody tr th:only-of-type {\n",
       "        vertical-align: middle;\n",
       "    }\n",
       "\n",
       "    .dataframe tbody tr th {\n",
       "        vertical-align: top;\n",
       "    }\n",
       "\n",
       "    .dataframe thead th {\n",
       "        text-align: right;\n",
       "    }\n",
       "</style>\n",
       "<table border=\"1\" class=\"dataframe\">\n",
       "  <thead>\n",
       "    <tr style=\"text-align: right;\">\n",
       "      <th></th>\n",
       "      <th>Unnamed: 0</th>\n",
       "      <th>deck_id</th>\n",
       "      <th>deck_name</th>\n",
       "      <th>deck_wins</th>\n",
       "      <th>deck_losses</th>\n",
       "      <th>house_brobnar</th>\n",
       "      <th>house_dis</th>\n",
       "      <th>house_sanctum</th>\n",
       "      <th>house_mars</th>\n",
       "      <th>house_untamed</th>\n",
       "      <th>...</th>\n",
       "      <th>Zysysyx Shockworm</th>\n",
       "      <th>Zyzzix the Many</th>\n",
       "      <th>[REDACTED]</th>\n",
       "      <th>Æmber Conduction Unit</th>\n",
       "      <th>Æmber Imp</th>\n",
       "      <th>Æmberspine Mongrel</th>\n",
       "      <th>“John Smyth”</th>\n",
       "      <th>“Lion” Bautrem</th>\n",
       "      <th>score</th>\n",
       "      <th>expansion</th>\n",
       "    </tr>\n",
       "  </thead>\n",
       "  <tbody>\n",
       "    <tr>\n",
       "      <th>0</th>\n",
       "      <td>0</td>\n",
       "      <td>6216e565-a790-4e5b-b89a-4a814917b94e</td>\n",
       "      <td>Leif “As”, Granjera de la Alcantarilla</td>\n",
       "      <td>2</td>\n",
       "      <td>1</td>\n",
       "      <td>True</td>\n",
       "      <td>True</td>\n",
       "      <td>True</td>\n",
       "      <td>False</td>\n",
       "      <td>False</td>\n",
       "      <td>...</td>\n",
       "      <td>False</td>\n",
       "      <td>False</td>\n",
       "      <td>True</td>\n",
       "      <td>False</td>\n",
       "      <td>False</td>\n",
       "      <td>False</td>\n",
       "      <td>False</td>\n",
       "      <td>False</td>\n",
       "      <td>1</td>\n",
       "      <td>Call of the Archons</td>\n",
       "    </tr>\n",
       "    <tr>\n",
       "      <th>1</th>\n",
       "      <td>1</td>\n",
       "      <td>50e28cdd-6e6b-4584-a8d1-1f22c081e906</td>\n",
       "      <td>“Ivan” Valencia, Ship Chieftain</td>\n",
       "      <td>1</td>\n",
       "      <td>3</td>\n",
       "      <td>True</td>\n",
       "      <td>False</td>\n",
       "      <td>True</td>\n",
       "      <td>False</td>\n",
       "      <td>True</td>\n",
       "      <td>...</td>\n",
       "      <td>False</td>\n",
       "      <td>False</td>\n",
       "      <td>True</td>\n",
       "      <td>False</td>\n",
       "      <td>False</td>\n",
       "      <td>False</td>\n",
       "      <td>False</td>\n",
       "      <td>False</td>\n",
       "      <td>-2</td>\n",
       "      <td>Call of the Archons</td>\n",
       "    </tr>\n",
       "    <tr>\n",
       "      <th>2</th>\n",
       "      <td>2</td>\n",
       "      <td>3969e139-05d7-4a8a-ba60-0bb660cd057b</td>\n",
       "      <td>Nasir, Canal Survivalist</td>\n",
       "      <td>2</td>\n",
       "      <td>1</td>\n",
       "      <td>True</td>\n",
       "      <td>False</td>\n",
       "      <td>True</td>\n",
       "      <td>True</td>\n",
       "      <td>False</td>\n",
       "      <td>...</td>\n",
       "      <td>False</td>\n",
       "      <td>False</td>\n",
       "      <td>True</td>\n",
       "      <td>False</td>\n",
       "      <td>False</td>\n",
       "      <td>False</td>\n",
       "      <td>False</td>\n",
       "      <td>True</td>\n",
       "      <td>1</td>\n",
       "      <td>Call of the Archons</td>\n",
       "    </tr>\n",
       "    <tr>\n",
       "      <th>3</th>\n",
       "      <td>3</td>\n",
       "      <td>5668bdc3-dea4-4226-92ba-91b003a5460e</td>\n",
       "      <td>Destrolack, Observatory Recluse</td>\n",
       "      <td>4</td>\n",
       "      <td>4</td>\n",
       "      <td>False</td>\n",
       "      <td>False</td>\n",
       "      <td>True</td>\n",
       "      <td>False</td>\n",
       "      <td>True</td>\n",
       "      <td>...</td>\n",
       "      <td>False</td>\n",
       "      <td>False</td>\n",
       "      <td>True</td>\n",
       "      <td>False</td>\n",
       "      <td>False</td>\n",
       "      <td>False</td>\n",
       "      <td>False</td>\n",
       "      <td>False</td>\n",
       "      <td>0</td>\n",
       "      <td>Call of the Archons</td>\n",
       "    </tr>\n",
       "    <tr>\n",
       "      <th>4</th>\n",
       "      <td>4</td>\n",
       "      <td>749780f6-7acb-402a-9fd6-f6fbbcf888e1</td>\n",
       "      <td>Tiberius, Navigatore della Guglia Aperta</td>\n",
       "      <td>8</td>\n",
       "      <td>4</td>\n",
       "      <td>False</td>\n",
       "      <td>False</td>\n",
       "      <td>False</td>\n",
       "      <td>True</td>\n",
       "      <td>True</td>\n",
       "      <td>...</td>\n",
       "      <td>False</td>\n",
       "      <td>True</td>\n",
       "      <td>True</td>\n",
       "      <td>False</td>\n",
       "      <td>False</td>\n",
       "      <td>False</td>\n",
       "      <td>True</td>\n",
       "      <td>False</td>\n",
       "      <td>4</td>\n",
       "      <td>Age of Ascension</td>\n",
       "    </tr>\n",
       "  </tbody>\n",
       "</table>\n",
       "<p>5 rows × 588 columns</p>\n",
       "</div>"
      ],
      "text/plain": [
       "   Unnamed: 0                               deck_id  \\\n",
       "0           0  6216e565-a790-4e5b-b89a-4a814917b94e   \n",
       "1           1  50e28cdd-6e6b-4584-a8d1-1f22c081e906   \n",
       "2           2  3969e139-05d7-4a8a-ba60-0bb660cd057b   \n",
       "3           3  5668bdc3-dea4-4226-92ba-91b003a5460e   \n",
       "4           4  749780f6-7acb-402a-9fd6-f6fbbcf888e1   \n",
       "\n",
       "                                  deck_name  deck_wins  deck_losses  \\\n",
       "0    Leif “As”, Granjera de la Alcantarilla          2            1   \n",
       "1           “Ivan” Valencia, Ship Chieftain          1            3   \n",
       "2                  Nasir, Canal Survivalist          2            1   \n",
       "3           Destrolack, Observatory Recluse          4            4   \n",
       "4  Tiberius, Navigatore della Guglia Aperta          8            4   \n",
       "\n",
       "   house_brobnar  house_dis  house_sanctum  house_mars  house_untamed  ...  \\\n",
       "0           True       True           True       False          False  ...   \n",
       "1           True      False           True       False           True  ...   \n",
       "2           True      False           True        True          False  ...   \n",
       "3          False      False           True       False           True  ...   \n",
       "4          False      False          False        True           True  ...   \n",
       "\n",
       "   Zysysyx Shockworm  Zyzzix the Many  [REDACTED]  Æmber Conduction Unit  \\\n",
       "0              False            False        True                  False   \n",
       "1              False            False        True                  False   \n",
       "2              False            False        True                  False   \n",
       "3              False            False        True                  False   \n",
       "4              False             True        True                  False   \n",
       "\n",
       "   Æmber Imp  Æmberspine Mongrel  “John Smyth”  “Lion” Bautrem  score  \\\n",
       "0      False               False         False           False      1   \n",
       "1      False               False         False           False     -2   \n",
       "2      False               False         False            True      1   \n",
       "3      False               False         False           False      0   \n",
       "4      False               False          True           False      4   \n",
       "\n",
       "             expansion  \n",
       "0  Call of the Archons  \n",
       "1  Call of the Archons  \n",
       "2  Call of the Archons  \n",
       "3  Call of the Archons  \n",
       "4     Age of Ascension  \n",
       "\n",
       "[5 rows x 588 columns]"
      ]
     },
     "execution_count": 13,
     "metadata": {},
     "output_type": "execute_result"
    }
   ],
   "source": [
    "deck_df.head()"
   ]
  },
  {
   "cell_type": "code",
   "execution_count": 14,
   "metadata": {},
   "outputs": [],
   "source": [
    "from sklearn.model_selection import train_test_split"
   ]
  },
  {
   "cell_type": "code",
   "execution_count": 15,
   "metadata": {},
   "outputs": [],
   "source": [
    "from sklearn.ensemble import RandomForestClassifier"
   ]
  },
  {
   "cell_type": "code",
   "execution_count": 16,
   "metadata": {},
   "outputs": [],
   "source": [
    "clf=RandomForestClassifier(n_estimators=100)"
   ]
  },
  {
   "cell_type": "code",
   "execution_count": 17,
   "metadata": {},
   "outputs": [],
   "source": [
    "x = deck_df\n",
    "x = x.drop(\"deck_id\", axis=1)\n",
    "x = x.drop(\"deck_name\", axis=1)\n",
    "x = x.drop(\"deck_wins\", axis=1)\n",
    "x = x.drop(\"deck_losses\", axis=1)\n",
    "x = x.drop(\"score\", axis=1)\n",
    "x = x.drop(\"expansion\", axis=1)\n",
    "y = deck_df[['score']]"
   ]
  },
  {
   "cell_type": "code",
   "execution_count": 18,
   "metadata": {},
   "outputs": [],
   "source": [
    "x_train, x_test, y_train, y_test = train_test_split(x, y, test_size=0.3) # 70% training and 30% test"
   ]
  },
  {
   "cell_type": "code",
   "execution_count": 19,
   "metadata": {},
   "outputs": [
    {
     "data": {
      "text/plain": [
       "RandomForestClassifier(bootstrap=True, class_weight=None, criterion='gini',\n",
       "                       max_depth=None, max_features='auto', max_leaf_nodes=None,\n",
       "                       min_impurity_decrease=0.0, min_impurity_split=None,\n",
       "                       min_samples_leaf=1, min_samples_split=2,\n",
       "                       min_weight_fraction_leaf=0.0, n_estimators=100,\n",
       "                       n_jobs=None, oob_score=False, random_state=None,\n",
       "                       verbose=0, warm_start=False)"
      ]
     },
     "execution_count": 19,
     "metadata": {},
     "output_type": "execute_result"
    }
   ],
   "source": [
    "clf.fit(x_train, y_train.values.ravel())"
   ]
  },
  {
   "cell_type": "code",
   "execution_count": 20,
   "metadata": {},
   "outputs": [],
   "source": [
    "y_pred=clf.predict(x_test)"
   ]
  },
  {
   "cell_type": "code",
   "execution_count": 21,
   "metadata": {},
   "outputs": [
    {
     "name": "stdout",
     "output_type": "stream",
     "text": [
      "Accuracy: 0.18727718360071302\n"
     ]
    }
   ],
   "source": [
    "from sklearn import metrics\n",
    "print(\"Accuracy:\",metrics.accuracy_score(y_test, y_pred))"
   ]
  },
  {
   "cell_type": "code",
   "execution_count": 22,
   "metadata": {},
   "outputs": [
    {
     "data": {
      "text/plain": [
       "Unnamed: 0               0.028567\n",
       "Mother                   0.005034\n",
       "Charette                 0.004691\n",
       "Labwork                  0.004686\n",
       "Dust Imp                 0.004561\n",
       "Lash of Broken Dreams    0.004496\n",
       "Wild Wormhole            0.004440\n",
       "Shooler                  0.004392\n",
       "Miasma                   0.004279\n",
       "Punch                    0.004239\n",
       "Titan Mechanic           0.004236\n",
       "Umbra                    0.004102\n",
       "Blinding Light           0.004079\n",
       "Bad Penny                0.004066\n",
       "Library of Babble        0.004029\n",
       "Full Moon                0.003998\n",
       "Key Charge               0.003950\n",
       "Regrowth                 0.003947\n",
       "Nerve Blast              0.003926\n",
       "Ganger Chieftain         0.003872\n",
       "Protect the Weak         0.003853\n",
       "Take Hostages            0.003811\n",
       "Gauntlet of Command      0.003789\n",
       "Shield of Justice        0.003774\n",
       "Tremor                   0.003597\n",
       "Coward’s End             0.003508\n",
       "Save the Pack            0.003414\n",
       "Mindwarper               0.003360\n",
       "Control the Weak         0.003318\n",
       "Arise!                   0.003310\n",
       "                           ...   \n",
       "Master of 3              0.000414\n",
       "Mother Northelle         0.000413\n",
       "Entropic Manipulator     0.000413\n",
       "Gravid Cycle             0.000412\n",
       "Killzord mk. 9001        0.000398\n",
       "Fetchdrones              0.000396\n",
       "Destructive Analysis     0.000395\n",
       "Quicksand                0.000392\n",
       "Bellowing Patrizate      0.000391\n",
       "Roxador                  0.000389\n",
       "Extinction               0.000389\n",
       "Seraphic Armor           0.000388\n",
       "Heist Night              0.000388\n",
       "Wretched Doll            0.000386\n",
       "Cybergiant Rig           0.000377\n",
       "Master of 2              0.000375\n",
       "Shard of Pain            0.000286\n",
       "Shard of Knowledge       0.000264\n",
       "Shadows Ambassador       0.000247\n",
       "Shard of Hope            0.000245\n",
       "Shard of Greed           0.000245\n",
       "Shard of Life            0.000245\n",
       "Shard of Hate            0.000245\n",
       "Logos Ambassador         0.000238\n",
       "Mars Ambassador          0.000221\n",
       "Dis Ambassador           0.000220\n",
       "Untamed Ambassador       0.000216\n",
       "Shard of Strength        0.000214\n",
       "Brobnar Ambassador       0.000193\n",
       "[REDACTED]               0.000000\n",
       "Length: 582, dtype: float64"
      ]
     },
     "execution_count": 22,
     "metadata": {},
     "output_type": "execute_result"
    }
   ],
   "source": [
    "feature_imp = pd.Series(clf.feature_importances_,index=x.columns).sort_values(ascending=False)\n",
    "feature_imp"
   ]
  },
  {
   "cell_type": "markdown",
   "metadata": {},
   "source": [
    "---------"
   ]
  },
  {
   "cell_type": "code",
   "execution_count": 241,
   "metadata": {},
   "outputs": [],
   "source": [
    "x = deck_df[['house_brobnar','house_dis','house_sanctum','house_mars','house_untamed','house_shadows', 'house_logos']]\n",
    "y = deck_df[['score']]"
   ]
  },
  {
   "cell_type": "code",
   "execution_count": 242,
   "metadata": {},
   "outputs": [
    {
     "data": {
      "text/plain": [
       "RandomForestClassifier(bootstrap=True, class_weight=None, criterion='gini',\n",
       "                       max_depth=None, max_features='auto', max_leaf_nodes=None,\n",
       "                       min_impurity_decrease=0.0, min_impurity_split=None,\n",
       "                       min_samples_leaf=1, min_samples_split=2,\n",
       "                       min_weight_fraction_leaf=0.0, n_estimators=100,\n",
       "                       n_jobs=None, oob_score=False, random_state=None,\n",
       "                       verbose=0, warm_start=False)"
      ]
     },
     "execution_count": 242,
     "metadata": {},
     "output_type": "execute_result"
    }
   ],
   "source": [
    "x_train, x_test, y_train, y_test = train_test_split(x, y, test_size=0.3) # 70% training and 30% test\n",
    "clf.fit(x_train, y_train.values.ravel())"
   ]
  },
  {
   "cell_type": "code",
   "execution_count": 243,
   "metadata": {},
   "outputs": [],
   "source": [
    "y_pred=clf.predict(x_test)"
   ]
  },
  {
   "cell_type": "code",
   "execution_count": 244,
   "metadata": {},
   "outputs": [
    {
     "name": "stdout",
     "output_type": "stream",
     "text": [
      "Accuracy: 0.19758244206773617\n"
     ]
    }
   ],
   "source": [
    "print(\"Accuracy:\",metrics.accuracy_score(y_test, y_pred))"
   ]
  },
  {
   "cell_type": "code",
   "execution_count": 245,
   "metadata": {},
   "outputs": [
    {
     "data": {
      "text/plain": [
       "house_shadows    0.390634\n",
       "house_mars       0.154584\n",
       "house_dis        0.099420\n",
       "house_logos      0.092508\n",
       "house_untamed    0.092004\n",
       "house_sanctum    0.085797\n",
       "house_brobnar    0.085054\n",
       "dtype: float64"
      ]
     },
     "execution_count": 245,
     "metadata": {},
     "output_type": "execute_result"
    }
   ],
   "source": [
    "feature_imp = pd.Series(clf.feature_importances_,index=x.columns).sort_values(ascending=False)\n",
    "feature_imp"
   ]
  },
  {
   "cell_type": "code",
   "execution_count": null,
   "metadata": {},
   "outputs": [],
   "source": []
  }
 ],
 "metadata": {
  "kernelspec": {
   "display_name": "Python 3",
   "language": "python",
   "name": "python3"
  },
  "language_info": {
   "codemirror_mode": {
    "name": "ipython",
    "version": 3
   },
   "file_extension": ".py",
   "mimetype": "text/x-python",
   "name": "python",
   "nbconvert_exporter": "python",
   "pygments_lexer": "ipython3",
   "version": "3.7.3"
  }
 },
 "nbformat": 4,
 "nbformat_minor": 2
}
