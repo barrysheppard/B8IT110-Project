{
 "cells": [
  {
   "cell_type": "markdown",
   "metadata": {},
   "source": [
    "# Project"
   ]
  },
  {
   "cell_type": "markdown",
   "metadata": {},
   "source": [
    "The aim of this Capstone project is to consolidate the knowledge, skills and competences acquired by learners during this programme. In this project students will select, specify, design, justify and implement a data analytics investigation that makes use of large data sets. The project will necessarily require data ingestion, wrangling, computation and analyses, and the production and presentation of a project and report. Students are guided by faculty in the selection of a data set, scope of investigation, initial exploratory data analysis, and formulation of hypotheses."
   ]
  },
  {
   "cell_type": "code",
   "execution_count": 1,
   "metadata": {},
   "outputs": [],
   "source": [
    "import pandas as pd\n",
    "import numpy as np\n",
    "import matplotlib as mpl\n",
    "import matplotlib.pyplot as plt\n",
    "import ast"
   ]
  },
  {
   "cell_type": "code",
   "execution_count": 2,
   "metadata": {},
   "outputs": [
    {
     "name": "stdout",
     "output_type": "stream",
     "text": [
      "This is a test\n"
     ]
    }
   ],
   "source": [
    "print('This is a test')"
   ]
  },
  {
   "cell_type": "code",
   "execution_count": 3,
   "metadata": {},
   "outputs": [],
   "source": [
    "from clean import create_card_df\n",
    "from clean import create_deck_df"
   ]
  },
  {
   "cell_type": "code",
   "execution_count": 4,
   "metadata": {},
   "outputs": [
    {
     "name": "stdout",
     "output_type": "stream",
     "text": [
      "Unnamed: 0                                                        0\n",
      "deck_id                        16ec51ad-9347-4fc9-bda5-cbb4a5d16150\n",
      "deck_name                   E. Fairfax, Engenheiro do Reino da Fome\n",
      "deck_wins                                                         0\n",
      "deck_losses                                                       0\n",
      "deck_expansion                                                  341\n",
      "deck_list         [892c0a68-5213-48b2-8883-2ac3c97ac83c, 892c0a6...\n",
      "houses                                   ['Dis', 'Mars', 'Sanctum']\n",
      "Name: 0, dtype: object\n"
     ]
    }
   ],
   "source": [
    "deck_df = create_deck_df()\n",
    "print(deck_df.iloc[0])"
   ]
  },
  {
   "cell_type": "code",
   "execution_count": 5,
   "metadata": {},
   "outputs": [
    {
     "name": "stdout",
     "output_type": "stream",
     "text": [
      "Total decks:1232325\n"
     ]
    }
   ],
   "source": [
    "print(\"Total decks:\" + str(len(deck_df)))"
   ]
  },
  {
   "cell_type": "code",
   "execution_count": 6,
   "metadata": {},
   "outputs": [
    {
     "name": "stdout",
     "output_type": "stream",
     "text": [
      "Decks with wins:59840\n"
     ]
    }
   ],
   "source": [
    "print(\"Decks with wins:\" + str(len(deck_df.loc[(deck_df['deck_wins'] > 0)])))"
   ]
  },
  {
   "cell_type": "code",
   "execution_count": 7,
   "metadata": {},
   "outputs": [
    {
     "name": "stdout",
     "output_type": "stream",
     "text": [
      "Unnamed: 0                                        0\n",
      "card_id        bfaef0df-911c-4f21-a452-83d1144dc0c4\n",
      "card_title                        Ixxyxli Fixfinger\n",
      "card_type                                  Creature\n",
      "card_amber                                        0\n",
      "card_power                                        2\n",
      "card_armor                                        2\n",
      "card_traits                     Martian • Scientist\n",
      "Name: 0, dtype: object\n"
     ]
    }
   ],
   "source": [
    "card_df = create_card_df()\n",
    "print(card_df.iloc[0])"
   ]
  },
  {
   "cell_type": "code",
   "execution_count": 8,
   "metadata": {},
   "outputs": [
    {
     "name": "stdout",
     "output_type": "stream",
     "text": [
      "Total cards:3634\n"
     ]
    }
   ],
   "source": [
    "print(\"Total cards:\" + str(len(card_df)))"
   ]
  },
  {
   "cell_type": "code",
   "execution_count": 103,
   "metadata": {},
   "outputs": [
    {
     "name": "stdout",
     "output_type": "stream",
     "text": [
      "Gateway to Dis\n"
     ]
    }
   ],
   "source": [
    "x = card_df.loc[(card_df['card_id'] == deck_df.iloc[0]['deck_list'][3])]['card_title']\n",
    "print(x.item())"
   ]
  },
  {
   "cell_type": "code",
   "execution_count": 112,
   "metadata": {},
   "outputs": [],
   "source": [
    "winning_decks = deck_df.loc[(deck_df['deck_wins'] > 0)]"
   ]
  },
  {
   "cell_type": "code",
   "execution_count": 11,
   "metadata": {},
   "outputs": [
    {
     "name": "stdout",
     "output_type": "stream",
     "text": [
      "Total decks:59840\n"
     ]
    }
   ],
   "source": [
    "print(\"Total decks:\" + str(len(winning_decks)))"
   ]
  },
  {
   "cell_type": "code",
   "execution_count": 12,
   "metadata": {},
   "outputs": [],
   "source": [
    "def get_card_names(deck_list):\n",
    "    '''From np array of card ids return list of card names'''\n",
    "    x = []\n",
    "    for i in deck_list:\n",
    "        print(card_df.loc[(card_df['card_id'] == i)]['card_title'].item())\n",
    "    return(x)"
   ]
  },
  {
   "cell_type": "code",
   "execution_count": 122,
   "metadata": {},
   "outputs": [
    {
     "name": "stdout",
     "output_type": "stream",
     "text": [
      "Bouncing Deathquark\n",
      "Effervescent Principle\n",
      "Labwork\n",
      "Labwork\n",
      "Library Access\n",
      "Phase Shift\n",
      "Wild Wormhole\n",
      "Library of Babble\n",
      "Mother\n",
      "Ozmo, Martianologist\n",
      "Titan Mechanic\n",
      "Titan Mechanic\n",
      "Blinding Light\n",
      "Blinding Light\n",
      "Blinding Light\n",
      "Cleansing Wave\n",
      "Glorious Few\n",
      "Inspiration\n",
      "Inspiration\n",
      "Hallowed Blaster\n",
      "Whispering Reliquary\n",
      "Champion Anaphiel\n",
      "Sequis\n",
      "The Vaultkeeper\n",
      "Bait and Switch\n",
      "Miasma\n",
      "Miasma\n",
      "Bad Penny\n",
      "Nexus\n",
      "Noddy the Thief\n",
      "Noddy the Thief\n",
      "Dodger\n",
      "Dodger\n",
      "Shadow Self\n",
      "Silvertooth\n",
      "Umbra\n",
      "[]\n"
     ]
    }
   ],
   "source": [
    "print(get_card_names(winning_decks.loc[1000]['deck_list']))"
   ]
  },
  {
   "cell_type": "code",
   "execution_count": 119,
   "metadata": {},
   "outputs": [
    {
     "name": "stdout",
     "output_type": "stream",
     "text": [
      "Unnamed: 0                                                        3\n",
      "deck_id                        6216e565-a790-4e5b-b89a-4a814917b94e\n",
      "deck_name                    Leif “As”, Granjera de la Alcantarilla\n",
      "deck_wins                                                         2\n",
      "deck_losses                                                       1\n",
      "deck_expansion                                                  435\n",
      "deck_list         [417b7845-2c67-4bcf-b411-20f2a7d86955, 920f300...\n",
      "houses                                ['Brobnar', 'Dis', 'Sanctum']\n",
      "Name: 3, dtype: object\n"
     ]
    }
   ],
   "source": [
    "print(winning_decks.iloc[0])"
   ]
  },
  {
   "cell_type": "code",
   "execution_count": 24,
   "metadata": {},
   "outputs": [
    {
     "name": "stdout",
     "output_type": "stream",
     "text": [
      "['Brobnar', 'Dis', 'Sanctum']\n"
     ]
    }
   ],
   "source": [
    "print(ast.literal_eval(winning_decks.iloc[0]['houses']))"
   ]
  },
  {
   "cell_type": "code",
   "execution_count": null,
   "metadata": {},
   "outputs": [],
   "source": []
  },
  {
   "cell_type": "code",
   "execution_count": null,
   "metadata": {},
   "outputs": [],
   "source": [
    "deck_df['deck_list_names'] = deck_df['deck_list'].apply(get_card_names)"
   ]
  },
  {
   "cell_type": "code",
   "execution_count": null,
   "metadata": {},
   "outputs": [],
   "source": [
    "print(deck_df.iloc[0]['deck_list_names'])"
   ]
  },
  {
   "cell_type": "code",
   "execution_count": 25,
   "metadata": {},
   "outputs": [
    {
     "name": "stdout",
     "output_type": "stream",
     "text": [
      "Unnamed: 0                                        1\n",
      "card_id        e3a8d05a-252a-4d07-bebe-8a5b69efb98c\n",
      "card_title                             Yantzee Gang\n",
      "card_type                                  Creature\n",
      "card_amber                                        0\n",
      "card_power                                        5\n",
      "card_armor                                      NaN\n",
      "card_traits                             Elf • Thief\n",
      "Name: 1, dtype: object\n"
     ]
    }
   ],
   "source": [
    "print(card_df.iloc[1])"
   ]
  },
  {
   "cell_type": "code",
   "execution_count": 26,
   "metadata": {},
   "outputs": [
    {
     "name": "stdout",
     "output_type": "stream",
     "text": [
      "Unnamed: 0                                      120\n",
      "card_id        67c04993-f6b5-4c35-9b25-456f464ce530\n",
      "card_title                        Combat Pheromones\n",
      "card_type                                  Artifact\n",
      "card_amber                                        1\n",
      "card_power                                      NaN\n",
      "card_armor                                      NaN\n",
      "card_traits                                    Item\n",
      "Name: 120, dtype: object\n"
     ]
    }
   ],
   "source": [
    "print(card_df.iloc[120])"
   ]
  },
  {
   "cell_type": "code",
   "execution_count": 123,
   "metadata": {},
   "outputs": [],
   "source": [
    "winning_decks.to_csv(\"Winning_Decks.csv\", header=True)"
   ]
  },
  {
   "cell_type": "code",
   "execution_count": 124,
   "metadata": {},
   "outputs": [],
   "source": [
    "card_df.to_csv(\"Cards.csv\", header=True)"
   ]
  },
  {
   "cell_type": "markdown",
   "metadata": {},
   "source": [
    "*New Starting Point*"
   ]
  },
  {
   "cell_type": "code",
   "execution_count": 2,
   "metadata": {},
   "outputs": [],
   "source": [
    "new_deck_df = pd.read_csv(\"Winning_Decks.csv\")"
   ]
  },
  {
   "cell_type": "code",
   "execution_count": 3,
   "metadata": {},
   "outputs": [],
   "source": [
    "card_df = pd.read_csv(\"Cards.csv\")"
   ]
  },
  {
   "cell_type": "code",
   "execution_count": 4,
   "metadata": {},
   "outputs": [
    {
     "name": "stdout",
     "output_type": "stream",
     "text": [
      "['Brobnar', 'Dis', 'Sanctum']\n"
     ]
    }
   ],
   "source": [
    "print(new_deck_df.iloc[0]['houses'])"
   ]
  },
  {
   "cell_type": "code",
   "execution_count": 5,
   "metadata": {},
   "outputs": [
    {
     "name": "stdout",
     "output_type": "stream",
     "text": [
      "['417b7845-2c67-4bcf-b411-20f2a7d86955'\n",
      " '920f3001-2f7a-4c21-b5b6-5d95fc5c0fef'\n",
      " '0ec85771-8143-4d64-8c3a-ce48bce4e81c'\n",
      " '4e6ddfb1-80bb-408c-9470-9a17120b96dc'\n",
      " 'eb3bd495-1d1a-45f6-941e-a0cf159431d1'\n",
      " 'bf88c08c-9cb3-4541-8330-5f209104c7d5'\n",
      " '3293f116-662c-4484-8951-accb4f25dd00'\n",
      " '69252efa-9686-4868-aca9-b8bc5af7cb8a'\n",
      " 'ef95c09f-7134-470c-8ddf-7ae1c84bbcb0'\n",
      " '52e8b81a-a716-4147-afcf-560bec2a3523'\n",
      " '16cdef01-a9d6-44d9-b0e0-247544e1db7f'\n",
      " 'b822fd9d-8209-49dd-b1b1-541f54641bf1'\n",
      " '0c75c0ba-d9ac-48f0-a1a2-72ae29000ea2'\n",
      " '17387482-a223-488a-a8ba-6911d691c281'\n",
      " '17387482-a223-488a-a8ba-6911d691c281'\n",
      " '9b5ad855-50f3-43e6-ad85-af95da564469'\n",
      " '29ddc45f-882b-4cb2-bb9b-efb91bd09e82'\n",
      " '7dcc8edb-ee57-4152-9b5d-cc012fa9973b'\n",
      " '7dcc8edb-ee57-4152-9b5d-cc012fa9973b'\n",
      " '7dcc8edb-ee57-4152-9b5d-cc012fa9973b'\n",
      " 'dc2f26d0-a6ab-4e15-b102-f23d6d26969b'\n",
      " '300dda74-ff5c-42e8-b17a-ff4eebc8109f'\n",
      " '77a3d587-3590-4fd3-80a1-1961f7c74ac7'\n",
      " 'dec37837-bdf2-4389-8204-92b75d32c9eb'\n",
      " 'eeac7978-6fa5-4c6a-a62e-144692ba93d6'\n",
      " '3ca70c14-4f07-46b4-b294-53b38b4bb987'\n",
      " '3ca70c14-4f07-46b4-b294-53b38b4bb987'\n",
      " '6ff72e74-35b9-4306-89e1-43101956ae3e'\n",
      " '74a2511a-7df8-4865-b125-cae3e4f0e41b'\n",
      " 'b81819bb-5687-452e-8582-182541142a23'\n",
      " '9ec01e67-b3f4-4ef7-8233-365f40da5fa8'\n",
      " '9b17219d-1ab4-41e6-95bf-00ba7a0dd938'\n",
      " '10f0c03b-1182-4ba1-9e85-2262643f81b3'\n",
      " '3b08ffe1-dc58-478c-94aa-4e7f40889552'\n",
      " '01d6a61c-7a02-4892-a6bc-b6d9f9da1266'\n",
      " 'd0e87df8-3bee-49bf-8c74-3456f05375a9']\n"
     ]
    }
   ],
   "source": [
    "print(new_deck_df.iloc[0]['deck_list'])"
   ]
  },
  {
   "cell_type": "code",
   "execution_count": 6,
   "metadata": {},
   "outputs": [
    {
     "name": "stdout",
     "output_type": "stream",
     "text": [
      "417b7845-2c67-4bcf-b411-20f2a7d86955\n"
     ]
    }
   ],
   "source": [
    "print(new_deck_df.loc[0]['deck_list'][2:38])"
   ]
  },
  {
   "cell_type": "code",
   "execution_count": 7,
   "metadata": {},
   "outputs": [
    {
     "name": "stdout",
     "output_type": "stream",
     "text": [
      "Bingle Bangbang\n"
     ]
    }
   ],
   "source": [
    "print(card_df.loc[(card_df['card_id'] == new_deck_df.loc[0]['deck_list'][2:38])]['card_title'].item())"
   ]
  },
  {
   "cell_type": "code",
   "execution_count": 8,
   "metadata": {},
   "outputs": [
    {
     "name": "stdout",
     "output_type": "stream",
     "text": [
      "920f3001-2f7a-4c21-b5b6-5d95fc5c0fef\n"
     ]
    }
   ],
   "source": [
    "print(new_deck_df.loc[0]['deck_list'][42:78])"
   ]
  },
  {
   "cell_type": "code",
   "execution_count": 9,
   "metadata": {},
   "outputs": [
    {
     "name": "stdout",
     "output_type": "stream",
     "text": [
      "Cowfyne\n"
     ]
    }
   ],
   "source": [
    "print(card_df.loc[(card_df['card_id'] == new_deck_df.loc[0]['deck_list'][42:78])]['card_title'].item())"
   ]
  },
  {
   "cell_type": "code",
   "execution_count": 10,
   "metadata": {},
   "outputs": [
    {
     "name": "stdout",
     "output_type": "stream",
     "text": [
      "417b7845-2c67-4bcf-b411-20f2a7d86955\n"
     ]
    }
   ],
   "source": [
    "start=2\n",
    "end=38\n",
    "print(new_deck_df.loc[0]['deck_list'][start:end])"
   ]
  },
  {
   "cell_type": "code",
   "execution_count": 11,
   "metadata": {},
   "outputs": [
    {
     "name": "stdout",
     "output_type": "stream",
     "text": [
      "417b7845-2c67-4bcf-b411-20f2a7d86955\n",
      "920f3001-2f7a-4c21-b5b6-5d95fc5c0fef\n",
      "0ec85771-8143-4d64-8c3a-ce48bce4e81c\n",
      "4e6ddfb1-80bb-408c-9470-9a17120b96dc\n",
      "eb3bd495-1d1a-45f6-941e-a0cf159431d1\n",
      "bf88c08c-9cb3-4541-8330-5f209104c7d5\n",
      "3293f116-662c-4484-8951-accb4f25dd00\n",
      "69252efa-9686-4868-aca9-b8bc5af7cb8a\n",
      "ef95c09f-7134-470c-8ddf-7ae1c84bbcb0\n",
      "52e8b81a-a716-4147-afcf-560bec2a3523\n",
      "16cdef01-a9d6-44d9-b0e0-247544e1db7f\n",
      "b822fd9d-8209-49dd-b1b1-541f54641bf1\n",
      "0c75c0ba-d9ac-48f0-a1a2-72ae29000ea2\n",
      "17387482-a223-488a-a8ba-6911d691c281\n",
      "17387482-a223-488a-a8ba-6911d691c281\n",
      "9b5ad855-50f3-43e6-ad85-af95da564469\n",
      "29ddc45f-882b-4cb2-bb9b-efb91bd09e82\n",
      "7dcc8edb-ee57-4152-9b5d-cc012fa9973b\n",
      "7dcc8edb-ee57-4152-9b5d-cc012fa9973b\n",
      "7dcc8edb-ee57-4152-9b5d-cc012fa9973b\n",
      "dc2f26d0-a6ab-4e15-b102-f23d6d26969b\n",
      "300dda74-ff5c-42e8-b17a-ff4eebc8109f\n",
      "77a3d587-3590-4fd3-80a1-1961f7c74ac7\n",
      "dec37837-bdf2-4389-8204-92b75d32c9eb\n",
      "eeac7978-6fa5-4c6a-a62e-144692ba93d6\n",
      "3ca70c14-4f07-46b4-b294-53b38b4bb987\n",
      "3ca70c14-4f07-46b4-b294-53b38b4bb987\n",
      "6ff72e74-35b9-4306-89e1-43101956ae3e\n",
      "74a2511a-7df8-4865-b125-cae3e4f0e41b\n",
      "b81819bb-5687-452e-8582-182541142a23\n",
      "9ec01e67-b3f4-4ef7-8233-365f40da5fa8\n",
      "9b17219d-1ab4-41e6-95bf-00ba7a0dd938\n",
      "10f0c03b-1182-4ba1-9e85-2262643f81b3\n",
      "3b08ffe1-dc58-478c-94aa-4e7f40889552\n",
      "01d6a61c-7a02-4892-a6bc-b6d9f9da1266\n",
      "d0e87df8-3bee-49bf-8c74-3456f05375a9\n"
     ]
    }
   ],
   "source": [
    "start=2\n",
    "end=38\n",
    "for i in range(36):\n",
    "    print(new_deck_df.loc[0]['deck_list'][start:end])\n",
    "    start = start + 40\n",
    "    end = end + 40\n",
    "    "
   ]
  },
  {
   "cell_type": "code",
   "execution_count": 12,
   "metadata": {},
   "outputs": [
    {
     "name": "stdout",
     "output_type": "stream",
     "text": [
      "Drummernaut\n",
      "Drummernaut\n",
      "First Blood\n",
      "Ganger Chieftain\n",
      "Ganger Chieftain\n",
      "Groggins\n",
      "Groke\n",
      "Groke\n",
      "Into the Fray\n",
      "Lollop the Titanic\n",
      "Tremor\n",
      "Barehanded\n",
      "Abond the Armorsmith\n",
      "Blinding Light\n",
      "Bordan the Redeemed\n",
      "Challe the Safeguard\n",
      "Sir Marrows\n",
      "Smite\n",
      "Take Hostages\n",
      "The Grey Rider\n",
      "The Grey Rider\n",
      "Haedroth’s Wall\n",
      "Prince Derric, Unifier\n",
      "The Vaultkeeper\n",
      "Duskwitch\n",
      "Grovekeeper\n",
      "Key Charge\n",
      "Regrowth\n",
      "Rustgnawer\n",
      "Tantadlin\n",
      "They’re Everywhere!\n",
      "Grasping Vines\n",
      "Grasping Vines\n",
      "Panpaca, Anga\n",
      "Panpaca, Anga\n",
      "Quicksand\n"
     ]
    }
   ],
   "source": [
    "start=2\n",
    "end=38\n",
    "for i in range(36):\n",
    "    print(card_df.loc[(card_df['card_id'] == \\\n",
    "                       new_deck_df.loc[1]['deck_list'][start:end])]['card_title'].item())\n",
    "    start = start + 40\n",
    "    end = end + 40"
   ]
  },
  {
   "cell_type": "code",
   "execution_count": 13,
   "metadata": {},
   "outputs": [
    {
     "name": "stdout",
     "output_type": "stream",
     "text": [
      "Brobnar\n",
      "Mars\n",
      "Sanctum\n"
     ]
    }
   ],
   "source": [
    "house_length = len(new_deck_df.loc[2]['houses'])\n",
    "houses = new_deck_df.loc[2]['houses'][2:house_length-2].split(\"', '\")\n",
    "print(houses[0])\n",
    "print(houses[1])\n",
    "print(houses[2])"
   ]
  },
  {
   "cell_type": "code",
   "execution_count": 14,
   "metadata": {},
   "outputs": [
    {
     "name": "stdout",
     "output_type": "stream",
     "text": [
      "['Drummernaut', 'Drummernaut', 'First Blood', 'Ganger Chieftain', 'Ganger Chieftain', 'Groggins', 'Groke', 'Groke', 'Into the Fray', 'Lollop the Titanic', 'Tremor', 'Barehanded', 'Abond the Armorsmith', 'Blinding Light', 'Bordan the Redeemed', 'Challe the Safeguard', 'Sir Marrows', 'Smite', 'Take Hostages', 'The Grey Rider', 'The Grey Rider', 'Haedroth’s Wall', 'Prince Derric, Unifier', 'The Vaultkeeper', 'Duskwitch', 'Grovekeeper', 'Key Charge', 'Regrowth', 'Rustgnawer', 'Tantadlin', 'They’re Everywhere!', 'Grasping Vines', 'Grasping Vines', 'Panpaca, Anga', 'Panpaca, Anga', 'Quicksand']\n"
     ]
    }
   ],
   "source": [
    "new_card_list = []\n",
    "start=2\n",
    "end=38\n",
    "for i in range(36):\n",
    "    card = card_df.loc[(card_df['card_id'] == \\\n",
    "                       new_deck_df.loc[1]['deck_list'][start:end])]['card_title'].item()\n",
    "    new_card_list.append(card)\n",
    "    start = start + 40\n",
    "    end = end + 40\n",
    "print(new_card_list)"
   ]
  },
  {
   "cell_type": "code",
   "execution_count": 15,
   "metadata": {},
   "outputs": [
    {
     "name": "stdout",
     "output_type": "stream",
     "text": [
      "['Brobnar', 'Mars', 'Sanctum']\n"
     ]
    }
   ],
   "source": [
    "house_length = len(new_deck_df.loc[2]['houses'])\n",
    "houses = new_deck_df.loc[2]['houses'][2:house_length-2].split(\"', '\")\n",
    "print(houses)"
   ]
  },
  {
   "cell_type": "markdown",
   "metadata": {},
   "source": [
    "The next thing we want to be able to do is change the data so it has a single row for each card. In this case we want the current details we have for each deck repeated."
   ]
  },
  {
   "cell_type": "code",
   "execution_count": 16,
   "metadata": {},
   "outputs": [
    {
     "name": "stdout",
     "output_type": "stream",
     "text": [
      "Unnamed: 0                                                       25\n",
      "Unnamed: 0.1                                                      0\n",
      "deck_id                        50e28cdd-6e6b-4584-a8d1-1f22c081e906\n",
      "deck_name                           “Ivan” Valencia, Ship Chieftain\n",
      "deck_wins                                                         1\n",
      "deck_losses                                                       3\n",
      "deck_expansion                                                  435\n",
      "deck_list         ['2ee769bb-b785-48ea-a5fa-a19a2af32bbc'\\n '2ee...\n",
      "houses                            ['Brobnar', 'Sanctum', 'Untamed']\n",
      "Name: 1, dtype: object\n"
     ]
    }
   ],
   "source": [
    "print(new_deck_df.iloc[1])"
   ]
  },
  {
   "cell_type": "code",
   "execution_count": 17,
   "metadata": {},
   "outputs": [
    {
     "name": "stdout",
     "output_type": "stream",
     "text": [
      "50e28cdd-6e6b-4584-a8d1-1f22c081e906 “Ivan” Valencia, Ship Chieftain 1 3 435 435\n"
     ]
    }
   ],
   "source": [
    "print(new_deck_df.iloc[1]['deck_id'], new_deck_df.iloc[1]['deck_name'], new_deck_df.iloc[1]['deck_wins'], new_deck_df.iloc[1]['deck_losses'], new_deck_df.iloc[1]['deck_expansion'], new_deck_df.iloc[1]['deck_expansion'])"
   ]
  },
  {
   "cell_type": "code",
   "execution_count": 18,
   "metadata": {},
   "outputs": [],
   "source": [
    "deck_list = [card_df.iloc[1]['card_id'],card_df.iloc[1]['card_title'],'']"
   ]
  },
  {
   "cell_type": "markdown",
   "metadata": {},
   "source": [
    "Lets see if we can plot anything"
   ]
  },
  {
   "cell_type": "code",
   "execution_count": 19,
   "metadata": {},
   "outputs": [],
   "source": [
    "%matplotlib inline"
   ]
  },
  {
   "cell_type": "code",
   "execution_count": 20,
   "metadata": {},
   "outputs": [
    {
     "data": {
      "text/html": [
       "<div>\n",
       "<style scoped>\n",
       "    .dataframe tbody tr th:only-of-type {\n",
       "        vertical-align: middle;\n",
       "    }\n",
       "\n",
       "    .dataframe tbody tr th {\n",
       "        vertical-align: top;\n",
       "    }\n",
       "\n",
       "    .dataframe thead th {\n",
       "        text-align: right;\n",
       "    }\n",
       "</style>\n",
       "<table border=\"1\" class=\"dataframe\">\n",
       "  <thead>\n",
       "    <tr style=\"text-align: right;\">\n",
       "      <th></th>\n",
       "      <th>Unnamed: 0</th>\n",
       "      <th>Unnamed: 0.1</th>\n",
       "      <th>deck_id</th>\n",
       "      <th>deck_name</th>\n",
       "      <th>deck_wins</th>\n",
       "      <th>deck_losses</th>\n",
       "      <th>deck_expansion</th>\n",
       "      <th>deck_list</th>\n",
       "      <th>houses</th>\n",
       "    </tr>\n",
       "  </thead>\n",
       "  <tbody>\n",
       "    <tr>\n",
       "      <th>0</th>\n",
       "      <td>3</td>\n",
       "      <td>3</td>\n",
       "      <td>6216e565-a790-4e5b-b89a-4a814917b94e</td>\n",
       "      <td>Leif “As”, Granjera de la Alcantarilla</td>\n",
       "      <td>2</td>\n",
       "      <td>1</td>\n",
       "      <td>435</td>\n",
       "      <td>['417b7845-2c67-4bcf-b411-20f2a7d86955'\\n '920...</td>\n",
       "      <td>['Brobnar', 'Dis', 'Sanctum']</td>\n",
       "    </tr>\n",
       "    <tr>\n",
       "      <th>1</th>\n",
       "      <td>25</td>\n",
       "      <td>0</td>\n",
       "      <td>50e28cdd-6e6b-4584-a8d1-1f22c081e906</td>\n",
       "      <td>“Ivan” Valencia, Ship Chieftain</td>\n",
       "      <td>1</td>\n",
       "      <td>3</td>\n",
       "      <td>435</td>\n",
       "      <td>['2ee769bb-b785-48ea-a5fa-a19a2af32bbc'\\n '2ee...</td>\n",
       "      <td>['Brobnar', 'Sanctum', 'Untamed']</td>\n",
       "    </tr>\n",
       "    <tr>\n",
       "      <th>2</th>\n",
       "      <td>28</td>\n",
       "      <td>3</td>\n",
       "      <td>3969e139-05d7-4a8a-ba60-0bb660cd057b</td>\n",
       "      <td>Nasir, Canal Survivalist</td>\n",
       "      <td>2</td>\n",
       "      <td>1</td>\n",
       "      <td>435</td>\n",
       "      <td>['a3234c40-8226-439d-bb8f-207ea26c9560'\\n '920...</td>\n",
       "      <td>['Brobnar', 'Mars', 'Sanctum']</td>\n",
       "    </tr>\n",
       "    <tr>\n",
       "      <th>3</th>\n",
       "      <td>31</td>\n",
       "      <td>6</td>\n",
       "      <td>5668bdc3-dea4-4226-92ba-91b003a5460e</td>\n",
       "      <td>Destrolack, Observatory Recluse</td>\n",
       "      <td>4</td>\n",
       "      <td>4</td>\n",
       "      <td>435</td>\n",
       "      <td>['7bf05cd5-7c03-4e06-9ace-bb730ff6100e'\\n '7bf...</td>\n",
       "      <td>['Logos', 'Sanctum', 'Untamed']</td>\n",
       "    </tr>\n",
       "    <tr>\n",
       "      <th>4</th>\n",
       "      <td>44</td>\n",
       "      <td>19</td>\n",
       "      <td>749780f6-7acb-402a-9fd6-f6fbbcf888e1</td>\n",
       "      <td>Tiberius, Navigatore della Guglia Aperta</td>\n",
       "      <td>8</td>\n",
       "      <td>4</td>\n",
       "      <td>341</td>\n",
       "      <td>['753bfb51-4ba7-4c0a-b141-a5b6388498c0'\\n 'aee...</td>\n",
       "      <td>['Mars', 'Shadows', 'Untamed']</td>\n",
       "    </tr>\n",
       "  </tbody>\n",
       "</table>\n",
       "</div>"
      ],
      "text/plain": [
       "   Unnamed: 0  Unnamed: 0.1                               deck_id  \\\n",
       "0           3             3  6216e565-a790-4e5b-b89a-4a814917b94e   \n",
       "1          25             0  50e28cdd-6e6b-4584-a8d1-1f22c081e906   \n",
       "2          28             3  3969e139-05d7-4a8a-ba60-0bb660cd057b   \n",
       "3          31             6  5668bdc3-dea4-4226-92ba-91b003a5460e   \n",
       "4          44            19  749780f6-7acb-402a-9fd6-f6fbbcf888e1   \n",
       "\n",
       "                                  deck_name  deck_wins  deck_losses  \\\n",
       "0    Leif “As”, Granjera de la Alcantarilla          2            1   \n",
       "1           “Ivan” Valencia, Ship Chieftain          1            3   \n",
       "2                  Nasir, Canal Survivalist          2            1   \n",
       "3           Destrolack, Observatory Recluse          4            4   \n",
       "4  Tiberius, Navigatore della Guglia Aperta          8            4   \n",
       "\n",
       "   deck_expansion                                          deck_list  \\\n",
       "0             435  ['417b7845-2c67-4bcf-b411-20f2a7d86955'\\n '920...   \n",
       "1             435  ['2ee769bb-b785-48ea-a5fa-a19a2af32bbc'\\n '2ee...   \n",
       "2             435  ['a3234c40-8226-439d-bb8f-207ea26c9560'\\n '920...   \n",
       "3             435  ['7bf05cd5-7c03-4e06-9ace-bb730ff6100e'\\n '7bf...   \n",
       "4             341  ['753bfb51-4ba7-4c0a-b141-a5b6388498c0'\\n 'aee...   \n",
       "\n",
       "                              houses  \n",
       "0      ['Brobnar', 'Dis', 'Sanctum']  \n",
       "1  ['Brobnar', 'Sanctum', 'Untamed']  \n",
       "2     ['Brobnar', 'Mars', 'Sanctum']  \n",
       "3    ['Logos', 'Sanctum', 'Untamed']  \n",
       "4     ['Mars', 'Shadows', 'Untamed']  "
      ]
     },
     "execution_count": 20,
     "metadata": {},
     "output_type": "execute_result"
    }
   ],
   "source": [
    "new_deck_df.head()"
   ]
  },
  {
   "cell_type": "code",
   "execution_count": 21,
   "metadata": {},
   "outputs": [
    {
     "data": {
      "text/html": [
       "<div>\n",
       "<style scoped>\n",
       "    .dataframe tbody tr th:only-of-type {\n",
       "        vertical-align: middle;\n",
       "    }\n",
       "\n",
       "    .dataframe tbody tr th {\n",
       "        vertical-align: top;\n",
       "    }\n",
       "\n",
       "    .dataframe thead th {\n",
       "        text-align: right;\n",
       "    }\n",
       "</style>\n",
       "<table border=\"1\" class=\"dataframe\">\n",
       "  <thead>\n",
       "    <tr style=\"text-align: right;\">\n",
       "      <th></th>\n",
       "      <th>Unnamed: 0</th>\n",
       "      <th>Unnamed: 0.1</th>\n",
       "      <th>deck_wins</th>\n",
       "      <th>deck_losses</th>\n",
       "      <th>deck_expansion</th>\n",
       "    </tr>\n",
       "  </thead>\n",
       "  <tbody>\n",
       "    <tr>\n",
       "      <th>count</th>\n",
       "      <td>59840.000000</td>\n",
       "      <td>59840.000000</td>\n",
       "      <td>59840.000000</td>\n",
       "      <td>59840.000000</td>\n",
       "      <td>59840.000000</td>\n",
       "    </tr>\n",
       "    <tr>\n",
       "      <th>mean</th>\n",
       "      <td>22222.906618</td>\n",
       "      <td>12.055180</td>\n",
       "      <td>2.789004</td>\n",
       "      <td>2.274499</td>\n",
       "      <td>372.833389</td>\n",
       "    </tr>\n",
       "    <tr>\n",
       "      <th>std</th>\n",
       "      <td>13979.948589</td>\n",
       "      <td>7.211019</td>\n",
       "      <td>2.444614</td>\n",
       "      <td>1.837420</td>\n",
       "      <td>44.486031</td>\n",
       "    </tr>\n",
       "    <tr>\n",
       "      <th>min</th>\n",
       "      <td>0.000000</td>\n",
       "      <td>0.000000</td>\n",
       "      <td>1.000000</td>\n",
       "      <td>0.000000</td>\n",
       "      <td>341.000000</td>\n",
       "    </tr>\n",
       "    <tr>\n",
       "      <th>25%</th>\n",
       "      <td>10237.000000</td>\n",
       "      <td>6.000000</td>\n",
       "      <td>1.000000</td>\n",
       "      <td>1.000000</td>\n",
       "      <td>341.000000</td>\n",
       "    </tr>\n",
       "    <tr>\n",
       "      <th>50%</th>\n",
       "      <td>21047.500000</td>\n",
       "      <td>12.000000</td>\n",
       "      <td>2.000000</td>\n",
       "      <td>2.000000</td>\n",
       "      <td>341.000000</td>\n",
       "    </tr>\n",
       "    <tr>\n",
       "      <th>75%</th>\n",
       "      <td>33161.500000</td>\n",
       "      <td>18.000000</td>\n",
       "      <td>3.000000</td>\n",
       "      <td>3.000000</td>\n",
       "      <td>435.000000</td>\n",
       "    </tr>\n",
       "    <tr>\n",
       "      <th>max</th>\n",
       "      <td>56093.000000</td>\n",
       "      <td>24.000000</td>\n",
       "      <td>40.000000</td>\n",
       "      <td>39.000000</td>\n",
       "      <td>435.000000</td>\n",
       "    </tr>\n",
       "  </tbody>\n",
       "</table>\n",
       "</div>"
      ],
      "text/plain": [
       "         Unnamed: 0  Unnamed: 0.1     deck_wins   deck_losses  deck_expansion\n",
       "count  59840.000000  59840.000000  59840.000000  59840.000000    59840.000000\n",
       "mean   22222.906618     12.055180      2.789004      2.274499      372.833389\n",
       "std    13979.948589      7.211019      2.444614      1.837420       44.486031\n",
       "min        0.000000      0.000000      1.000000      0.000000      341.000000\n",
       "25%    10237.000000      6.000000      1.000000      1.000000      341.000000\n",
       "50%    21047.500000     12.000000      2.000000      2.000000      341.000000\n",
       "75%    33161.500000     18.000000      3.000000      3.000000      435.000000\n",
       "max    56093.000000     24.000000     40.000000     39.000000      435.000000"
      ]
     },
     "execution_count": 21,
     "metadata": {},
     "output_type": "execute_result"
    }
   ],
   "source": [
    "new_deck_df.describe()"
   ]
  },
  {
   "cell_type": "code",
   "execution_count": 22,
   "metadata": {},
   "outputs": [
    {
     "data": {
      "text/html": [
       "<div>\n",
       "<style scoped>\n",
       "    .dataframe tbody tr th:only-of-type {\n",
       "        vertical-align: middle;\n",
       "    }\n",
       "\n",
       "    .dataframe tbody tr th {\n",
       "        vertical-align: top;\n",
       "    }\n",
       "\n",
       "    .dataframe thead th {\n",
       "        text-align: right;\n",
       "    }\n",
       "</style>\n",
       "<table border=\"1\" class=\"dataframe\">\n",
       "  <thead>\n",
       "    <tr style=\"text-align: right;\">\n",
       "      <th></th>\n",
       "      <th>deck_wins</th>\n",
       "      <th>deck_losses</th>\n",
       "      <th>deck_expansion</th>\n",
       "    </tr>\n",
       "  </thead>\n",
       "  <tbody>\n",
       "    <tr>\n",
       "      <th>0</th>\n",
       "      <td>2</td>\n",
       "      <td>1</td>\n",
       "      <td>435</td>\n",
       "    </tr>\n",
       "    <tr>\n",
       "      <th>1</th>\n",
       "      <td>1</td>\n",
       "      <td>3</td>\n",
       "      <td>435</td>\n",
       "    </tr>\n",
       "    <tr>\n",
       "      <th>2</th>\n",
       "      <td>2</td>\n",
       "      <td>1</td>\n",
       "      <td>435</td>\n",
       "    </tr>\n",
       "    <tr>\n",
       "      <th>3</th>\n",
       "      <td>4</td>\n",
       "      <td>4</td>\n",
       "      <td>435</td>\n",
       "    </tr>\n",
       "    <tr>\n",
       "      <th>4</th>\n",
       "      <td>8</td>\n",
       "      <td>4</td>\n",
       "      <td>341</td>\n",
       "    </tr>\n",
       "  </tbody>\n",
       "</table>\n",
       "</div>"
      ],
      "text/plain": [
       "   deck_wins  deck_losses  deck_expansion\n",
       "0          2            1             435\n",
       "1          1            3             435\n",
       "2          2            1             435\n",
       "3          4            4             435\n",
       "4          8            4             341"
      ]
     },
     "execution_count": 22,
     "metadata": {},
     "output_type": "execute_result"
    }
   ],
   "source": [
    "decks = new_deck_df[['deck_wins','deck_losses','deck_expansion']]\n",
    "decks.head()"
   ]
  },
  {
   "cell_type": "code",
   "execution_count": 23,
   "metadata": {},
   "outputs": [
    {
     "data": {
      "text/plain": [
       "deck_expansion\n",
       "341    39575\n",
       "435    20265\n",
       "dtype: int64"
      ]
     },
     "execution_count": 23,
     "metadata": {},
     "output_type": "execute_result"
    }
   ],
   "source": [
    "deck_exp = decks.groupby('deck_expansion')\n",
    "deck_exp.size()"
   ]
  },
  {
   "cell_type": "code",
   "execution_count": 24,
   "metadata": {},
   "outputs": [
    {
     "data": {
      "text/html": [
       "<div>\n",
       "<style scoped>\n",
       "    .dataframe tbody tr th:only-of-type {\n",
       "        vertical-align: middle;\n",
       "    }\n",
       "\n",
       "    .dataframe tbody tr th {\n",
       "        vertical-align: top;\n",
       "    }\n",
       "\n",
       "    .dataframe thead th {\n",
       "        text-align: right;\n",
       "    }\n",
       "</style>\n",
       "<table border=\"1\" class=\"dataframe\">\n",
       "  <thead>\n",
       "    <tr style=\"text-align: right;\">\n",
       "      <th></th>\n",
       "      <th>deck_wins</th>\n",
       "      <th>deck_losses</th>\n",
       "    </tr>\n",
       "    <tr>\n",
       "      <th>deck_expansion</th>\n",
       "      <th></th>\n",
       "      <th></th>\n",
       "    </tr>\n",
       "  </thead>\n",
       "  <tbody>\n",
       "    <tr>\n",
       "      <th>341</th>\n",
       "      <td>117962</td>\n",
       "      <td>93776</td>\n",
       "    </tr>\n",
       "    <tr>\n",
       "      <th>435</th>\n",
       "      <td>48932</td>\n",
       "      <td>42330</td>\n",
       "    </tr>\n",
       "  </tbody>\n",
       "</table>\n",
       "</div>"
      ],
      "text/plain": [
       "                deck_wins  deck_losses\n",
       "deck_expansion                        \n",
       "341                117962        93776\n",
       "435                 48932        42330"
      ]
     },
     "execution_count": 24,
     "metadata": {},
     "output_type": "execute_result"
    }
   ],
   "source": [
    "deck_exp_totals = deck_exp.sum()\n",
    "deck_exp_totals.head()"
   ]
  },
  {
   "cell_type": "code",
   "execution_count": 25,
   "metadata": {},
   "outputs": [
    {
     "data": {
      "image/png": "[encoded data removed]",
      "text/plain": [
       "<Figure size 432x288 with 1 Axes>"
      ]
     },
     "metadata": {
      "needs_background": "light"
     },
     "output_type": "display_data"
    }
   ],
   "source": [
    "my_plot = deck_exp_totals.plot(kind='bar')"
   ]
  },
  {
   "cell_type": "code",
   "execution_count": 26,
   "metadata": {},
   "outputs": [
    {
     "name": "stdout",
     "output_type": "stream",
     "text": [
      "Brobnar\n",
      "Mars\n",
      "Sanctum\n"
     ]
    }
   ],
   "source": [
    "house_length = len(new_deck_df.loc[2]['houses'])\n",
    "houses = new_deck_df.loc[2]['houses'][2:house_length-2].split(\"', '\")\n",
    "print(houses[0])\n",
    "print(houses[1])\n",
    "print(houses[2])"
   ]
  },
  {
   "cell_type": "markdown",
   "metadata": {},
   "source": [
    "We want to create a new data frame from the original deck dataframe but replacing each deck row with 3 rows one for each house."
   ]
  },
  {
   "cell_type": "code",
   "execution_count": 27,
   "metadata": {},
   "outputs": [
    {
     "data": {
      "text/html": [
       "<div>\n",
       "<style scoped>\n",
       "    .dataframe tbody tr th:only-of-type {\n",
       "        vertical-align: middle;\n",
       "    }\n",
       "\n",
       "    .dataframe tbody tr th {\n",
       "        vertical-align: top;\n",
       "    }\n",
       "\n",
       "    .dataframe thead th {\n",
       "        text-align: right;\n",
       "    }\n",
       "</style>\n",
       "<table border=\"1\" class=\"dataframe\">\n",
       "  <thead>\n",
       "    <tr style=\"text-align: right;\">\n",
       "      <th></th>\n",
       "      <th>Unnamed: 0</th>\n",
       "      <th>Unnamed: 0.1</th>\n",
       "      <th>deck_id</th>\n",
       "      <th>deck_name</th>\n",
       "      <th>deck_wins</th>\n",
       "      <th>deck_losses</th>\n",
       "      <th>deck_expansion</th>\n",
       "      <th>deck_list</th>\n",
       "      <th>houses</th>\n",
       "    </tr>\n",
       "  </thead>\n",
       "  <tbody>\n",
       "    <tr>\n",
       "      <th>0</th>\n",
       "      <td>3</td>\n",
       "      <td>3</td>\n",
       "      <td>6216e565-a790-4e5b-b89a-4a814917b94e</td>\n",
       "      <td>Leif “As”, Granjera de la Alcantarilla</td>\n",
       "      <td>2</td>\n",
       "      <td>1</td>\n",
       "      <td>435</td>\n",
       "      <td>['417b7845-2c67-4bcf-b411-20f2a7d86955'\\n '920...</td>\n",
       "      <td>['Brobnar', 'Dis', 'Sanctum']</td>\n",
       "    </tr>\n",
       "    <tr>\n",
       "      <th>1</th>\n",
       "      <td>25</td>\n",
       "      <td>0</td>\n",
       "      <td>50e28cdd-6e6b-4584-a8d1-1f22c081e906</td>\n",
       "      <td>“Ivan” Valencia, Ship Chieftain</td>\n",
       "      <td>1</td>\n",
       "      <td>3</td>\n",
       "      <td>435</td>\n",
       "      <td>['2ee769bb-b785-48ea-a5fa-a19a2af32bbc'\\n '2ee...</td>\n",
       "      <td>['Brobnar', 'Sanctum', 'Untamed']</td>\n",
       "    </tr>\n",
       "    <tr>\n",
       "      <th>2</th>\n",
       "      <td>28</td>\n",
       "      <td>3</td>\n",
       "      <td>3969e139-05d7-4a8a-ba60-0bb660cd057b</td>\n",
       "      <td>Nasir, Canal Survivalist</td>\n",
       "      <td>2</td>\n",
       "      <td>1</td>\n",
       "      <td>435</td>\n",
       "      <td>['a3234c40-8226-439d-bb8f-207ea26c9560'\\n '920...</td>\n",
       "      <td>['Brobnar', 'Mars', 'Sanctum']</td>\n",
       "    </tr>\n",
       "    <tr>\n",
       "      <th>3</th>\n",
       "      <td>31</td>\n",
       "      <td>6</td>\n",
       "      <td>5668bdc3-dea4-4226-92ba-91b003a5460e</td>\n",
       "      <td>Destrolack, Observatory Recluse</td>\n",
       "      <td>4</td>\n",
       "      <td>4</td>\n",
       "      <td>435</td>\n",
       "      <td>['7bf05cd5-7c03-4e06-9ace-bb730ff6100e'\\n '7bf...</td>\n",
       "      <td>['Logos', 'Sanctum', 'Untamed']</td>\n",
       "    </tr>\n",
       "    <tr>\n",
       "      <th>4</th>\n",
       "      <td>44</td>\n",
       "      <td>19</td>\n",
       "      <td>749780f6-7acb-402a-9fd6-f6fbbcf888e1</td>\n",
       "      <td>Tiberius, Navigatore della Guglia Aperta</td>\n",
       "      <td>8</td>\n",
       "      <td>4</td>\n",
       "      <td>341</td>\n",
       "      <td>['753bfb51-4ba7-4c0a-b141-a5b6388498c0'\\n 'aee...</td>\n",
       "      <td>['Mars', 'Shadows', 'Untamed']</td>\n",
       "    </tr>\n",
       "  </tbody>\n",
       "</table>\n",
       "</div>"
      ],
      "text/plain": [
       "   Unnamed: 0  Unnamed: 0.1                               deck_id  \\\n",
       "0           3             3  6216e565-a790-4e5b-b89a-4a814917b94e   \n",
       "1          25             0  50e28cdd-6e6b-4584-a8d1-1f22c081e906   \n",
       "2          28             3  3969e139-05d7-4a8a-ba60-0bb660cd057b   \n",
       "3          31             6  5668bdc3-dea4-4226-92ba-91b003a5460e   \n",
       "4          44            19  749780f6-7acb-402a-9fd6-f6fbbcf888e1   \n",
       "\n",
       "                                  deck_name  deck_wins  deck_losses  \\\n",
       "0    Leif “As”, Granjera de la Alcantarilla          2            1   \n",
       "1           “Ivan” Valencia, Ship Chieftain          1            3   \n",
       "2                  Nasir, Canal Survivalist          2            1   \n",
       "3           Destrolack, Observatory Recluse          4            4   \n",
       "4  Tiberius, Navigatore della Guglia Aperta          8            4   \n",
       "\n",
       "   deck_expansion                                          deck_list  \\\n",
       "0             435  ['417b7845-2c67-4bcf-b411-20f2a7d86955'\\n '920...   \n",
       "1             435  ['2ee769bb-b785-48ea-a5fa-a19a2af32bbc'\\n '2ee...   \n",
       "2             435  ['a3234c40-8226-439d-bb8f-207ea26c9560'\\n '920...   \n",
       "3             435  ['7bf05cd5-7c03-4e06-9ace-bb730ff6100e'\\n '7bf...   \n",
       "4             341  ['753bfb51-4ba7-4c0a-b141-a5b6388498c0'\\n 'aee...   \n",
       "\n",
       "                              houses  \n",
       "0      ['Brobnar', 'Dis', 'Sanctum']  \n",
       "1  ['Brobnar', 'Sanctum', 'Untamed']  \n",
       "2     ['Brobnar', 'Mars', 'Sanctum']  \n",
       "3    ['Logos', 'Sanctum', 'Untamed']  \n",
       "4     ['Mars', 'Shadows', 'Untamed']  "
      ]
     },
     "execution_count": 27,
     "metadata": {},
     "output_type": "execute_result"
    }
   ],
   "source": [
    "new_deck_df.head()"
   ]
  },
  {
   "cell_type": "code",
   "execution_count": 45,
   "metadata": {},
   "outputs": [
    {
     "data": {
      "text/html": [
       "<div>\n",
       "<style scoped>\n",
       "    .dataframe tbody tr th:only-of-type {\n",
       "        vertical-align: middle;\n",
       "    }\n",
       "\n",
       "    .dataframe tbody tr th {\n",
       "        vertical-align: top;\n",
       "    }\n",
       "\n",
       "    .dataframe thead th {\n",
       "        text-align: right;\n",
       "    }\n",
       "</style>\n",
       "<table border=\"1\" class=\"dataframe\">\n",
       "  <thead>\n",
       "    <tr style=\"text-align: right;\">\n",
       "      <th></th>\n",
       "      <th>deck_id</th>\n",
       "      <th>deck_name</th>\n",
       "      <th>deck_wins</th>\n",
       "      <th>deck_losses</th>\n",
       "      <th>deck_expansion</th>\n",
       "      <th>deck_house</th>\n",
       "    </tr>\n",
       "  </thead>\n",
       "  <tbody>\n",
       "  </tbody>\n",
       "</table>\n",
       "</div>"
      ],
      "text/plain": [
       "Empty DataFrame\n",
       "Columns: [deck_id, deck_name, deck_wins, deck_losses, deck_expansion, deck_house]\n",
       "Index: []"
      ]
     },
     "execution_count": 45,
     "metadata": {},
     "output_type": "execute_result"
    }
   ],
   "source": [
    "house_deck_df = pd.DataFrame(columns=['deck_id', 'deck_name', 'deck_wins', 'deck_losses', 'deck_expansion', 'deck_house'])\n",
    "house_deck_df"
   ]
  },
  {
   "cell_type": "code",
   "execution_count": 29,
   "metadata": {},
   "outputs": [],
   "source": [
    "columns = ['deck_id', 'deck_name', 'deck_wins', 'deck_losses', 'deck_expansion', 'deck_house']"
   ]
  },
  {
   "cell_type": "code",
   "execution_count": 47,
   "metadata": {},
   "outputs": [
    {
     "data": {
      "text/html": [
       "<div>\n",
       "<style scoped>\n",
       "    .dataframe tbody tr th:only-of-type {\n",
       "        vertical-align: middle;\n",
       "    }\n",
       "\n",
       "    .dataframe tbody tr th {\n",
       "        vertical-align: top;\n",
       "    }\n",
       "\n",
       "    .dataframe thead th {\n",
       "        text-align: right;\n",
       "    }\n",
       "</style>\n",
       "<table border=\"1\" class=\"dataframe\">\n",
       "  <thead>\n",
       "    <tr style=\"text-align: right;\">\n",
       "      <th></th>\n",
       "      <th>deck_id</th>\n",
       "      <th>deck_name</th>\n",
       "      <th>deck_wins</th>\n",
       "      <th>deck_losses</th>\n",
       "      <th>deck_expansion</th>\n",
       "      <th>deck_house</th>\n",
       "    </tr>\n",
       "  </thead>\n",
       "  <tbody>\n",
       "    <tr>\n",
       "      <th>0</th>\n",
       "      <td>6216e565-a790-4e5b-b89a-4a814917b94e</td>\n",
       "      <td>Leif “As”, Granjera de la Alcantarilla</td>\n",
       "      <td>2</td>\n",
       "      <td>1</td>\n",
       "      <td>435</td>\n",
       "      <td>Brobnar</td>\n",
       "    </tr>\n",
       "    <tr>\n",
       "      <th>1</th>\n",
       "      <td>6216e565-a790-4e5b-b89a-4a814917b94e</td>\n",
       "      <td>Leif “As”, Granjera de la Alcantarilla</td>\n",
       "      <td>2</td>\n",
       "      <td>1</td>\n",
       "      <td>435</td>\n",
       "      <td>Dis</td>\n",
       "    </tr>\n",
       "    <tr>\n",
       "      <th>2</th>\n",
       "      <td>6216e565-a790-4e5b-b89a-4a814917b94e</td>\n",
       "      <td>Leif “As”, Granjera de la Alcantarilla</td>\n",
       "      <td>2</td>\n",
       "      <td>1</td>\n",
       "      <td>435</td>\n",
       "      <td>Sanctum</td>\n",
       "    </tr>\n",
       "  </tbody>\n",
       "</table>\n",
       "</div>"
      ],
      "text/plain": [
       "                                deck_id  \\\n",
       "0  6216e565-a790-4e5b-b89a-4a814917b94e   \n",
       "1  6216e565-a790-4e5b-b89a-4a814917b94e   \n",
       "2  6216e565-a790-4e5b-b89a-4a814917b94e   \n",
       "\n",
       "                                deck_name  deck_wins  deck_losses  \\\n",
       "0  Leif “As”, Granjera de la Alcantarilla          2            1   \n",
       "1  Leif “As”, Granjera de la Alcantarilla          2            1   \n",
       "2  Leif “As”, Granjera de la Alcantarilla          2            1   \n",
       "\n",
       "   deck_expansion deck_house  \n",
       "0             435    Brobnar  \n",
       "1             435        Dis  \n",
       "2             435    Sanctum  "
      ]
     },
     "execution_count": 47,
     "metadata": {},
     "output_type": "execute_result"
    }
   ],
   "source": [
    "n = 0\n",
    "house_length = len(new_deck_df.loc[n]['houses'])\n",
    "houses = new_deck_df.loc[n]['houses'][2:house_length-2].split(\"', '\")\n",
    "house_list = []\n",
    "for i in houses:\n",
    "    new_row = [new_deck_df.iloc[n][\"deck_id\"], new_deck_df.iloc[n][\"deck_name\"], new_deck_df.iloc[n][\"deck_wins\"], new_deck_df.iloc[n][\"deck_losses\"], new_deck_df.iloc[n][\"deck_expansion\"], i]\n",
    "    house_list.append(new_row)\n",
    "df = pd.DataFrame(house_list, columns = columns)\n",
    "df"
   ]
  },
  {
   "cell_type": "code",
   "execution_count": 43,
   "metadata": {},
   "outputs": [
    {
     "data": {
      "text/html": [
       "<div>\n",
       "<style scoped>\n",
       "    .dataframe tbody tr th:only-of-type {\n",
       "        vertical-align: middle;\n",
       "    }\n",
       "\n",
       "    .dataframe tbody tr th {\n",
       "        vertical-align: top;\n",
       "    }\n",
       "\n",
       "    .dataframe thead th {\n",
       "        text-align: right;\n",
       "    }\n",
       "</style>\n",
       "<table border=\"1\" class=\"dataframe\">\n",
       "  <thead>\n",
       "    <tr style=\"text-align: right;\">\n",
       "      <th></th>\n",
       "      <th>deck_id</th>\n",
       "      <th>deck_name</th>\n",
       "      <th>deck_wins</th>\n",
       "      <th>deck_losses</th>\n",
       "      <th>deck_expansion</th>\n",
       "      <th>deck_house</th>\n",
       "    </tr>\n",
       "  </thead>\n",
       "  <tbody>\n",
       "  </tbody>\n",
       "</table>\n",
       "</div>"
      ],
      "text/plain": [
       "Empty DataFrame\n",
       "Columns: [deck_id, deck_name, deck_wins, deck_losses, deck_expansion, deck_house]\n",
       "Index: []"
      ]
     },
     "execution_count": 43,
     "metadata": {},
     "output_type": "execute_result"
    }
   ],
   "source": [
    "house_deck_df"
   ]
  },
  {
   "cell_type": "code",
   "execution_count": null,
   "metadata": {},
   "outputs": [],
   "source": []
  },
  {
   "cell_type": "code",
   "execution_count": null,
   "metadata": {},
   "outputs": [],
   "source": []
  },
  {
   "cell_type": "code",
   "execution_count": null,
   "metadata": {},
   "outputs": [],
   "source": []
  },
  {
   "cell_type": "code",
   "execution_count": null,
   "metadata": {},
   "outputs": [],
   "source": []
  },
  {
   "cell_type": "code",
   "execution_count": null,
   "metadata": {},
   "outputs": [],
   "source": []
  }
 ],
 "metadata": {
  "kernelspec": {
   "display_name": "Python 3",
   "language": "python",
   "name": "python3"
  },
  "language_info": {
   "codemirror_mode": {
    "name": "ipython",
    "version": 3
   },
   "file_extension": ".py",
   "mimetype": "text/x-python",
   "name": "python",
   "nbconvert_exporter": "python",
   "pygments_lexer": "ipython3",
   "version": "3.7.3"
  }
 },
 "nbformat": 4,
 "nbformat_minor": 2
}
