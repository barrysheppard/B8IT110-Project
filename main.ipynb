{
 "cells": [
  {
   "cell_type": "markdown",
   "metadata": {},
   "source": [
    "# Project"
   ]
  },
  {
   "cell_type": "markdown",
   "metadata": {},
   "source": [
    "The aim of this Capstone project is to consolidate the knowledge, skills and competences acquired by learners during this programme. In this project students will select, specify, design, justify and implement a data analytics investigation that makes use of large data sets. The project will necessarily require data ingestion, wrangling, computation and analyses, and the production and presentation of a project and report. Students are guided by faculty in the selection of a data set, scope of investigation, initial exploratory data analysis, and formulation of hypotheses."
   ]
  },
  {
   "cell_type": "code",
   "execution_count": 1,
   "metadata": {},
   "outputs": [],
   "source": [
    "import pandas as pd\n",
    "import numpy as np\n",
    "import matplotlib as mpl\n",
    "import matplotlib.pyplot as plt\n",
    "import ast"
   ]
  },
  {
   "cell_type": "code",
   "execution_count": 2,
   "metadata": {},
   "outputs": [
    {
     "name": "stdout",
     "output_type": "stream",
     "text": [
      "This is a test\n"
     ]
    }
   ],
   "source": [
    "print('This is a test')"
   ]
  },
  {
   "cell_type": "code",
   "execution_count": 3,
   "metadata": {},
   "outputs": [],
   "source": [
    "from clean import create_card_df\n",
    "from clean import create_deck_df"
   ]
  },
  {
   "cell_type": "code",
   "execution_count": 4,
   "metadata": {},
   "outputs": [
    {
     "name": "stdout",
     "output_type": "stream",
     "text": [
      "Unnamed: 0                                                        0\n",
      "deck_id                        16ec51ad-9347-4fc9-bda5-cbb4a5d16150\n",
      "deck_name                   E. Fairfax, Engenheiro do Reino da Fome\n",
      "deck_wins                                                         0\n",
      "deck_losses                                                       0\n",
      "deck_expansion                                                  341\n",
      "deck_list         [892c0a68-5213-48b2-8883-2ac3c97ac83c, 892c0a6...\n",
      "houses                                   ['Dis', 'Mars', 'Sanctum']\n",
      "Name: 0, dtype: object\n"
     ]
    }
   ],
   "source": [
    "deck_df = create_deck_df()\n",
    "print(deck_df.iloc[0])"
   ]
  },
  {
   "cell_type": "code",
   "execution_count": 5,
   "metadata": {},
   "outputs": [
    {
     "name": "stdout",
     "output_type": "stream",
     "text": [
      "Total decks:1232325\n"
     ]
    }
   ],
   "source": [
    "print(\"Total decks:\" + str(len(deck_df)))"
   ]
  },
  {
   "cell_type": "code",
   "execution_count": 6,
   "metadata": {},
   "outputs": [
    {
     "name": "stdout",
     "output_type": "stream",
     "text": [
      "Decks with wins:59840\n"
     ]
    }
   ],
   "source": [
    "print(\"Decks with wins:\" + str(len(deck_df.loc[(deck_df['deck_wins'] > 0)])))"
   ]
  },
  {
   "cell_type": "code",
   "execution_count": 7,
   "metadata": {},
   "outputs": [
    {
     "name": "stdout",
     "output_type": "stream",
     "text": [
      "Unnamed: 0                                        0\n",
      "card_id        bfaef0df-911c-4f21-a452-83d1144dc0c4\n",
      "card_title                        Ixxyxli Fixfinger\n",
      "card_type                                  Creature\n",
      "card_amber                                        0\n",
      "card_power                                        2\n",
      "card_armor                                        2\n",
      "card_traits                     Martian • Scientist\n",
      "Name: 0, dtype: object\n"
     ]
    }
   ],
   "source": [
    "card_df = create_card_df()\n",
    "print(card_df.iloc[0])"
   ]
  },
  {
   "cell_type": "code",
   "execution_count": 8,
   "metadata": {},
   "outputs": [
    {
     "name": "stdout",
     "output_type": "stream",
     "text": [
      "Total cards:3634\n"
     ]
    }
   ],
   "source": [
    "print(\"Total cards:\" + str(len(card_df)))"
   ]
  },
  {
   "cell_type": "code",
   "execution_count": 103,
   "metadata": {},
   "outputs": [
    {
     "name": "stdout",
     "output_type": "stream",
     "text": [
      "Gateway to Dis\n"
     ]
    }
   ],
   "source": [
    "x = card_df.loc[(card_df['card_id'] == deck_df.iloc[0]['deck_list'][3])]['card_title']\n",
    "print(x.item())"
   ]
  },
  {
   "cell_type": "code",
   "execution_count": 112,
   "metadata": {},
   "outputs": [],
   "source": [
    "winning_decks = deck_df.loc[(deck_df['deck_wins'] > 0)]"
   ]
  },
  {
   "cell_type": "code",
   "execution_count": 11,
   "metadata": {},
   "outputs": [
    {
     "name": "stdout",
     "output_type": "stream",
     "text": [
      "Total decks:59840\n"
     ]
    }
   ],
   "source": [
    "print(\"Total decks:\" + str(len(winning_decks)))"
   ]
  },
  {
   "cell_type": "code",
   "execution_count": 12,
   "metadata": {},
   "outputs": [],
   "source": [
    "def get_card_names(deck_list):\n",
    "    '''From np array of card ids return list of card names'''\n",
    "    x = []\n",
    "    for i in deck_list:\n",
    "        print(card_df.loc[(card_df['card_id'] == i)]['card_title'].item())\n",
    "    return(x)"
   ]
  },
  {
   "cell_type": "code",
   "execution_count": 122,
   "metadata": {},
   "outputs": [
    {
     "name": "stdout",
     "output_type": "stream",
     "text": [
      "Bouncing Deathquark\n",
      "Effervescent Principle\n",
      "Labwork\n",
      "Labwork\n",
      "Library Access\n",
      "Phase Shift\n",
      "Wild Wormhole\n",
      "Library of Babble\n",
      "Mother\n",
      "Ozmo, Martianologist\n",
      "Titan Mechanic\n",
      "Titan Mechanic\n",
      "Blinding Light\n",
      "Blinding Light\n",
      "Blinding Light\n",
      "Cleansing Wave\n",
      "Glorious Few\n",
      "Inspiration\n",
      "Inspiration\n",
      "Hallowed Blaster\n",
      "Whispering Reliquary\n",
      "Champion Anaphiel\n",
      "Sequis\n",
      "The Vaultkeeper\n",
      "Bait and Switch\n",
      "Miasma\n",
      "Miasma\n",
      "Bad Penny\n",
      "Nexus\n",
      "Noddy the Thief\n",
      "Noddy the Thief\n",
      "Dodger\n",
      "Dodger\n",
      "Shadow Self\n",
      "Silvertooth\n",
      "Umbra\n",
      "[]\n"
     ]
    }
   ],
   "source": [
    "print(get_card_names(winning_decks.loc[1000]['deck_list']))"
   ]
  },
  {
   "cell_type": "code",
   "execution_count": 119,
   "metadata": {},
   "outputs": [
    {
     "name": "stdout",
     "output_type": "stream",
     "text": [
      "Unnamed: 0                                                        3\n",
      "deck_id                        6216e565-a790-4e5b-b89a-4a814917b94e\n",
      "deck_name                    Leif “As”, Granjera de la Alcantarilla\n",
      "deck_wins                                                         2\n",
      "deck_losses                                                       1\n",
      "deck_expansion                                                  435\n",
      "deck_list         [417b7845-2c67-4bcf-b411-20f2a7d86955, 920f300...\n",
      "houses                                ['Brobnar', 'Dis', 'Sanctum']\n",
      "Name: 3, dtype: object\n"
     ]
    }
   ],
   "source": [
    "print(winning_decks.iloc[0])"
   ]
  },
  {
   "cell_type": "code",
   "execution_count": 24,
   "metadata": {},
   "outputs": [
    {
     "name": "stdout",
     "output_type": "stream",
     "text": [
      "['Brobnar', 'Dis', 'Sanctum']\n"
     ]
    }
   ],
   "source": [
    "print(ast.literal_eval(winning_decks.iloc[0]['houses']))"
   ]
  },
  {
   "cell_type": "code",
   "execution_count": null,
   "metadata": {},
   "outputs": [],
   "source": []
  },
  {
   "cell_type": "code",
   "execution_count": null,
   "metadata": {},
   "outputs": [],
   "source": [
    "deck_df['deck_list_names'] = deck_df['deck_list'].apply(get_card_names)"
   ]
  },
  {
   "cell_type": "code",
   "execution_count": null,
   "metadata": {},
   "outputs": [],
   "source": [
    "print(deck_df.iloc[0]['deck_list_names'])"
   ]
  },
  {
   "cell_type": "code",
   "execution_count": 25,
   "metadata": {},
   "outputs": [
    {
     "name": "stdout",
     "output_type": "stream",
     "text": [
      "Unnamed: 0                                        1\n",
      "card_id        e3a8d05a-252a-4d07-bebe-8a5b69efb98c\n",
      "card_title                             Yantzee Gang\n",
      "card_type                                  Creature\n",
      "card_amber                                        0\n",
      "card_power                                        5\n",
      "card_armor                                      NaN\n",
      "card_traits                             Elf • Thief\n",
      "Name: 1, dtype: object\n"
     ]
    }
   ],
   "source": [
    "print(card_df.iloc[1])"
   ]
  },
  {
   "cell_type": "code",
   "execution_count": 26,
   "metadata": {},
   "outputs": [
    {
     "name": "stdout",
     "output_type": "stream",
     "text": [
      "Unnamed: 0                                      120\n",
      "card_id        67c04993-f6b5-4c35-9b25-456f464ce530\n",
      "card_title                        Combat Pheromones\n",
      "card_type                                  Artifact\n",
      "card_amber                                        1\n",
      "card_power                                      NaN\n",
      "card_armor                                      NaN\n",
      "card_traits                                    Item\n",
      "Name: 120, dtype: object\n"
     ]
    }
   ],
   "source": [
    "print(card_df.iloc[120])"
   ]
  },
  {
   "cell_type": "code",
   "execution_count": 123,
   "metadata": {},
   "outputs": [],
   "source": [
    "winning_decks.to_csv(\"Winning_Decks.csv\", header=True)"
   ]
  },
  {
   "cell_type": "code",
   "execution_count": 124,
   "metadata": {},
   "outputs": [],
   "source": [
    "card_df.to_csv(\"Cards.csv\", header=True)"
   ]
  }
 ],
 "metadata": {
  "kernelspec": {
   "display_name": "Python 3",
   "language": "python",
   "name": "python3"
  },
  "language_info": {
   "codemirror_mode": {
    "name": "ipython",
    "version": 3
   },
   "file_extension": ".py",
   "mimetype": "text/x-python",
   "name": "python",
   "nbconvert_exporter": "python",
   "pygments_lexer": "ipython3",
   "version": "3.7.3"
  }
 },
 "nbformat": 4,
 "nbformat_minor": 2
}
