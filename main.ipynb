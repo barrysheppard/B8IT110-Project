{
 "cells": [
  {
   "cell_type": "markdown",
   "metadata": {},
   "source": [
    "# Project"
   ]
  },
  {
   "cell_type": "markdown",
   "metadata": {},
   "source": [
    "The aim of this Capstone project is to consolidate the knowledge, skills and competences acquired by learners during this programme. In this project students will select, specify, design, justify and implement a data analytics investigation that makes use of large data sets. The project will necessarily require data ingestion, wrangling, computation and analyses, and the production and presentation of a project and report. Students are guided by faculty in the selection of a data set, scope of investigation, initial exploratory data analysis, and formulation of hypotheses."
   ]
  },
  {
   "cell_type": "code",
   "execution_count": 1,
   "metadata": {},
   "outputs": [],
   "source": [
    "import pandas as pd\n",
    "import numpy as np\n",
    "import matplotlib as mpl\n",
    "import matplotlib.pyplot as plt\n",
    "import ast"
   ]
  },
  {
   "cell_type": "code",
   "execution_count": 2,
   "metadata": {},
   "outputs": [
    {
     "name": "stdout",
     "output_type": "stream",
     "text": [
      "This is a test\n"
     ]
    }
   ],
   "source": [
    "print('This is a test')"
   ]
  },
  {
   "cell_type": "code",
   "execution_count": 10,
   "metadata": {},
   "outputs": [],
   "source": [
    "from clean import create_card_df\n",
    "from clean import create_deck_df"
   ]
  },
  {
   "cell_type": "code",
   "execution_count": 4,
   "metadata": {},
   "outputs": [
    {
     "name": "stdout",
     "output_type": "stream",
     "text": [
      "Unnamed: 0                                                        0\n",
      "deck_id                        28c383f9-353c-4d99-9d5f-9acdc5d0379a\n",
      "deck_name                              Grinfast, the Boss of Daring\n",
      "deck_wins                                                         0\n",
      "deck_losses                                                       0\n",
      "deck_expansion                                                  341\n",
      "deck_list         [aa9b8dfe-3817-4f9d-b4c8-95c5c303c513, f4497a0...\n",
      "houses                              ['Logos', 'Sanctum', 'Untamed']\n",
      "Name: 0, dtype: object\n"
     ]
    }
   ],
   "source": [
    "deck_df = create_deck_df()\n",
    "print(deck_df.iloc[0])"
   ]
  },
  {
   "cell_type": "code",
   "execution_count": 5,
   "metadata": {},
   "outputs": [
    {
     "name": "stdout",
     "output_type": "stream",
     "text": [
      "Total decks:675075\n"
     ]
    }
   ],
   "source": [
    "print(\"Total decks:\" + str(len(deck_df)))"
   ]
  },
  {
   "cell_type": "code",
   "execution_count": 6,
   "metadata": {},
   "outputs": [
    {
     "name": "stdout",
     "output_type": "stream",
     "text": [
      "Decks with wins:19542\n"
     ]
    }
   ],
   "source": [
    "print(\"Decks with wins:\" + str(len(deck_df.loc[(deck_df['deck_wins'] > 0)])))"
   ]
  },
  {
   "cell_type": "code",
   "execution_count": 11,
   "metadata": {},
   "outputs": [
    {
     "name": "stdout",
     "output_type": "stream",
     "text": [
      "Unnamed: 0                                        0\n",
      "card_id        469dd68d-cdd6-40e0-8fc9-a167c45a9aea\n",
      "card_title                           Grasping Vines\n",
      "card_type                                    Action\n",
      "card_amber                                        1\n",
      "card_power                                        0\n",
      "card_armor                                        0\n",
      "card_traits                                     NaN\n",
      "Name: 0, dtype: object\n"
     ]
    }
   ],
   "source": [
    "card_df = create_card_df()\n",
    "print(card_df.iloc[0])"
   ]
  },
  {
   "cell_type": "code",
   "execution_count": null,
   "metadata": {},
   "outputs": [],
   "source": [
    "print(\"Total cards:\" + str(len(card_df)))"
   ]
  },
  {
   "cell_type": "code",
   "execution_count": 13,
   "metadata": {},
   "outputs": [
    {
     "name": "stdout",
     "output_type": "stream",
     "text": [
      "19    Effervescent Principle\n",
      "Name: card_title, dtype: object\n"
     ]
    }
   ],
   "source": [
    "print(card_df.loc[(card_df['card_id'] == deck_df.iloc[0]['deck_list'][0])]['card_title'])"
   ]
  },
  {
   "cell_type": "code",
   "execution_count": 8,
   "metadata": {},
   "outputs": [
    {
     "name": "stdout",
     "output_type": "stream",
     "text": [
      "aa9b8dfe-3817-4f9d-b4c8-95c5c303c513\n"
     ]
    }
   ],
   "source": [
    "print()"
   ]
  },
  {
   "cell_type": "code",
   "execution_count": 21,
   "metadata": {},
   "outputs": [],
   "source": [
    "def get_card_names(deck_list):\n",
    "    x = []\n",
    "    for i in deck_list:\n",
    "        x.append(card_df.loc[(card_df['card_id'] == i)]['card_title'])\n",
    "    return(x)"
   ]
  },
  {
   "cell_type": "code",
   "execution_count": null,
   "metadata": {},
   "outputs": [],
   "source": [
    "deck_df['deck_list_names'] = deck_df['deck_list'].apply(get_card_names)"
   ]
  },
  {
   "cell_type": "code",
   "execution_count": null,
   "metadata": {},
   "outputs": [],
   "source": [
    "print(deck_df.iloc[0]['deck_list_names'])"
   ]
  },
  {
   "cell_type": "code",
   "execution_count": null,
   "metadata": {},
   "outputs": [],
   "source": []
  }
 ],
 "metadata": {
  "kernelspec": {
   "display_name": "Python 3",
   "language": "python",
   "name": "python3"
  },
  "language_info": {
   "codemirror_mode": {
    "name": "ipython",
    "version": 3
   },
   "file_extension": ".py",
   "mimetype": "text/x-python",
   "name": "python",
   "nbconvert_exporter": "python",
   "pygments_lexer": "ipython3",
   "version": "3.7.3"
  }
 },
 "nbformat": 4,
 "nbformat_minor": 2
}
