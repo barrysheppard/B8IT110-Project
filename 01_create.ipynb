{
 "cells": [
  {
   "cell_type": "markdown",
   "metadata": {},
   "source": [
    "# Create data"
   ]
  },
  {
   "cell_type": "markdown",
   "metadata": {},
   "source": [
    "The aim of this Capstone project is to consolidate the knowledge, skills and competences acquired by learners during this programme. In this project students will select, specify, design, justify and implement a data analytics investigation that makes use of large data sets. The project will necessarily require data ingestion, wrangling, computation and analyses, and the production and presentation of a project and report. Students are guided by faculty in the selection of a data set, scope of investigation, initial exploratory data analysis, and formulation of hypotheses."
   ]
  },
  {
   "cell_type": "code",
   "execution_count": 1,
   "metadata": {},
   "outputs": [],
   "source": [
    "import pandas as pd\n",
    "import numpy as np\n",
    "import matplotlib as mpl\n",
    "import matplotlib.pyplot as plt\n",
    "import ast"
   ]
  },
  {
   "cell_type": "code",
   "execution_count": 2,
   "metadata": {},
   "outputs": [],
   "source": [
    "from clean import create_card_df\n",
    "from clean import create_deck_df"
   ]
  },
  {
   "cell_type": "code",
   "execution_count": 3,
   "metadata": {},
   "outputs": [],
   "source": [
    "deck_df = create_deck_df()"
   ]
  },
  {
   "cell_type": "markdown",
   "metadata": {},
   "source": [
    "Clear that unnamed column that snuck in"
   ]
  },
  {
   "cell_type": "code",
   "execution_count": 4,
   "metadata": {},
   "outputs": [],
   "source": [
    "deck_df.drop(deck_df.columns[deck_df.columns.str.contains('Unnamed',case = False)],axis = 1, inplace = True)"
   ]
  },
  {
   "cell_type": "code",
   "execution_count": 5,
   "metadata": {},
   "outputs": [
    {
     "data": {
      "text/html": [
       "<div>\n",
       "<style scoped>\n",
       "    .dataframe tbody tr th:only-of-type {\n",
       "        vertical-align: middle;\n",
       "    }\n",
       "\n",
       "    .dataframe tbody tr th {\n",
       "        vertical-align: top;\n",
       "    }\n",
       "\n",
       "    .dataframe thead th {\n",
       "        text-align: right;\n",
       "    }\n",
       "</style>\n",
       "<table border=\"1\" class=\"dataframe\">\n",
       "  <thead>\n",
       "    <tr style=\"text-align: right;\">\n",
       "      <th></th>\n",
       "      <th>deck_id</th>\n",
       "      <th>deck_name</th>\n",
       "      <th>deck_wins</th>\n",
       "      <th>deck_losses</th>\n",
       "      <th>deck_expansion</th>\n",
       "      <th>deck_list</th>\n",
       "      <th>houses</th>\n",
       "    </tr>\n",
       "  </thead>\n",
       "  <tbody>\n",
       "    <tr>\n",
       "      <th>0</th>\n",
       "      <td>16ec51ad-9347-4fc9-bda5-cbb4a5d16150</td>\n",
       "      <td>E. Fairfax, Engenheiro do Reino da Fome</td>\n",
       "      <td>0</td>\n",
       "      <td>0</td>\n",
       "      <td>341</td>\n",
       "      <td>['892c0a68-5213-48b2-8883-2ac3c97ac83c', '892c...</td>\n",
       "      <td>['Dis', 'Mars', 'Sanctum']</td>\n",
       "    </tr>\n",
       "    <tr>\n",
       "      <th>1</th>\n",
       "      <td>50eda214-a036-4bc4-9b67-ade8d9c03994</td>\n",
       "      <td>獨臂征服者</td>\n",
       "      <td>0</td>\n",
       "      <td>0</td>\n",
       "      <td>341</td>\n",
       "      <td>['5fbcee22-232c-46ba-84e0-3baad3946220', 'd438...</td>\n",
       "      <td>['Brobnar', 'Dis', 'Shadows']</td>\n",
       "    </tr>\n",
       "    <tr>\n",
       "      <th>2</th>\n",
       "      <td>0fd51fa2-56d4-4c30-9e7e-6f94fd693e6c</td>\n",
       "      <td>長城海盜“幽靈”塞爾達</td>\n",
       "      <td>0</td>\n",
       "      <td>0</td>\n",
       "      <td>341</td>\n",
       "      <td>['892c0a68-5213-48b2-8883-2ac3c97ac83c', '892c...</td>\n",
       "      <td>['Dis', 'Logos', 'Mars']</td>\n",
       "    </tr>\n",
       "    <tr>\n",
       "      <th>3</th>\n",
       "      <td>6216e565-a790-4e5b-b89a-4a814917b94e</td>\n",
       "      <td>Leif “As”, Granjera de la Alcantarilla</td>\n",
       "      <td>2</td>\n",
       "      <td>1</td>\n",
       "      <td>435</td>\n",
       "      <td>['417b7845-2c67-4bcf-b411-20f2a7d86955', '920f...</td>\n",
       "      <td>['Brobnar', 'Dis', 'Sanctum']</td>\n",
       "    </tr>\n",
       "    <tr>\n",
       "      <th>4</th>\n",
       "      <td>6d2baacd-eac1-405f-aeb3-a9fb5037b71e</td>\n",
       "      <td>Wilhelmina “Rex” Sethgundy</td>\n",
       "      <td>0</td>\n",
       "      <td>0</td>\n",
       "      <td>435</td>\n",
       "      <td>['4e3cd32d-2038-48dd-82e6-6b9b611dde29', '0994...</td>\n",
       "      <td>['Dis', 'Mars', 'Sanctum']</td>\n",
       "    </tr>\n",
       "  </tbody>\n",
       "</table>\n",
       "</div>"
      ],
      "text/plain": [
       "                                deck_id  \\\n",
       "0  16ec51ad-9347-4fc9-bda5-cbb4a5d16150   \n",
       "1  50eda214-a036-4bc4-9b67-ade8d9c03994   \n",
       "2  0fd51fa2-56d4-4c30-9e7e-6f94fd693e6c   \n",
       "3  6216e565-a790-4e5b-b89a-4a814917b94e   \n",
       "4  6d2baacd-eac1-405f-aeb3-a9fb5037b71e   \n",
       "\n",
       "                                 deck_name  deck_wins  deck_losses  \\\n",
       "0  E. Fairfax, Engenheiro do Reino da Fome          0            0   \n",
       "1                                    獨臂征服者          0            0   \n",
       "2                              長城海盜“幽靈”塞爾達          0            0   \n",
       "3   Leif “As”, Granjera de la Alcantarilla          2            1   \n",
       "4               Wilhelmina “Rex” Sethgundy          0            0   \n",
       "\n",
       "   deck_expansion                                          deck_list  \\\n",
       "0             341  ['892c0a68-5213-48b2-8883-2ac3c97ac83c', '892c...   \n",
       "1             341  ['5fbcee22-232c-46ba-84e0-3baad3946220', 'd438...   \n",
       "2             341  ['892c0a68-5213-48b2-8883-2ac3c97ac83c', '892c...   \n",
       "3             435  ['417b7845-2c67-4bcf-b411-20f2a7d86955', '920f...   \n",
       "4             435  ['4e3cd32d-2038-48dd-82e6-6b9b611dde29', '0994...   \n",
       "\n",
       "                          houses  \n",
       "0     ['Dis', 'Mars', 'Sanctum']  \n",
       "1  ['Brobnar', 'Dis', 'Shadows']  \n",
       "2       ['Dis', 'Logos', 'Mars']  \n",
       "3  ['Brobnar', 'Dis', 'Sanctum']  \n",
       "4     ['Dis', 'Mars', 'Sanctum']  "
      ]
     },
     "execution_count": 5,
     "metadata": {},
     "output_type": "execute_result"
    }
   ],
   "source": [
    "deck_df.head()"
   ]
  },
  {
   "cell_type": "code",
   "execution_count": 6,
   "metadata": {},
   "outputs": [
    {
     "name": "stdout",
     "output_type": "stream",
     "text": [
      "Total decks:1248450\n"
     ]
    }
   ],
   "source": [
    "print(\"Total decks:\" + str(len(deck_df)))"
   ]
  },
  {
   "cell_type": "code",
   "execution_count": 7,
   "metadata": {},
   "outputs": [
    {
     "name": "stdout",
     "output_type": "stream",
     "text": [
      "Decks with wins:60974\n"
     ]
    }
   ],
   "source": [
    "print(\"Decks with wins:\" + str(len(deck_df.loc[(deck_df['deck_wins'] > 0)])))"
   ]
  },
  {
   "cell_type": "code",
   "execution_count": 8,
   "metadata": {},
   "outputs": [
    {
     "name": "stdout",
     "output_type": "stream",
     "text": [
      "Decks with wins or losses:67321\n"
     ]
    }
   ],
   "source": [
    "print(\"Decks with wins or losses:\" + str(len(deck_df.loc[(deck_df['deck_wins'] > 0) | (deck_df['deck_losses'] > 0)])))"
   ]
  },
  {
   "cell_type": "code",
   "execution_count": 9,
   "metadata": {},
   "outputs": [
    {
     "name": "stdout",
     "output_type": "stream",
     "text": [
      "Unnamed: 0                                        0\n",
      "card_id        bfaef0df-911c-4f21-a452-83d1144dc0c4\n",
      "card_title                        Ixxyxli Fixfinger\n",
      "card_type                                  Creature\n",
      "card_amber                                        0\n",
      "card_power                                        2\n",
      "card_armor                                        2\n",
      "card_traits                     Martian • Scientist\n",
      "Name: 0, dtype: object\n"
     ]
    }
   ],
   "source": [
    "card_df = create_card_df()\n",
    "print(card_df.iloc[0])"
   ]
  },
  {
   "cell_type": "code",
   "execution_count": 10,
   "metadata": {},
   "outputs": [
    {
     "name": "stdout",
     "output_type": "stream",
     "text": [
      "Total cards:15081358\n"
     ]
    }
   ],
   "source": [
    "print(\"Total cards:\" + str(len(card_df)))"
   ]
  },
  {
   "cell_type": "markdown",
   "metadata": {},
   "source": [
    "Remove any blank columns that snuck in."
   ]
  },
  {
   "cell_type": "code",
   "execution_count": 11,
   "metadata": {},
   "outputs": [],
   "source": [
    "card_df.drop(card_df.columns[card_df.columns.str.contains('Unnamed',case = False)],axis = 1, inplace = True)"
   ]
  },
  {
   "cell_type": "markdown",
   "metadata": {},
   "source": [
    "Remove any duplicates so we just have a single entry for every card."
   ]
  },
  {
   "cell_type": "code",
   "execution_count": 12,
   "metadata": {},
   "outputs": [],
   "source": [
    "card_df.drop_duplicates(subset=None, keep='first', inplace=True)"
   ]
  },
  {
   "cell_type": "code",
   "execution_count": 13,
   "metadata": {},
   "outputs": [
    {
     "data": {
      "text/html": [
       "<div>\n",
       "<style scoped>\n",
       "    .dataframe tbody tr th:only-of-type {\n",
       "        vertical-align: middle;\n",
       "    }\n",
       "\n",
       "    .dataframe tbody tr th {\n",
       "        vertical-align: top;\n",
       "    }\n",
       "\n",
       "    .dataframe thead th {\n",
       "        text-align: right;\n",
       "    }\n",
       "</style>\n",
       "<table border=\"1\" class=\"dataframe\">\n",
       "  <thead>\n",
       "    <tr style=\"text-align: right;\">\n",
       "      <th></th>\n",
       "      <th>card_id</th>\n",
       "      <th>card_title</th>\n",
       "      <th>card_type</th>\n",
       "      <th>card_amber</th>\n",
       "      <th>card_power</th>\n",
       "      <th>card_armor</th>\n",
       "      <th>card_traits</th>\n",
       "    </tr>\n",
       "  </thead>\n",
       "  <tbody>\n",
       "    <tr>\n",
       "      <th>0</th>\n",
       "      <td>bfaef0df-911c-4f21-a452-83d1144dc0c4</td>\n",
       "      <td>Ixxyxli Fixfinger</td>\n",
       "      <td>Creature</td>\n",
       "      <td>0</td>\n",
       "      <td>2.0</td>\n",
       "      <td>2.0</td>\n",
       "      <td>Martian • Scientist</td>\n",
       "    </tr>\n",
       "    <tr>\n",
       "      <th>1</th>\n",
       "      <td>e3a8d05a-252a-4d07-bebe-8a5b69efb98c</td>\n",
       "      <td>Yantzee Gang</td>\n",
       "      <td>Creature</td>\n",
       "      <td>0</td>\n",
       "      <td>5.0</td>\n",
       "      <td>NaN</td>\n",
       "      <td>Elf • Thief</td>\n",
       "    </tr>\n",
       "    <tr>\n",
       "      <th>2</th>\n",
       "      <td>98e9c095-d134-4bed-b6db-4bfacb433473</td>\n",
       "      <td>Scientifical Hack</td>\n",
       "      <td>Artifact</td>\n",
       "      <td>1</td>\n",
       "      <td>NaN</td>\n",
       "      <td>NaN</td>\n",
       "      <td>Equation</td>\n",
       "    </tr>\n",
       "    <tr>\n",
       "      <th>3</th>\n",
       "      <td>30dfd43a-4973-482a-8a52-be37d8cf0ca8</td>\n",
       "      <td>Cull the Weak</td>\n",
       "      <td>Action</td>\n",
       "      <td>1</td>\n",
       "      <td>NaN</td>\n",
       "      <td>NaN</td>\n",
       "      <td>NaN</td>\n",
       "    </tr>\n",
       "    <tr>\n",
       "      <th>4</th>\n",
       "      <td>38b9c734-5286-4c94-b92a-28e3aa4f1357</td>\n",
       "      <td>Oubliette</td>\n",
       "      <td>Action</td>\n",
       "      <td>0</td>\n",
       "      <td>NaN</td>\n",
       "      <td>NaN</td>\n",
       "      <td>NaN</td>\n",
       "    </tr>\n",
       "  </tbody>\n",
       "</table>\n",
       "</div>"
      ],
      "text/plain": [
       "                                card_id         card_title card_type  \\\n",
       "0  bfaef0df-911c-4f21-a452-83d1144dc0c4  Ixxyxli Fixfinger  Creature   \n",
       "1  e3a8d05a-252a-4d07-bebe-8a5b69efb98c       Yantzee Gang  Creature   \n",
       "2  98e9c095-d134-4bed-b6db-4bfacb433473  Scientifical Hack  Artifact   \n",
       "3  30dfd43a-4973-482a-8a52-be37d8cf0ca8      Cull the Weak    Action   \n",
       "4  38b9c734-5286-4c94-b92a-28e3aa4f1357          Oubliette    Action   \n",
       "\n",
       "   card_amber  card_power  card_armor          card_traits  \n",
       "0           0         2.0         2.0  Martian • Scientist  \n",
       "1           0         5.0         NaN          Elf • Thief  \n",
       "2           1         NaN         NaN             Equation  \n",
       "3           1         NaN         NaN                  NaN  \n",
       "4           0         NaN         NaN                  NaN  "
      ]
     },
     "execution_count": 13,
     "metadata": {},
     "output_type": "execute_result"
    }
   ],
   "source": [
    "card_df.head()"
   ]
  },
  {
   "cell_type": "code",
   "execution_count": 14,
   "metadata": {},
   "outputs": [
    {
     "name": "stdout",
     "output_type": "stream",
     "text": [
      "Total cards:3636\n"
     ]
    }
   ],
   "source": [
    "print(\"Total cards:\" + str(len(card_df)))"
   ]
  },
  {
   "cell_type": "code",
   "execution_count": 15,
   "metadata": {},
   "outputs": [],
   "source": [
    "winning_decks = deck_df.loc[(deck_df['deck_wins'] > 0) | (deck_df['deck_losses'] > 0)]"
   ]
  },
  {
   "cell_type": "code",
   "execution_count": 16,
   "metadata": {},
   "outputs": [
    {
     "name": "stdout",
     "output_type": "stream",
     "text": [
      "Total decks:67321\n"
     ]
    }
   ],
   "source": [
    "print(\"Total decks:\" + str(len(winning_decks)))"
   ]
  },
  {
   "cell_type": "code",
   "execution_count": 17,
   "metadata": {},
   "outputs": [],
   "source": [
    "winning_decks.to_csv(\"data/winning_decks.csv\", header=True, index=False)"
   ]
  },
  {
   "cell_type": "code",
   "execution_count": 18,
   "metadata": {},
   "outputs": [],
   "source": [
    "card_df.to_csv(\"data/cards.csv\", header=True, index=False)"
   ]
  },
  {
   "cell_type": "markdown",
   "metadata": {},
   "source": [
    "-- End of File --"
   ]
  },
  {
   "cell_type": "code",
   "execution_count": null,
   "metadata": {},
   "outputs": [],
   "source": []
  }
 ],
 "metadata": {
  "kernelspec": {
   "display_name": "Python 3",
   "language": "python",
   "name": "python3"
  },
  "language_info": {
   "codemirror_mode": {
    "name": "ipython",
    "version": 3
   },
   "file_extension": ".py",
   "mimetype": "text/x-python",
   "name": "python",
   "nbconvert_exporter": "python",
   "pygments_lexer": "ipython3",
   "version": "3.7.3"
  }
 },
 "nbformat": 4,
 "nbformat_minor": 2
}
