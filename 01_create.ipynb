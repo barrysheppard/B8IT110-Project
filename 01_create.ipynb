{
 "cells": [
  {
   "cell_type": "markdown",
   "metadata": {},
   "source": [
    "# Create data"
   ]
  },
  {
   "cell_type": "markdown",
   "metadata": {},
   "source": [
    "The aim of this Capstone project is to consolidate the knowledge, skills and competences acquired by learners during this programme. In this project students will select, specify, design, justify and implement a data analytics investigation that makes use of large data sets. The project will necessarily require data ingestion, wrangling, computation and analyses, and the production and presentation of a project and report. Students are guided by faculty in the selection of a data set, scope of investigation, initial exploratory data analysis, and formulation of hypotheses."
   ]
  },
  {
   "cell_type": "code",
   "execution_count": 1,
   "metadata": {},
   "outputs": [],
   "source": [
    "import pandas as pd\n",
    "import numpy as np\n",
    "import matplotlib as mpl\n",
    "import matplotlib.pyplot as plt\n",
    "import ast"
   ]
  },
  {
   "cell_type": "code",
   "execution_count": 2,
   "metadata": {},
   "outputs": [],
   "source": [
    "from clean import create_card_df\n",
    "from clean import create_deck_df"
   ]
  },
  {
   "cell_type": "code",
   "execution_count": 3,
   "metadata": {},
   "outputs": [
    {
     "name": "stdout",
     "output_type": "stream",
     "text": [
      "Unnamed: 0                                                        0\n",
      "deck_id                        16ec51ad-9347-4fc9-bda5-cbb4a5d16150\n",
      "deck_name                   E. Fairfax, Engenheiro do Reino da Fome\n",
      "deck_wins                                                         0\n",
      "deck_losses                                                       0\n",
      "deck_expansion                                                  341\n",
      "deck_list         ['892c0a68-5213-48b2-8883-2ac3c97ac83c', '892c...\n",
      "houses                                   ['Dis', 'Mars', 'Sanctum']\n",
      "Name: 0, dtype: object\n"
     ]
    }
   ],
   "source": [
    "deck_df = create_deck_df()\n",
    "print(deck_df.iloc[0])"
   ]
  },
  {
   "cell_type": "code",
   "execution_count": 4,
   "metadata": {},
   "outputs": [
    {
     "name": "stdout",
     "output_type": "stream",
     "text": [
      "Total decks:1248450\n"
     ]
    }
   ],
   "source": [
    "print(\"Total decks:\" + str(len(deck_df)))"
   ]
  },
  {
   "cell_type": "code",
   "execution_count": 6,
   "metadata": {},
   "outputs": [
    {
     "name": "stdout",
     "output_type": "stream",
     "text": [
      "Decks with wins:59840\n"
     ]
    }
   ],
   "source": [
    "print(\"Decks with wins:\" + str(len(deck_df.loc[(deck_df['deck_wins'] > 0))])))"
   ]
  },
  {
   "cell_type": "code",
   "execution_count": 15,
   "metadata": {},
   "outputs": [
    {
     "name": "stdout",
     "output_type": "stream",
     "text": [
      "Decks with wins or losses:67321\n"
     ]
    }
   ],
   "source": [
    "print(\"Decks with wins or losses:\" + str(len(deck_df.loc[(deck_df['deck_wins'] > 0) | (deck_df['deck_losses'] > 0)])))"
   ]
  },
  {
   "cell_type": "code",
   "execution_count": 7,
   "metadata": {},
   "outputs": [
    {
     "name": "stdout",
     "output_type": "stream",
     "text": [
      "Unnamed: 0                                        0\n",
      "card_id        bfaef0df-911c-4f21-a452-83d1144dc0c4\n",
      "card_title                        Ixxyxli Fixfinger\n",
      "card_type                                  Creature\n",
      "card_amber                                        0\n",
      "card_power                                        2\n",
      "card_armor                                        2\n",
      "card_traits                     Martian • Scientist\n",
      "Name: 0, dtype: object\n"
     ]
    }
   ],
   "source": [
    "card_df = create_card_df()\n",
    "print(card_df.iloc[0])"
   ]
  },
  {
   "cell_type": "code",
   "execution_count": 8,
   "metadata": {},
   "outputs": [
    {
     "name": "stdout",
     "output_type": "stream",
     "text": [
      "Total cards:3634\n"
     ]
    }
   ],
   "source": [
    "print(\"Total cards:\" + str(len(card_df)))"
   ]
  },
  {
   "cell_type": "code",
   "execution_count": 16,
   "metadata": {},
   "outputs": [],
   "source": [
    "winning_decks = deck_df.loc[(deck_df['deck_wins'] > 0) | (deck_df['deck_losses'] > 0)]"
   ]
  },
  {
   "cell_type": "code",
   "execution_count": 17,
   "metadata": {},
   "outputs": [
    {
     "name": "stdout",
     "output_type": "stream",
     "text": [
      "Total decks:67321\n"
     ]
    }
   ],
   "source": [
    "print(\"Total decks:\" + str(len(winning_decks)))"
   ]
  },
  {
   "cell_type": "code",
   "execution_count": 18,
   "metadata": {},
   "outputs": [],
   "source": [
    "winning_decks.to_csv(\"data/winning_decks.csv\", header=True)"
   ]
  },
  {
   "cell_type": "code",
   "execution_count": 124,
   "metadata": {},
   "outputs": [],
   "source": [
    "card_df.to_csv(\"data/cards.csv\", header=True)"
   ]
  }
 ],
 "metadata": {
  "kernelspec": {
   "display_name": "Python 3",
   "language": "python",
   "name": "python3"
  },
  "language_info": {
   "codemirror_mode": {
    "name": "ipython",
    "version": 3
   },
   "file_extension": ".py",
   "mimetype": "text/x-python",
   "name": "python",
   "nbconvert_exporter": "python",
   "pygments_lexer": "ipython3",
   "version": "3.7.3"
  }
 },
 "nbformat": 4,
 "nbformat_minor": 2
}
